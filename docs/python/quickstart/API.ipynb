{
 "cells": [
  {
   "cell_type": "markdown",
   "metadata": {},
   "source": [
    "## Starting with the API"
   ]
  },
  {
   "cell_type": "markdown",
   "metadata": {},
   "source": [
    "This notebook explains how to use the `api` module. The `RadarlyApi` is defined in this module and is used by `radarly` in order to handle all the communication with the API. For example, it simplifies the OAuth2 authorization system and can also refresh your access token when it has expired."
   ]
  },
  {
   "cell_type": "code",
   "execution_count": 1,
   "metadata": {},
   "outputs": [],
   "source": [
    "from radarly.api import RadarlyApi\n",
    "from pprint import pprint"
   ]
  },
  {
   "cell_type": "markdown",
   "metadata": {},
   "source": [
    "### Initialization"
   ]
  },
  {
   "cell_type": "markdown",
   "metadata": {},
   "source": [
    "The `RadarlyApi` object must be initialized with at least two arguments : the `client_id` and the `client_secret`. These credentials are given by Linkfluence SAS and must not be shared because they are used in order to authentify each request in our systems. If you don't have theses credentials, please contact us to support-it@linkfluence.com."
   ]
  },
  {
   "cell_type": "code",
   "execution_count": 2,
   "metadata": {},
   "outputs": [
    {
     "data": {
      "text/plain": [
       "<RadarlyAPI.client_id=xxx>"
      ]
     },
     "execution_count": 2,
     "metadata": {},
     "output_type": "execute_result"
    }
   ],
   "source": [
    "credentials = {\n",
    "    \"client_id\": \"xxx\",\n",
    "    \"client_secret\": \"xxx\"\n",
    "}\n",
    "api = RadarlyApi(**credentials)\n",
    "api"
   ]
  },
  {
   "cell_type": "markdown",
   "metadata": {},
   "source": [
    "Some additional parameters can be set directly during the initialization of the API and will be used each time a request is made. For example, you can set  proxies and timeout for your requests. The proxies object must have the same template of the proxies object defined in `requests` module."
   ]
  },
  {
   "cell_type": "code",
   "execution_count": 3,
   "metadata": {},
   "outputs": [
    {
     "data": {
      "text/plain": [
       "<RadarlyAPI.client_id=xxx>"
      ]
     },
     "execution_count": 3,
     "metadata": {},
     "output_type": "execute_result"
    }
   ],
   "source": [
    "proxies = {\n",
    "    'http': 'http://127.0.0.1: 9000',\n",
    "    'https': 'https://127.0.0.1: 9000'\n",
    "}\n",
    "timeout = 120\n",
    "\n",
    "api = RadarlyApi(**credentials, proxies=proxies, timeout=timeout)\n",
    "api"
   ]
  },
  {
   "cell_type": "markdown",
   "metadata": {},
   "source": [
    "<div class=\"alert alert-warning\">\n",
    "\n",
    "Given that some requests in the API can take tens of seconds to process, you should consider, if you are using this option, to not to set a too low value the `timeout` argument. Otherwise, some requests can be stopped only because the timeout has expired.\n",
    "\n",
    "<div>"
   ]
  },
  {
   "cell_type": "markdown",
   "metadata": {},
   "source": [
    "Each optional arguments can be set after initialization."
   ]
  },
  {
   "cell_type": "code",
   "execution_count": 4,
   "metadata": {},
   "outputs": [],
   "source": [
    "api.proxies = None"
   ]
  },
  {
   "cell_type": "markdown",
   "metadata": {},
   "source": [
    "In order not to have to specify the API object in each request, you can set a default API. This API will be used each time you make a request to the RadarlyApi if no API object is specified (see later)."
   ]
  },
  {
   "cell_type": "code",
   "execution_count": 5,
   "metadata": {},
   "outputs": [
    {
     "data": {
      "text/plain": [
       "<RadarlyAPI.client_id=xxx>"
      ]
     },
     "execution_count": 5,
     "metadata": {},
     "output_type": "execute_result"
    }
   ],
   "source": [
    "RadarlyApi.set_default_api(api)\n",
    "# You can also retrieve the default API\n",
    "api = RadarlyApi.get_default_api()\n",
    "api"
   ]
  },
  {
   "cell_type": "markdown",
   "metadata": {},
   "source": [
    "Shortcut :"
   ]
  },
  {
   "cell_type": "code",
   "execution_count": 6,
   "metadata": {},
   "outputs": [
    {
     "data": {
      "text/plain": [
       "<RadarlyAPI.client_id=xxx>"
      ]
     },
     "execution_count": 6,
     "metadata": {},
     "output_type": "execute_result"
    }
   ],
   "source": [
    "api = RadarlyApi.init(**credentials, timeout=200, proxies=None)\n",
    "api"
   ]
  },
  {
   "cell_type": "markdown",
   "metadata": {},
   "source": [
    "<div class=\"alert alert-info\">\n",
    "\n",
    "It is strongly to use the `init` method.\n",
    "\n",
    "</div>"
   ]
  },
  {
   "cell_type": "markdown",
   "metadata": {},
   "source": [
    "### Make some requests"
   ]
  },
  {
   "cell_type": "markdown",
   "metadata": {},
   "source": [
    "This object can now be used in order to make each requests to the Radarly API. The `request` method defined in `RadarlyApi` used the same arguments as the `request` function of the `requests` module, but some behaviours are different. For example, if the root url of the API are not present in the URL of your request, it will be automatically added at the beginning of your URL.\n",
    "\n",
    "<div class=\"alert alert-info\">\n",
    "\n",
    "The root url of the API is a class variable of the `RadarlyApi` object (check `RadarlyApi.root_url`)\n",
    "\n",
    "</div>"
   ]
  },
  {
   "cell_type": "code",
   "execution_count": 7,
   "metadata": {},
   "outputs": [
    {
     "data": {
      "text/plain": [
       "'https://radarly.linkfluence.com'"
      ]
     },
     "execution_count": 7,
     "metadata": {},
     "output_type": "execute_result"
    }
   ],
   "source": [
    "api.root_url"
   ]
  },
  {
   "cell_type": "code",
   "execution_count": 8,
   "metadata": {
    "scrolled": false
   },
   "outputs": [
    {
     "name": "stdout",
     "output_type": "stream",
     "text": [
      "{'accountId': 1,\n",
      " 'apps': [...],\n",
      " 'canCreateProject': True,\n",
      " 'connected': 1520850455148,\n",
      " 'connectionCount': 35,\n",
      " 'created': '2018-02-12T17:59:55.105Z',\n",
      " 'currentProjectId': 1014,\n",
      " 'email': 'alexandre.aheto@linkfluence.com',\n",
      " 'engagement': {...},\n",
      " 'id': 16246,\n",
      " 'isDisabled': False,\n",
      " 'isInternal': True,\n",
      " 'isManager': True,\n",
      " 'isPending': False,\n",
      " 'isRoot': True,\n",
      " 'level': 'root',\n",
      " 'locale': 'en_GB',\n",
      " 'name': 'Alexandre Aheto',\n",
      " 'pictureId': None,\n",
      " 'projects': [...],\n",
      " 'theme': 'dark',\n",
      " 'timezone': 'Europe/Paris',\n",
      " 'updated': '2018-02-15T15:19:54.834Z'}\n"
     ]
    }
   ],
   "source": [
    "current_user = api.request('GET', '/1.0/users.json')\n",
    "pprint(current_user, depth=1)"
   ]
  },
  {
   "cell_type": "markdown",
   "metadata": {},
   "source": [
    "The result is a JSON file, as in a normal requet. If you want to have more interactive objects in the response, you can use our special methods (there are explained in the next step of this tutorial)."
   ]
  },
  {
   "cell_type": "markdown",
   "metadata": {},
   "source": [
    "### Check the rates"
   ]
  },
  {
   "cell_type": "code",
   "execution_count": 9,
   "metadata": {},
   "outputs": [
    {
     "data": {
      "text/plain": [
       "<RateLimit.slow=1%.medium=0%.default=1%>"
      ]
     },
     "execution_count": 9,
     "metadata": {},
     "output_type": "execute_result"
    }
   ],
   "source": [
    "api.rates"
   ]
  }
 ],
 "metadata": {
  "kernelspec": {
   "display_name": "Python 3",
   "language": "python",
   "name": "python3"
  },
  "language_info": {
   "codemirror_mode": {
    "name": "ipython",
    "version": 3
   },
   "file_extension": ".py",
   "mimetype": "text/x-python",
   "name": "python",
   "nbconvert_exporter": "python",
   "pygments_lexer": "ipython3",
   "version": "3.6.4"
  }
 },
 "nbformat": 4,
 "nbformat_minor": 2
}
