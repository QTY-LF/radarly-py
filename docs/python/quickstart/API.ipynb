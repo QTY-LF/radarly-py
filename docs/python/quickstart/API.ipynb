{
 "cells": [
  {
   "cell_type": "markdown",
   "metadata": {},
   "source": [
    "## Starting with the API"
   ]
  },
  {
   "cell_type": "markdown",
   "metadata": {},
   "source": [
    "This tutorial explains how to use the `api` module. The `RadarlyApi` object is defined in this module and is used by `radarly` in order to handle communications with the API. For example, it simplifies the OAuth2 authorization system and can also refresh your access token when it has expired."
   ]
  },
  {
   "cell_type": "code",
   "execution_count": 1,
   "metadata": {},
   "outputs": [],
   "source": [
    "from radarly import RadarlyApi\n",
    "from requests.exceptions import ProxyError\n",
    "from pprint import pprint"
   ]
  },
  {
   "cell_type": "markdown",
   "metadata": {},
   "source": [
    "### Initialization"
   ]
  },
  {
   "cell_type": "markdown",
   "metadata": {},
   "source": [
    "The `RadarlyApi` object must be initialized with at least two arguments : the `client_id` and the `client_secret`. These credentials are given by Linkfluence and must not be shared because they are used in order to authentify each request to our APIs. If you don't have these credentials to start with the client, please contact us to python@linkfluence.com."
   ]
  },
  {
   "cell_type": "code",
   "execution_count": 2,
   "metadata": {},
   "outputs": [
    {
     "data": {
      "text/plain": [
       "<RadarlyAPI.client_id=:my_client_id:>"
      ]
     },
     "execution_count": 2,
     "metadata": {},
     "output_type": "execute_result"
    }
   ],
   "source": [
    "credentials = {\n",
    "    \"client_id\": \":my_client_id:\",\n",
    "    \"client_secret\": \":my_client_secret:\"\n",
    "}\n",
    "api = RadarlyApi(**credentials, scope=['listening', 'social-performance'])\n",
    "api"
   ]
  },
  {
   "cell_type": "markdown",
   "metadata": {},
   "source": [
    "Some additional parameters can be set directly during the initialization of the API and will be used each time a request is made. For example, you can set  proxies and timeout for your requests. The proxies object must have the same template of the proxies object defined in `requests` module."
   ]
  },
  {
   "cell_type": "code",
   "execution_count": 3,
   "metadata": {},
   "outputs": [
    {
     "name": "stdout",
     "output_type": "stream",
     "text": [
      "Warning: This will not work without a valid proxy.\n"
     ]
    }
   ],
   "source": [
    "proxies = {\n",
    "    'http': 'http://127.0.0.1:9000',\n",
    "    'https': 'https://127.0.0.1:9000'\n",
    "}\n",
    "timeout = 120\n",
    "\n",
    "try:\n",
    "    RadarlyApi(**credentials, proxies=proxies, timeout=timeout)\n",
    "except ProxyError:\n",
    "    print('Warning: This will not work without a valid proxy.')"
   ]
  },
  {
   "cell_type": "markdown",
   "metadata": {},
   "source": [
    "<div class=\"alert alert-warning\">\n",
    "\n",
    "Given that some requests in the API can take tens of seconds to process, you should consider to not to set a too low value for the `timeout` argument. Otherwise, some requests can be stopped only because the timeout has expired.\n",
    "\n",
    "<div>"
   ]
  },
  {
   "cell_type": "markdown",
   "metadata": {},
   "source": [
    "Each optional arguments can be set after initialization."
   ]
  },
  {
   "cell_type": "code",
   "execution_count": 4,
   "metadata": {},
   "outputs": [],
   "source": [
    "api.proxies = None\n",
    "api.timeout = 2"
   ]
  },
  {
   "cell_type": "markdown",
   "metadata": {},
   "source": [
    "In order not to have to specify the API object in each request, you can set a default API. This API will be used each time you make a request to the ``RadarlyApi``  if no API object is specified."
   ]
  },
  {
   "cell_type": "code",
   "execution_count": 5,
   "metadata": {},
   "outputs": [
    {
     "data": {
      "text/plain": [
       "<RadarlyAPI.client_id=:my_client_id:>"
      ]
     },
     "execution_count": 5,
     "metadata": {},
     "output_type": "execute_result"
    }
   ],
   "source": [
    "RadarlyApi.set_default_api(api)\n",
    "# You can also retrieve the default API\n",
    "api = RadarlyApi.get_default_api()\n",
    "api"
   ]
  },
  {
   "cell_type": "markdown",
   "metadata": {},
   "source": [
    "In order to initialize a new API and set it as the default API, yon can use the ``init`` class method. This method uses the same arguments as ``__init__`` method."
   ]
  },
  {
   "cell_type": "code",
   "execution_count": 6,
   "metadata": {
    "scrolled": true
   },
   "outputs": [
    {
     "data": {
      "text/plain": [
       "True"
      ]
     },
     "execution_count": 6,
     "metadata": {},
     "output_type": "execute_result"
    }
   ],
   "source": [
    "api = RadarlyApi.init(**credentials, timeout=200, proxies=None)\n",
    "api == RadarlyApi.get_default_api()"
   ]
  },
  {
   "cell_type": "markdown",
   "metadata": {},
   "source": [
    "Notice that rather than specifying the ``client_id`` and  ``client_secret`` argument during the initialization of the API, you can set the ``RADARLY_CLIENT_ID`` and ``RADARLY_CLIENT_SECRET`` environment variables. ``RadarlyApi`` will automatically retrieve these variables if ``client_id`` and ``client_secret`` is set to ``None``."
   ]
  },
  {
   "cell_type": "code",
   "execution_count": 7,
   "metadata": {},
   "outputs": [],
   "source": [
    "%%bash\n",
    "export RADARLY_CLIENT_ID=:my_client_id:\n",
    "export RADARLY_CLIENT_SECRET=:my_client_secret:"
   ]
  },
  {
   "cell_type": "code",
   "execution_count": 8,
   "metadata": {},
   "outputs": [
    {
     "data": {
      "text/plain": [
       "<RadarlyAPI.client_id=:my_client_id:>"
      ]
     },
     "execution_count": 8,
     "metadata": {},
     "output_type": "execute_result"
    }
   ],
   "source": [
    "!export RADARLY_CLIENT_ID=:my_client_id:\n",
    "!export RADARLY_CLIENT_SECRET=:my_client_secret:\n",
    "RadarlyApi.init(scope=['listening', 'social-performance'])"
   ]
  },
  {
   "cell_type": "markdown",
   "metadata": {},
   "source": [
    "### Make some requests"
   ]
  },
  {
   "cell_type": "markdown",
   "metadata": {},
   "source": [
    "The ``RadarlyApi`` object can now be used in order to make each requests to the Radarly API. The `request` method defined in `RadarlyApi` used the same arguments as the `request` function of the `requests` module, but some behaviours are different. For example, if the pattern `{API_Host}/{version}` is not present in the URL of your request, it will be automatically added at the beginning of your URL.\n",
    "\n",
    "<div class=\"alert alert-info\">\n",
    "The root url and the version of the API are class variable of the `RadarlyApi` object.\n",
    "</div>"
   ]
  },
  {
   "cell_type": "code",
   "execution_count": 9,
   "metadata": {},
   "outputs": [
    {
     "name": "stdout",
     "output_type": "stream",
     "text": [
      "Host of the API: https://radarly.linkfluence.com\n",
      "Current version of the API: 1.0\n"
     ]
    }
   ],
   "source": [
    "print('Host of the API:', api.root_url)\n",
    "print('Current version of the API:', api.version)"
   ]
  },
  {
   "cell_type": "markdown",
   "metadata": {},
   "source": [
    "You can now perform a request, using any relative path exposed in our API. For example, to get informations about the current user."
   ]
  },
  {
   "cell_type": "code",
   "execution_count": 10,
   "metadata": {},
   "outputs": [],
   "source": [
    "current_user = api.request('GET', 'https://radarly.linkfluence.com/1.0/users.json')"
   ]
  },
  {
   "cell_type": "markdown",
   "metadata": {},
   "source": [
    "As in ``requests`` module, you can use the ``get`` method to perform a request with ``GET``."
   ]
  },
  {
   "cell_type": "code",
   "execution_count": 11,
   "metadata": {
    "scrolled": false
   },
   "outputs": [
    {
     "name": "stdout",
     "output_type": "stream",
     "text": [
      "{'account_id': 1,\n",
      " 'apps': [...],\n",
      " 'can_create_project': True,\n",
      " 'connected': 1526635380515,\n",
      " 'connection_count': 102,\n",
      " 'created': datetime.datetime(2018, 2, 12, 17, 59, 55, 105000, tzinfo=tzutc()),\n",
      " 'current_project_id': 3740,\n",
      " 'email': 'alexandre.aheto@linkfluence.com',\n",
      " 'engagement': {...},\n",
      " 'id': 16246,\n",
      " 'is_disabled': False,\n",
      " 'is_internal': True,\n",
      " 'is_manager': True,\n",
      " 'is_pending': False,\n",
      " 'is_root': True,\n",
      " 'level': 'root',\n",
      " 'locale': 'en_GB',\n",
      " 'name': 'Alexandre Aheto',\n",
      " 'picture_id': None,\n",
      " 'projects': [...],\n",
      " 'theme': 'dark',\n",
      " 'timezone': <DstTzInfo 'Europe/Paris' LMT+0:09:00 STD>,\n",
      " 'updated': datetime.datetime(2018, 2, 15, 15, 19, 54, 834000, tzinfo=tzutc())}\n"
     ]
    }
   ],
   "source": [
    "current_user = api.get('/users.json')\n",
    "pprint(current_user, depth=1)"
   ]
  },
  {
   "cell_type": "markdown",
   "metadata": {},
   "source": [
    "The result is a JSON file, as in a normal request. If you want to have more interactive objects as response, you can use our special methods (there are explained in the next steps of the tutorial)."
   ]
  },
  {
   "cell_type": "markdown",
   "metadata": {},
   "source": [
    "To help you get all relative paths in the API, you can use the ``Router`` object defined in ``radarly.utils.router``. This object stores, as attibutes, all the paths relative to a category."
   ]
  },
  {
   "cell_type": "code",
   "execution_count": 12,
   "metadata": {},
   "outputs": [
    {
     "name": "stdout",
     "output_type": "stream",
     "text": [
      "Routes relative to user\n",
      "{'me': '/users.json'}\n",
      "\n",
      "Routes relative to analytics details\n",
      "{'global': '/projects/{project_id}/insights.json',\n",
      " 'occupation': '/projects/{project_id}/insights/occupation.json'}\n",
      "\n",
      "Routes relative to publications\n",
      "{'metadata': '/projects/{project_id}/documents.json',\n",
      " 'raw': '/projects/{project_id}/documents/raw.json',\n",
      " 'search': '/projects/{project_id}/inbox/search.json'}\n"
     ]
    },
    {
     "data": {
      "text/plain": [
       "(None, None)"
      ]
     },
     "execution_count": 12,
     "metadata": {},
     "output_type": "execute_result"
    }
   ],
   "source": [
    "from radarly.utils.router import Router\n",
    "print('Routes relative to user'), pprint(Router.user)\n",
    "print('\\nRoutes relative to analytics details'), pprint(Router.analytics)\n",
    "print('\\nRoutes relative to publications'), pprint(Router.publication)"
   ]
  },
  {
   "cell_type": "markdown",
   "metadata": {},
   "source": [
    "As you can see, most of the routes are just patterns and some path arguments must be specified (in most cases, the ``project_id``)."
   ]
  },
  {
   "cell_type": "code",
   "execution_count": 13,
   "metadata": {},
   "outputs": [
    {
     "name": "stdout",
     "output_type": "stream",
     "text": [
      "URL to search publication in the project 2: /projects/2/inbox/search.json\n",
      "Response:\n",
      "{'hits': [...], 'stats': {}, 'took': 1546, 'total': 6568}\n"
     ]
    }
   ],
   "source": [
    "url = Router.publication['search'].format(project_id=2)\n",
    "print('URL to search publication in the project 2:', url)\n",
    "response = api.post(url, data={'platforms': ['instagram'], 'start': 0, 'limit': 15})\n",
    "print('Response:')\n",
    "pprint(response, depth=1)"
   ]
  },
  {
   "cell_type": "markdown",
   "metadata": {},
   "source": [
    "### Check the rates"
   ]
  },
  {
   "cell_type": "markdown",
   "metadata": {},
   "source": [
    "Some limitations on the number of requests you can made to our API have been defined. You can be aware of these limitations by checking the ``rates`` attributes of the API. Each road of the API are not subjected to the same limits. There are three categories of rate limits: slow, medium and default (the routes in slow category are routes with the most restrictive limits). Please refer to the official documentation of the API for further informations."
   ]
  },
  {
   "cell_type": "code",
   "execution_count": 14,
   "metadata": {},
   "outputs": [
    {
     "data": {
      "text/plain": [
       "<RateLimit.slow:0.00%.medium:0.02%.default:0.01%>"
      ]
     },
     "execution_count": 14,
     "metadata": {},
     "output_type": "execute_result"
    }
   ],
   "source": [
    "api.rates"
   ]
  },
  {
   "cell_type": "markdown",
   "metadata": {},
   "source": [
    "You can then explore each category of rate limits."
   ]
  },
  {
   "cell_type": "code",
   "execution_count": 15,
   "metadata": {},
   "outputs": [
    {
     "data": {
      "text/plain": [
       "{'limit': 0, 'remaining': 5000, 'reset': 0}"
      ]
     },
     "execution_count": 15,
     "metadata": {},
     "output_type": "execute_result"
    }
   ],
   "source": [
    "api.rates.slow"
   ]
  },
  {
   "cell_type": "code",
   "execution_count": 16,
   "metadata": {},
   "outputs": [
    {
     "data": {
      "text/plain": [
       "{'limit': 1, 'remaining': 4999, 'reset': 0}"
      ]
     },
     "execution_count": 16,
     "metadata": {},
     "output_type": "execute_result"
    }
   ],
   "source": [
    "api.rates.medium"
   ]
  },
  {
   "cell_type": "code",
   "execution_count": 17,
   "metadata": {
    "scrolled": true
   },
   "outputs": [
    {
     "data": {
      "text/plain": [
       "{'limit': 2, 'remaining': 14998, 'reset': 0}"
      ]
     },
     "execution_count": 17,
     "metadata": {},
     "output_type": "execute_result"
    }
   ],
   "source": [
    "api.rates.default"
   ]
  },
  {
   "cell_type": "markdown",
   "metadata": {},
   "source": [
    "You can check the category of an URL with the ``RateConf`` object, defined in ``radarly.rate``."
   ]
  },
  {
   "cell_type": "code",
   "execution_count": 18,
   "metadata": {},
   "outputs": [
    {
     "name": "stdout",
     "output_type": "stream",
     "text": [
      "Category for the URL /users.json: default\n",
      "Category for the URL /projects/2/inbox/search.json: medium\n"
     ]
    }
   ],
   "source": [
    "from radarly.rate import RateConf\n",
    "url = '/users.json'\n",
    "print(f'Category for the URL {url}:', RateConf.get_category(url))\n",
    "url = '/projects/2/inbox/search.json'\n",
    "print(f'Category for the URL {url}:', RateConf.get_category(url))"
   ]
  },
  {
   "cell_type": "markdown",
   "metadata": {},
   "source": [
    "### Next step...\n",
    "\n",
    "You know now how the ``RadarlyApi`` object works. In the next step of this tutorial, we will use other objects defined by the client in order to interact with the API."
   ]
  }
 ],
 "metadata": {
  "kernelspec": {
   "display_name": "Python 3",
   "language": "python",
   "name": "python3"
  },
  "language_info": {
   "codemirror_mode": {
    "name": "ipython",
    "version": 3
   },
   "file_extension": ".py",
   "mimetype": "text/x-python",
   "name": "python",
   "nbconvert_exporter": "python",
   "pygments_lexer": "ipython3",
   "version": "3.6.4"
  }
 },
 "nbformat": 4,
 "nbformat_minor": 2
}
