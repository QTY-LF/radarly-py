{
 "cells": [
  {
   "cell_type": "markdown",
   "metadata": {},
   "source": [
    "## Start Exploring your Project"
   ]
  },
  {
   "cell_type": "markdown",
   "metadata": {},
   "source": [
    "The ``Project`` object defined in ``radarly.project`` is an object storing informations about your project: dahsboards, social accounts recorded, queries, tags... It's the main object to explore to get all ids of object linked to your project (which can be used then to get specific response)."
   ]
  },
  {
   "cell_type": "code",
   "execution_count": 1,
   "metadata": {},
   "outputs": [
    {
     "data": {
      "text/plain": [
       "<Project.pid=2989.label=Luxury [OFFICIAL DEMO]>"
      ]
     },
     "execution_count": 1,
     "metadata": {},
     "output_type": "execute_result"
    }
   ],
   "source": [
    "from radarly import RadarlyApi\n",
    "from radarly.project import Project\n",
    "RadarlyApi.init()\n",
    "\n",
    "project = Project.find(pid=2989)\n",
    "project"
   ]
  },
  {
   "cell_type": "markdown",
   "metadata": {},
   "source": [
    "``Project`` inherits from ``SourceModel`` so you can explore the structure with ``draw_structure`` method and then use the special method ``__getitem__``."
   ]
  },
  {
   "cell_type": "code",
   "execution_count": 2,
   "metadata": {
    "scrolled": false
   },
   "outputs": [
    {
     "name": "stdout",
     "output_type": "stream",
     "text": [
      "Project \u001b[94m(Project)\u001b[0m\n",
      "| account_id \u001b[94m(int)\u001b[0m\n",
      "| alcmeon_company \u001b[91m(None)\u001b[0m\n",
      "| benchmark_entities \u001b[94m(list[dict])\u001b[0m\n",
      "| brand_logos \u001b[94m(list[int])\u001b[0m\n",
      "| client_reference \u001b[94m(str)\u001b[0m\n",
      "| corpora \u001b[94m(list[InfoCorpus])\u001b[0m\n",
      "| created \u001b[94m(datetime)\u001b[0m\n",
      "| credentials \u001b[94m(dict)\u001b[0m\n",
      "| dashboards \u001b[94m(list[Dashboard])\u001b[0m\n",
      "| docs_count \u001b[94m(int)\u001b[0m\n",
      "| docs_version \u001b[94m(int)\u001b[0m\n",
      "| flags \u001b[94m(dict)\u001b[0m\n",
      "| focuses \u001b[94m(list[Focus])\u001b[0m\n",
      "| id \u001b[94m(int)\u001b[0m\n",
      "| industries \u001b[94m(list)\u001b[0m\n",
      "| label \u001b[94m(str)\u001b[0m\n",
      "| limits \u001b[94m(dict)\u001b[0m\n",
      "| milestones \u001b[94m(list)\u001b[0m\n",
      "| mm3_id \u001b[91m(None)\u001b[0m\n",
      "| out_of_reach_count \u001b[94m(int)\u001b[0m\n",
      "| picture_id \u001b[94m(int)\u001b[0m\n",
      "| platforms \u001b[94m(list[str])\u001b[0m\n",
      "| project_manager_id \u001b[94m(int)\u001b[0m\n",
      "| renew \u001b[91m(None)\u001b[0m\n",
      "| research_manager_id \u001b[94m(int)\u001b[0m\n",
      "| sinaweibo_options \u001b[94m(dict)\u001b[0m\n",
      "| social_accounts \u001b[94m(list[SocialAccount])\u001b[0m\n",
      "| social_wall_text \u001b[91m(None)\u001b[0m\n",
      "| start \u001b[94m(datetime)\u001b[0m\n",
      "| stop \u001b[94m(datetime)\u001b[0m\n",
      "| tags \u001b[94m(list[Tag])\u001b[0m\n",
      "| total_indexed_docs_count \u001b[94m(int)\u001b[0m\n",
      "| updated \u001b[94m(datetime)\u001b[0m\n"
     ]
    }
   ],
   "source": [
    "project.draw_structure(max_depth=1)"
   ]
  },
  {
   "cell_type": "code",
   "execution_count": 3,
   "metadata": {},
   "outputs": [
    {
     "name": "stdout",
     "output_type": "stream",
     "text": [
      "ID of the project:             2989\n",
      "Name of the project:           Luxury [OFFICIAL DEMO]\n",
      "Number of docs in the project: 6679832\n",
      "Start date of the project:     2017-12-31 23:00:00+00:00\n",
      "End date of the project:       2019-01-01 22:59:59.999000+00:00\n"
     ]
    }
   ],
   "source": [
    "print('ID of the project:'.ljust(30), project['id'])\n",
    "print('Name of the project:'.ljust(30), project['label'])\n",
    "print('Number of docs in the project:'.ljust(30), project['total_indexed_docs_count'])\n",
    "print('Start date of the project:'.ljust(30), project['$.limits.start'])\n",
    "print('End date of the project:'.ljust(30), project['$.limits.stop'])"
   ]
  },
  {
   "cell_type": "markdown",
   "metadata": {},
   "source": [
    "### Dashboards"
   ]
  },
  {
   "cell_type": "markdown",
   "metadata": {},
   "source": [
    "As in the product Radarly, a ``Dashboard`` is an object used to group several focuses, social accounts inside your project. All the dashboards are stored in the ``Project`` object, in the ``dashboards`` attribute."
   ]
  },
  {
   "cell_type": "code",
   "execution_count": 4,
   "metadata": {
    "scrolled": false
   },
   "outputs": [
    {
     "data": {
      "text/plain": [
       "[<Dashboard.id=10389.label=1. Watch Brands>,\n",
       " <Dashboard.id=10390.label=3. Watches types>,\n",
       " <Dashboard.id=11842.label=2. Community Management>,\n",
       " <Dashboard.id=11843.label=4. Consumers profiles>,\n",
       " <Dashboard.id=11844.label=5. Customer Experience>,\n",
       " <Dashboard.id=11883.label=3. Resellers>]"
      ]
     },
     "execution_count": 4,
     "metadata": {},
     "output_type": "execute_result"
    }
   ],
   "source": [
    "project.dashboards"
   ]
  },
  {
   "cell_type": "markdown",
   "metadata": {},
   "source": [
    "As most of qualitative objects, a ``Dashboard`` inherits from ``SourceModel`` and so, the structure can be explored with ``draw_structure``."
   ]
  },
  {
   "cell_type": "code",
   "execution_count": 5,
   "metadata": {},
   "outputs": [
    {
     "name": "stdout",
     "output_type": "stream",
     "text": [
      "Dashboard \u001b[94m(Dashboard)\u001b[0m\n",
      " | benchmark_entities \u001b[94m(list[int])\u001b[0m\n",
      " | color \u001b[94m(str)\u001b[0m\n",
      " | created \u001b[94m(datetime)\u001b[0m\n",
      " | description \u001b[91m(None)\u001b[0m\n",
      " | focuses \u001b[94m(list[int])\u001b[0m\n",
      " | id \u001b[94m(int)\u001b[0m\n",
      " | is_emotional_map_activated \u001b[94m(bool)\u001b[0m\n",
      " | is_social_wall_activated \u001b[94m(bool)\u001b[0m\n",
      " | label \u001b[94m(str)\u001b[0m\n",
      " | milestones \u001b[94m(list)\u001b[0m\n",
      " | picture_id \u001b[94m(int)\u001b[0m\n",
      " | query_length \u001b[94m(int)\u001b[0m\n",
      " | social_accounts \u001b[94m(dict)\u001b[0m\n",
      " |  | facebook \u001b[94m(list[str])\u001b[0m\n",
      " |  | instagram \u001b[94m(list[str])\u001b[0m\n",
      " |  | linkedin \u001b[94m(list)\u001b[0m\n",
      " |  | sinaweibo \u001b[94m(list)\u001b[0m\n",
      " |  | twitter \u001b[94m(list[str])\u001b[0m\n",
      " |  | youtube \u001b[94m(list)\u001b[0m\n",
      " | updated \u001b[94m(datetime)\u001b[0m\n",
      " | views \u001b[94m(list[dict])\u001b[0m\n",
      " |  | dashboard_id \u001b[94m(int)\u001b[0m\n",
      " |  | id \u001b[94m(str)\u001b[0m\n",
      " |  | name \u001b[94m(str)\u001b[0m\n",
      " |  | position \u001b[94m(int)\u001b[0m\n",
      " |  | template \u001b[94m(str)\u001b[0m\n",
      " |  | tiles \u001b[94m(list[dict])\u001b[0m\n"
     ]
    }
   ],
   "source": [
    "dashboard = project['$.dashboards(Management in label)']\n",
    "dashboard.draw_structure(max_depth=2)"
   ]
  },
  {
   "cell_type": "markdown",
   "metadata": {},
   "source": [
    "Besides the usual ``id``, ``label`` and ``description``, we have in this object all the ids of several common object in Radarly. For example, here are some useful commands: "
   ]
  },
  {
   "cell_type": "code",
   "execution_count": 6,
   "metadata": {},
   "outputs": [
    {
     "name": "stdout",
     "output_type": "stream",
     "text": [
      "Instagram Accounts: ['1292762063']\n",
      "Focuses IDS: [134552]\n"
     ]
    }
   ],
   "source": [
    "# Get all the Instagram accounts'id registred in the dashboard.\n",
    "print('Instagram Accounts:', dashboard['$.social_accounts.instagram'])\n",
    "# Get all focuses'id in the dashboard\n",
    "print('Focuses IDS:', dashboard.focuses)"
   ]
  },
  {
   "cell_type": "markdown",
   "metadata": {},
   "source": [
    "The full objects can be found in the root level of the project. A ``Dashboard`` only stores the ID of the object contained in the dashboard; these objects can be found in the root level of your projects (some objects are detailed later in this tutorial). "
   ]
  },
  {
   "cell_type": "markdown",
   "metadata": {},
   "source": [
    "### Focuses (or Queries in the Radarly application)"
   ]
  },
  {
   "cell_type": "markdown",
   "metadata": {},
   "source": [
    "A focus is a set of options used to specify which publications must be transfered from our database to your project. \n",
    "All the focuses of a project are stored in the ``focuses`` attributes of a project."
   ]
  },
  {
   "cell_type": "markdown",
   "metadata": {},
   "source": [
    "<div class=\"alert alert-info\">\n",
    "The terminology in Radarly application is slightly diffrent than those in the Python client. In the application, a focus is called \"Query\".\n",
    "</div>"
   ]
  },
  {
   "cell_type": "code",
   "execution_count": 7,
   "metadata": {},
   "outputs": [
    {
     "data": {
      "text/plain": [
       "[<Focus.id=127597.label=Counterfeit - Rolex>,\n",
       " <Focus.id=127596.label=Resellers - Rolex (Watches)>,\n",
       " <Focus.id=111423.label=Omega>,\n",
       " <Focus.id=108276.label=Tag Heuer>,\n",
       " <Focus.id=108277.label=Jaeger-LeCoultre>,\n",
       " <Focus.id=108279.label=Rolex>,\n",
       " <Focus.id=108291.label=Smart Watch>,\n",
       " <Focus.id=108284.label=Automatic>,\n",
       " <Focus.id=108287.label=Quartz>,\n",
       " <Focus.id=108290.label=Mechanical>,\n",
       " <Focus.id=108294.label=TAG_Review>,\n",
       " <Focus.id=134330.label=Price (trigger)>,\n",
       " <Focus.id=134332.label=Ads & Campaigns>,\n",
       " <Focus.id=134331.label=Design>,\n",
       " <Focus.id=134552.label=Rolex (own)>,\n",
       " <Focus.id=108281.label=Breitling>]"
      ]
     },
     "execution_count": 7,
     "metadata": {},
     "output_type": "execute_result"
    }
   ],
   "source": [
    "project.focuses"
   ]
  },
  {
   "cell_type": "markdown",
   "metadata": {},
   "source": [
    "This object also inherits from ``SourceModel`` so you can use ``draw_structure``."
   ]
  },
  {
   "cell_type": "code",
   "execution_count": 8,
   "metadata": {},
   "outputs": [
    {
     "name": "stdout",
     "output_type": "stream",
     "text": [
      "Focus \u001b[94m(Focus)\u001b[0m\n",
      " | activated \u001b[94m(bool)\u001b[0m\n",
      " | color \u001b[94m(str)\u001b[0m\n",
      " | created \u001b[94m(datetime)\u001b[0m\n",
      " | description \u001b[91m(None)\u001b[0m\n",
      " | filter \u001b[94m(dict)\u001b[0m\n",
      " |  | author \u001b[91m(None)\u001b[0m\n",
      " |  | categories \u001b[94m(list)\u001b[0m\n",
      " |  | corpora \u001b[94m(list)\u001b[0m\n",
      " |  | countries \u001b[94m(list)\u001b[0m\n",
      " |  | emoji \u001b[94m(dict)\u001b[0m\n",
      " |  | flag \u001b[94m(dict)\u001b[0m\n",
      " |  | focuses \u001b[94m(list)\u001b[0m\n",
      " |  | followers \u001b[91m(None)\u001b[0m\n",
      " |  | genders \u001b[94m(list)\u001b[0m\n",
      " |  | geo_area \u001b[91m(None)\u001b[0m\n",
      " |  | geo_filter \u001b[91m(None)\u001b[0m\n",
      " |  | has_children \u001b[91m(None)\u001b[0m\n",
      " |  | id \u001b[94m(str)\u001b[0m\n",
      " |  | in_relationship \u001b[91m(None)\u001b[0m\n",
      " |  | keywords \u001b[94m(dict)\u001b[0m\n",
      " |  | languages \u001b[94m(list)\u001b[0m\n",
      " |  | logos \u001b[94m(list)\u001b[0m\n",
      " |  | media \u001b[94m(list)\u001b[0m\n",
      " |  | occupations \u001b[94m(list)\u001b[0m\n",
      " |  | platforms \u001b[94m(list)\u001b[0m\n",
      " |  | query \u001b[91m(None)\u001b[0m\n",
      " |  | short_query \u001b[91m(None)\u001b[0m\n",
      " |  | sinaweibo_query \u001b[91m(None)\u001b[0m\n",
      " |  | tags \u001b[94m(dict)\u001b[0m\n",
      " |  | tones \u001b[94m(list)\u001b[0m\n",
      " |  | verified \u001b[91m(None)\u001b[0m\n",
      " | filter_id \u001b[94m(str)\u001b[0m\n",
      " | gnip_rate \u001b[94m(int)\u001b[0m\n",
      " | id \u001b[94m(int)\u001b[0m\n",
      " | is_dynamic \u001b[94m(bool)\u001b[0m\n",
      " | is_locked \u001b[94m(bool)\u001b[0m\n",
      " | is_pending \u001b[94m(bool)\u001b[0m\n",
      " | is_source \u001b[94m(bool)\u001b[0m\n",
      " | label \u001b[94m(str)\u001b[0m\n",
      " | parents \u001b[94m(list)\u001b[0m\n",
      " | picture_id \u001b[94m(int)\u001b[0m\n",
      " | project_id \u001b[94m(int)\u001b[0m\n",
      " | query_length \u001b[94m(int)\u001b[0m\n",
      " | updated \u001b[94m(datetime)\u001b[0m\n"
     ]
    }
   ],
   "source": [
    "focus = project.focuses[0]\n",
    "focus.draw_structure(max_depth=2)"
   ]
  },
  {
   "cell_type": "markdown",
   "metadata": {},
   "source": [
    "All filters which configure the focus is stored in the ``filter`` attribute. When you want to get some publications which match this focus, you must give its id in the ``focuses`` field or in the ``fctx`` field of the payload."
   ]
  },
  {
   "cell_type": "markdown",
   "metadata": {},
   "source": [
    "### Tags"
   ]
  },
  {
   "cell_type": "markdown",
   "metadata": {},
   "source": [
    "A tag can be used to add a label to a publication and so to categorize your publications in your project. It can contain several subvalues, called subtags in the client. When you want to restrict, for example, publications to match a specific tags, you must fill the ``tags.customFields`` field in the payload."
   ]
  },
  {
   "cell_type": "code",
   "execution_count": 9,
   "metadata": {
    "scrolled": true
   },
   "outputs": [
    {
     "data": {
      "text/plain": [
       "[<Tag.label=Reviews.type=custom>, <Tag.label=A suivre.type=user>]"
      ]
     },
     "execution_count": 9,
     "metadata": {},
     "output_type": "execute_result"
    }
   ],
   "source": [
    "project.tags"
   ]
  },
  {
   "cell_type": "code",
   "execution_count": 10,
   "metadata": {},
   "outputs": [
    {
     "name": "stdout",
     "output_type": "stream",
     "text": [
      "Tag \u001b[94m(Tag)\u001b[0m\n",
      " | color \u001b[94m(str)\u001b[0m\n",
      " | created \u001b[94m(datetime)\u001b[0m\n",
      " | fixed_values \u001b[94m(bool)\u001b[0m\n",
      " | id \u001b[94m(int)\u001b[0m\n",
      " | label \u001b[94m(str)\u001b[0m\n",
      " | offset \u001b[94m(int)\u001b[0m\n",
      " | project_id \u001b[94m(int)\u001b[0m\n",
      " | single_value \u001b[94m(bool)\u001b[0m\n",
      " | subtags \u001b[94m(list[dict])\u001b[0m\n",
      " |  | color \u001b[94m(str)\u001b[0m\n",
      " |  | id \u001b[94m(int)\u001b[0m\n",
      " |  | value \u001b[94m(str)\u001b[0m\n",
      " | type \u001b[94m(str)\u001b[0m\n",
      " | updated \u001b[94m(datetime)\u001b[0m\n"
     ]
    }
   ],
   "source": [
    "tag = project['$.tags(type=custom)']\n",
    "tag.draw_structure()"
   ]
  },
  {
   "cell_type": "code",
   "execution_count": 11,
   "metadata": {},
   "outputs": [
    {
     "data": {
      "text/plain": [
       "['Review']"
      ]
     },
     "execution_count": 11,
     "metadata": {},
     "output_type": "execute_result"
    }
   ],
   "source": [
    "tag['$.subtags.value']"
   ]
  },
  {
   "cell_type": "code",
   "execution_count": 12,
   "metadata": {},
   "outputs": [
    {
     "data": {
      "text/plain": [
       "{'Reviews': ['Review']}"
      ]
     },
     "execution_count": 12,
     "metadata": {},
     "output_type": "execute_result"
    }
   ],
   "source": [
    "# The `tags.customFields` can be built with:\n",
    "custom_fields = {\n",
    "    tag['label']: tag['$.subtags.value']\n",
    "}\n",
    "custom_fields"
   ]
  },
  {
   "cell_type": "markdown",
   "metadata": {},
   "source": [
    "### Social Accounts"
   ]
  },
  {
   "cell_type": "markdown",
   "metadata": {},
   "source": [
    "Radarly gives you the opportunity to monitore several social accounts. They must be registred first into your project and will then be exposed in ``social_accounts`` of a ``Project`` object. "
   ]
  },
  {
   "cell_type": "code",
   "execution_count": 13,
   "metadata": {},
   "outputs": [
    {
     "data": {
      "text/plain": [
       "[<SocialAccount.id=1375576302.platform=twitter>,\n",
       " <SocialAccount.id=284578421.platform=twitter>,\n",
       " <SocialAccount.id=41287444795.platform=facebook>,\n",
       " <SocialAccount.id=288607211258386.platform=facebook>,\n",
       " <SocialAccount.id=90884717210.platform=facebook>,\n",
       " <SocialAccount.id=UClJXNsEKylFoB4ae6tZ9z5Q.platform=youtube>,\n",
       " <SocialAccount.id=UCF0mZ8eOx3ie5yCErYRoT5A.platform=youtube>,\n",
       " <SocialAccount.id=6644206.platform=instagram>,\n",
       " <SocialAccount.id=1165531538.platform=instagram>,\n",
       " <SocialAccount.id=1292762063.platform=instagram>,\n",
       " <SocialAccount.id=6273255109.platform=sinaweibo>,\n",
       " <SocialAccount.id=3679459427.platform=sinaweibo>]"
      ]
     },
     "execution_count": 13,
     "metadata": {},
     "output_type": "execute_result"
    }
   ],
   "source": [
    "project.social_accounts"
   ]
  },
  {
   "cell_type": "code",
   "execution_count": 14,
   "metadata": {},
   "outputs": [
    {
     "name": "stdout",
     "output_type": "stream",
     "text": [
      "SocialAccount \u001b[94m(SocialAccount)\u001b[0m\n",
      " | created \u001b[94m(datetime)\u001b[0m\n",
      " | created_on_platform \u001b[94m(datetime)\u001b[0m\n",
      " | description \u001b[94m(str)\u001b[0m\n",
      " | geo_enabled \u001b[94m(bool)\u001b[0m\n",
      " | id \u001b[94m(str)\u001b[0m\n",
      " | lang \u001b[94m(str)\u001b[0m\n",
      " | location \u001b[94m(str)\u001b[0m\n",
      " | name \u001b[94m(str)\u001b[0m\n",
      " | platform \u001b[94m(str)\u001b[0m\n",
      " | profile_image_url \u001b[94m(str)\u001b[0m\n",
      " | protected \u001b[94m(bool)\u001b[0m\n",
      " | relation_type \u001b[94m(str)\u001b[0m\n",
      " | screen_name \u001b[94m(str)\u001b[0m\n",
      " | time_zone \u001b[94m(str)\u001b[0m\n",
      " | updated \u001b[94m(datetime)\u001b[0m\n",
      " | url \u001b[94m(str)\u001b[0m\n",
      " | verified \u001b[94m(bool)\u001b[0m\n"
     ]
    }
   ],
   "source": [
    "social_account = project.social_accounts[0]\n",
    "social_account.draw_structure()"
   ]
  },
  {
   "cell_type": "markdown",
   "metadata": {},
   "source": [
    "<div class=\"alert alert-info\">\n",
    "The structure changes depending on the platform of the social account.\n",
    "</div>"
   ]
  },
  {
   "cell_type": "markdown",
   "metadata": {},
   "source": [
    "The ``SocialAccount`` object stores informations like its url, its name (screen name and official name), its lang. The ``id`` or the ``screen_name`` can be used to retrieve publications linked to its social account."
   ]
  },
  {
   "cell_type": "code",
   "execution_count": 15,
   "metadata": {},
   "outputs": [
    {
     "name": "stdout",
     "output_type": "stream",
     "text": [
      "ID of the account: 1375576302\n",
      "Platform of the account: twitter\n",
      "Official Name: IGIT\n",
      "Link to the account: https://t.co/0jTCChncyq\n",
      "Query to use to retrieve publications of this social account: user.twitter.id:1375576302\n",
      "Profile Image: \n"
     ]
    },
    {
     "data": {
      "image/jpeg": "[encoded data removed]",
      "text/plain": [
       "<IPython.core.display.Image object>"
      ]
     },
     "execution_count": 15,
     "metadata": {},
     "output_type": "execute_result"
    }
   ],
   "source": [
    "from IPython.display import Image\n",
    "id, platform = social_account.id, social_account.platform\n",
    "print('ID of the account:', id)\n",
    "print('Platform of the account:', platform)\n",
    "print('Official Name:', social_account.name)\n",
    "print('Link to the account:', social_account.url)\n",
    "print('Query to use to retrieve publications of this social account:', f'user.{platform}.id:{id}')\n",
    "print('Profile Image: ')\n",
    "Image(social_account.profile_image_url)"
   ]
  },
  {
   "cell_type": "markdown",
   "metadata": {},
   "source": [
    "### Corpus"
   ]
  },
  {
   "cell_type": "markdown",
   "metadata": {},
   "source": [
    "A corpus is a collection of various sources. It can be used as a filter anywhere in the listening section of your project. In a ``Project`` instance, all the corpora are stored in the ``corpora`` attributes as a ``InfoCorpus`` object. This object stored a tiny part of information available on a corpus (its id, label and creation_date...)."
   ]
  },
  {
   "cell_type": "code",
   "execution_count": 3,
   "metadata": {},
   "outputs": [
    {
     "data": {
      "text/plain": [
       "[<InfoCorpus.id=14286.name=Rolex>, <InfoCorpus.id=15684.name=Omega>]"
      ]
     },
     "execution_count": 3,
     "metadata": {},
     "output_type": "execute_result"
    }
   ],
   "source": [
    "project.corpora"
   ]
  },
  {
   "cell_type": "code",
   "execution_count": 5,
   "metadata": {},
   "outputs": [
    {
     "name": "stdout",
     "output_type": "stream",
     "text": [
      "InfoCorpus \u001b[94m(InfoCorpus)\u001b[0m\n",
      "| created \u001b[94m(datetime)\u001b[0m\n",
      "| id \u001b[94m(int)\u001b[0m\n",
      "| is_public \u001b[94m(bool)\u001b[0m\n",
      "| name \u001b[94m(str)\u001b[0m\n",
      "| picture_id \u001b[91m(None)\u001b[0m\n",
      "| pid \u001b[94m(int)\u001b[0m\n",
      "| project_id \u001b[94m(int)\u001b[0m\n"
     ]
    }
   ],
   "source": [
    "info_corpus = project.corpora[0]\n",
    "info_corpus.draw_structure()"
   ]
  },
  {
   "cell_type": "markdown",
   "metadata": {},
   "source": [
    "To get all available data on a corpus, you can call the ``expand`` method. This method will perform a request to fetch our API and returns a ``Corpus`` object, storing all data on a corpus (all available data of ``InfoCorpus`` and all the social accounts of your corpus."
   ]
  },
  {
   "cell_type": "markdown",
   "metadata": {},
   "source": [
    "### Next step..."
   ]
  },
  {
   "cell_type": "markdown",
   "metadata": {},
   "source": [
    "A ``Project`` has many other attributes than ``dashboards``, ``focuses``, ``tags`` or ``social_accounts`` but these four attributes are the most useful and used to configure payloads sent to the API. Once you have properly explored and understood the ``Project`` structure, you can go to the next step of this tutorial where you will perform your first publications' search inside your project."
   ]
  }
 ],
 "metadata": {
  "kernelspec": {
   "display_name": "Python 3",
   "language": "python",
   "name": "python3"
  },
  "language_info": {
   "codemirror_mode": {
    "name": "ipython",
    "version": 3
   },
   "file_extension": ".py",
   "mimetype": "text/x-python",
   "name": "python",
   "nbconvert_exporter": "python",
   "pygments_lexer": "ipython3",
   "version": "3.6.5"
  }
 },
 "nbformat": 4,
 "nbformat_minor": 2
}
