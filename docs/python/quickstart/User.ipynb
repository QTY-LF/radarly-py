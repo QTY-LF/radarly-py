{
 "cells": [
  {
   "cell_type": "markdown",
   "metadata": {},
   "source": [
    "## Explore the User Object"
   ]
  },
  {
   "cell_type": "markdown",
   "metadata": {},
   "source": [
    "This notebook shows how you can retrieve information about the registred user for the API. Retrieve information about the current user is a good start to explore the API because you can get all data relative to your projects and so more. As always, you must start by initialize an API object and import the right objects."
   ]
  },
  {
   "cell_type": "code",
   "execution_count": 1,
   "metadata": {},
   "outputs": [],
   "source": [
    "from radarly.api import RadarlyApi\n",
    "from radarly.user import User"
   ]
  },
  {
   "cell_type": "code",
   "execution_count": 2,
   "metadata": {},
   "outputs": [
    {
     "data": {
      "text/plain": [
       "<RadarlyAPI.client_id=:my_client_id:>"
      ]
     },
     "execution_count": 2,
     "metadata": {},
     "output_type": "execute_result"
    }
   ],
   "source": [
    "# The client_id and client_secret are stored in the variable RADARLY_CLIENT_ID and RADARLY_CLIENT_SECRET\n",
    "# so we don't have to specify them during the initialization of the API.\n",
    "api = RadarlyApi()\n",
    "api"
   ]
  },
  {
   "cell_type": "markdown",
   "metadata": {},
   "source": [
    "Once the API is initialized, you can use it to retrieve informations about the current user. You can only retrieve your own informations by using the ``find`` class method of ``User`` object with ``me`` as argument."
   ]
  },
  {
   "cell_type": "code",
   "execution_count": 3,
   "metadata": {},
   "outputs": [
    {
     "data": {
      "text/plain": [
       "<User.id=16246.email='alexandre.aheto@linkfluence.com'>"
      ]
     },
     "execution_count": 3,
     "metadata": {},
     "output_type": "execute_result"
    }
   ],
   "source": [
    "me = User.find(uid='me', api=api)\n",
    "me"
   ]
  },
  {
   "cell_type": "markdown",
   "metadata": {},
   "source": [
    "In order not to have to specify the API object, we will set it as the default API. Each time we want to get remote informations, if we don't specify an API object, the default API will be automatically retrieved."
   ]
  },
  {
   "cell_type": "code",
   "execution_count": 4,
   "metadata": {},
   "outputs": [
    {
     "data": {
      "text/plain": [
       "<User.id=16246.email='alexandre.aheto@linkfluence.com'>"
      ]
     },
     "execution_count": 4,
     "metadata": {},
     "output_type": "execute_result"
    }
   ],
   "source": [
    "RadarlyApi.set_default_api(api)\n",
    "me = User.find(uid='me')\n",
    "me"
   ]
  },
  {
   "cell_type": "markdown",
   "metadata": {},
   "source": [
    "The ``User`` is an object storing only qualitative informations. Given that it inherits from ``SourceModel`` object, several methods can be used in order to explore it. In order to get the structure of informations stored in the object, you can use the ``draw_structure`` method which will display a tree which is the structure of the current object. The ``max_depth`` argument can be used to control how depth the structure parser can go."
   ]
  },
  {
   "cell_type": "code",
   "execution_count": 7,
   "metadata": {
    "scrolled": false
   },
   "outputs": [
    {
     "name": "stdout",
     "output_type": "stream",
     "text": [
      "User \u001b[94m(User)\u001b[0m\n",
      " | account_id \u001b[94m(int)\u001b[0m\n",
      " | apps \u001b[94m(list[str])\u001b[0m\n",
      " | can_create_project \u001b[94m(bool)\u001b[0m\n",
      " | connected \u001b[94m(int)\u001b[0m\n",
      " | connection_count \u001b[94m(int)\u001b[0m\n",
      " | created \u001b[94m(datetime)\u001b[0m\n",
      " | current_project_id \u001b[94m(int)\u001b[0m\n",
      " | email \u001b[94m(str)\u001b[0m\n",
      " | engagement \u001b[94m(dict)\u001b[0m\n",
      " |  | facebook \u001b[94m(dict)\u001b[0m\n",
      " |  | twitter \u001b[94m(dict)\u001b[0m\n",
      " | id \u001b[94m(int)\u001b[0m\n",
      " | is_disabled \u001b[94m(bool)\u001b[0m\n",
      " | is_internal \u001b[94m(bool)\u001b[0m\n",
      " | is_manager \u001b[94m(bool)\u001b[0m\n",
      " | is_pending \u001b[94m(bool)\u001b[0m\n",
      " | is_root \u001b[94m(bool)\u001b[0m\n",
      " | level \u001b[94m(str)\u001b[0m\n",
      " | locale \u001b[94m(str)\u001b[0m\n",
      " | name \u001b[94m(str)\u001b[0m\n",
      " | picture_id \u001b[91m(None)\u001b[0m\n",
      " | projects \u001b[94m(list[InfoProject])\u001b[0m\n",
      " |  | account_id \u001b[94m(int)\u001b[0m\n",
      " |  | client_reference \u001b[94m(str)\u001b[0m\n",
      " |  | created \u001b[94m(datetime)\u001b[0m\n",
      " |  | dashboard_ids \u001b[94m(list)\u001b[0m\n",
      " |  | docs_count \u001b[94m(int)\u001b[0m\n",
      " |  | docs_version \u001b[94m(int)\u001b[0m\n",
      " |  | flags \u001b[94m(dict)\u001b[0m\n",
      " |  | id \u001b[94m(int)\u001b[0m\n",
      " |  | label \u001b[94m(str)\u001b[0m\n",
      " |  | limits \u001b[94m(dict)\u001b[0m\n",
      " |  | out_of_reach_count \u001b[94m(int)\u001b[0m\n",
      " |  | project_manager_id \u001b[94m(int)\u001b[0m\n",
      " |  | research_manager_id \u001b[94m(int)\u001b[0m\n",
      " |  | role \u001b[94m(str)\u001b[0m\n",
      " |  | sinaweibo_options \u001b[94m(dict)\u001b[0m\n",
      " |  | total_indexed_docs_count \u001b[94m(int)\u001b[0m\n",
      " |  | updated \u001b[94m(datetime)\u001b[0m\n",
      " |  | vol_state \u001b[94m(int)\u001b[0m\n",
      " | theme \u001b[94m(str)\u001b[0m\n",
      " | timezone \u001b[94m(Europe/Paris)\u001b[0m\n",
      " | updated \u001b[94m(datetime)\u001b[0m\n"
     ]
    }
   ],
   "source": [
    "me.draw_structure(max_depth=2)"
   ]
  },
  {
   "cell_type": "markdown",
   "metadata": {},
   "source": [
    "As you can see, most of attributes are converted into a specific type (like the ``created`` or ``updated`` attribute which are ``datetime`` object, or the ``timezone`` attribute which is an instance of ``pytz.timezone``). The ``project`` attribute is a list of  ``InfoProject`` object defined by the ``radarly`` module."
   ]
  },
  {
   "cell_type": "markdown",
   "metadata": {},
   "source": [
    "You can explore the instance of ``User`` with a specific lanaguage. For example, if you want to get the id and label of all the projects containing 'DEMO' in its label, you can do that with:"
   ]
  },
  {
   "cell_type": "code",
   "execution_count": 9,
   "metadata": {},
   "outputs": [
    {
     "data": {
      "text/plain": [
       "[(2531, 'Pharma [OFFICIAL DEMO]'),\n",
       " (2847, 'Sport/Entertainment [OFFICIAL DEMO]'),\n",
       " (725, 'Beverages (Kusmi Tea) [OFFICIAL DEMO]'),\n",
       " (2905, 'FMCG Beauty [OFFICIAL DEMO]'),\n",
       " (2838, 'Travel/Resorts [OFFICIAL DEMO]'),\n",
       " (2898, 'Fashion [OFFICIAL DEMO]'),\n",
       " (2915, 'Banking/Insurance [OFFICIAL DEMO]'),\n",
       " (2992, 'Institutions [OFFICIAL DEMO]'),\n",
       " (2842, 'FMCG Food [OFFICIAL DEMO]'),\n",
       " (2910, 'Automotive [OFFICIAL DEMO]'),\n",
       " (2923, 'Resort/Theme Park [OFFICIAL DEMO]'),\n",
       " (2969, 'Electronics [OFFICIAL DEMO]'),\n",
       " (2989, 'Luxury [OFFICIAL DEMO]'),\n",
       " (2994, 'Industry  [OFFICIAL DEMO]'),\n",
       " (2998, 'Media / Telecom [OFFICIAL DEMO]'),\n",
       " (3228, 'Sport/Events [OFFICIAL DEMO]'),\n",
       " (3335, 'Food [OFFICIAL DEMO]')]"
      ]
     },
     "execution_count": 9,
     "metadata": {},
     "output_type": "execute_result"
    }
   ],
   "source": [
    "list(zip(me['$.projects(DEMO in label).id'], me['$.projects(DEMO in label).label']))"
   ]
  },
  {
   "cell_type": "code",
   "execution_count": 10,
   "metadata": {},
   "outputs": [
    {
     "data": {
      "text/plain": [
       "[<InfoProject.pid=2531.label=Pharma [OFFICIAL DEMO]>,\n",
       " <InfoProject.pid=2847.label=Sport/Entertainment [OFFICIAL DEMO]>,\n",
       " <InfoProject.pid=725.label=Beverages (Kusmi Tea) [OFFICIAL DEMO]>,\n",
       " <InfoProject.pid=2905.label=FMCG Beauty [OFFICIAL DEMO]>,\n",
       " <InfoProject.pid=2838.label=Travel/Resorts [OFFICIAL DEMO]>,\n",
       " <InfoProject.pid=2898.label=Fashion [OFFICIAL DEMO]>,\n",
       " <InfoProject.pid=2915.label=Banking/Insurance [OFFICIAL DEMO]>,\n",
       " <InfoProject.pid=2992.label=Institutions [OFFICIAL DEMO]>,\n",
       " <InfoProject.pid=2842.label=FMCG Food [OFFICIAL DEMO]>,\n",
       " <InfoProject.pid=2910.label=Automotive [OFFICIAL DEMO]>,\n",
       " <InfoProject.pid=2923.label=Resort/Theme Park [OFFICIAL DEMO]>,\n",
       " <InfoProject.pid=2969.label=Electronics [OFFICIAL DEMO]>,\n",
       " <InfoProject.pid=2989.label=Luxury [OFFICIAL DEMO]>,\n",
       " <InfoProject.pid=2994.label=Industry  [OFFICIAL DEMO]>,\n",
       " <InfoProject.pid=2998.label=Media / Telecom [OFFICIAL DEMO]>,\n",
       " <InfoProject.pid=3228.label=Sport/Events [OFFICIAL DEMO]>,\n",
       " <InfoProject.pid=3335.label=Food [OFFICIAL DEMO]>]"
      ]
     },
     "execution_count": 10,
     "metadata": {},
     "output_type": "execute_result"
    }
   ],
   "source": [
    "demo_projects = me['$.projects(DEMO in label)']\n",
    "demo_projects"
   ]
  },
  {
   "cell_type": "markdown",
   "metadata": {},
   "source": [
    "``InfoProject`` is a dict-like object storing some useful informations about a project, like its label, id or the number of documents in the project. It is also based on ``SourceModel`` so you can use ``draw_structure`` or the special method ``__getitem__``."
   ]
  },
  {
   "cell_type": "code",
   "execution_count": 11,
   "metadata": {},
   "outputs": [
    {
     "data": {
      "text/plain": [
       "<InfoProject.pid=2531.label=Pharma [OFFICIAL DEMO]>"
      ]
     },
     "execution_count": 11,
     "metadata": {},
     "output_type": "execute_result"
    }
   ],
   "source": [
    "pharma_project = demo_projects[0]\n",
    "pharma_project"
   ]
  },
  {
   "cell_type": "code",
   "execution_count": 13,
   "metadata": {},
   "outputs": [
    {
     "name": "stdout",
     "output_type": "stream",
     "text": [
      "InfoProject \u001b[94m(InfoProject)\u001b[0m\n",
      " | account_id \u001b[94m(int)\u001b[0m\n",
      " | client_reference \u001b[94m(str)\u001b[0m\n",
      " | created \u001b[94m(datetime)\u001b[0m\n",
      " | dashboard_ids \u001b[94m(list[int])\u001b[0m\n",
      " | docs_count \u001b[94m(int)\u001b[0m\n",
      " | docs_version \u001b[94m(int)\u001b[0m\n",
      " | flags \u001b[94m(dict)\u001b[0m\n",
      " |  | has_dedicated_index \u001b[94m(bool)\u001b[0m\n",
      " |  | has_paid_sse \u001b[94m(bool)\u001b[0m\n",
      " |  | is_accessible \u001b[94m(bool)\u001b[0m\n",
      " |  | is_active \u001b[94m(bool)\u001b[0m\n",
      " |  | is_alcmeon_activated \u001b[94m(bool)\u001b[0m\n",
      " |  | is_boardreader_activated \u001b[94m(bool)\u001b[0m\n",
      " |  | is_charged \u001b[94m(bool)\u001b[0m\n",
      " |  | is_com \u001b[94m(bool)\u001b[0m\n",
      " |  | is_gnip_activated \u001b[94m(bool)\u001b[0m\n",
      " |  | is_gnip_with_rt_activated \u001b[94m(bool)\u001b[0m\n",
      " |  | is_migrated \u001b[94m(bool)\u001b[0m\n",
      " |  | is_research \u001b[94m(bool)\u001b[0m\n",
      " |  | is_sinaweibo_activated \u001b[94m(bool)\u001b[0m\n",
      " |  | is_sinaweibo_live_comments_activated \u001b[94m(bool)\u001b[0m\n",
      " |  | is_social_wall_activated \u001b[94m(bool)\u001b[0m\n",
      " |  | is_socialgist_corpus_review_activated \u001b[94m(bool)\u001b[0m\n",
      " |  | is_socialgist_review_activated \u001b[94m(bool)\u001b[0m\n",
      " |  | is_test \u001b[94m(bool)\u001b[0m\n",
      " |  | is_translation_activated \u001b[94m(bool)\u001b[0m\n",
      " |  | is_twitter_public_api_activated \u001b[94m(bool)\u001b[0m\n",
      " | id \u001b[94m(int)\u001b[0m\n",
      " | label \u001b[94m(str)\u001b[0m\n",
      " | limits \u001b[94m(dict)\u001b[0m\n",
      " |  | max_corpus \u001b[94m(int)\u001b[0m\n",
      " |  | max_entities \u001b[94m(int)\u001b[0m\n",
      " |  | max_focus \u001b[94m(int)\u001b[0m\n",
      " |  | max_live_streams \u001b[94m(int)\u001b[0m\n",
      " |  | max_search \u001b[94m(int)\u001b[0m\n",
      " |  | max_social_account_by_plaform \u001b[94m(int)\u001b[0m\n",
      " |  | max_social_accounts \u001b[94m(int)\u001b[0m\n",
      " |  | max_source_in_corpus \u001b[94m(int)\u001b[0m\n",
      " |  | max_topics \u001b[94m(int)\u001b[0m\n",
      " |  | max_translation_budget \u001b[94m(int)\u001b[0m\n",
      " |  | max_vol \u001b[94m(int)\u001b[0m\n",
      " |  | pack \u001b[94m(str)\u001b[0m\n",
      " |  | start \u001b[94m(datetime)\u001b[0m\n",
      " |  | stop \u001b[94m(datetime)\u001b[0m\n",
      " | out_of_reach_count \u001b[94m(int)\u001b[0m\n",
      " | picture_id \u001b[94m(int)\u001b[0m\n",
      " | project_manager_id \u001b[94m(int)\u001b[0m\n",
      " | research_manager_id \u001b[94m(int)\u001b[0m\n",
      " | role \u001b[94m(str)\u001b[0m\n",
      " | sinaweibo_options \u001b[94m(dict)\u001b[0m\n",
      " |  | comments \u001b[94m(bool)\u001b[0m\n",
      " |  | duplicates \u001b[94m(bool)\u001b[0m\n",
      " |  | push \u001b[94m(bool)\u001b[0m\n",
      " |  | spam \u001b[94m(bool)\u001b[0m\n",
      " | total_indexed_docs_count \u001b[94m(int)\u001b[0m\n",
      " | updated \u001b[94m(datetime)\u001b[0m\n",
      " | vol_state \u001b[94m(int)\u001b[0m\n"
     ]
    }
   ],
   "source": [
    "pharma_project.draw_structure()"
   ]
  },
  {
   "cell_type": "code",
   "execution_count": 14,
   "metadata": {},
   "outputs": [
    {
     "name": "stdout",
     "output_type": "stream",
     "text": [
      "ID of the project............. 2531\n",
      "Name of the project........... Pharma [OFFICIAL DEMO]\n",
      "Number of documents........... 992991\n"
     ]
    }
   ],
   "source": [
    "print('ID of the project'.ljust(30,'.'), pharma_project.id)\n",
    "print('Name of the project'.ljust(30,'.'), pharma_project.label)\n",
    "print('Number of documents'.ljust(30,'.'), pharma_project.docs_count)"
   ]
  },
  {
   "cell_type": "markdown",
   "metadata": {},
   "source": [
    "In order to get all informations about a project, you have to call a specific path in the API. In the Python client, it can be done in two ways. First, you can use the ``expand`` method of ``InfoProject`` in order to retrive all informations. Otherwise, you can use the ``find`` class method of the ``Project`` (defined in ``radarly.project``) object which takes the project's is as argument. Both ways return a ``Project``object which will be explained in the next step of this tutorial."
   ]
  },
  {
   "cell_type": "code",
   "execution_count": 15,
   "metadata": {},
   "outputs": [
    {
     "data": {
      "text/plain": [
       "<Project.pid=2531.label=Pharma [OFFICIAL DEMO]>"
      ]
     },
     "execution_count": 15,
     "metadata": {},
     "output_type": "execute_result"
    }
   ],
   "source": [
    "full_project = pharma_project.expand()\n",
    "full_project"
   ]
  },
  {
   "cell_type": "code",
   "execution_count": 17,
   "metadata": {},
   "outputs": [
    {
     "data": {
      "text/plain": [
       "<Project.pid=2531.label=Pharma [OFFICIAL DEMO]>"
      ]
     },
     "execution_count": 17,
     "metadata": {},
     "output_type": "execute_result"
    }
   ],
   "source": [
    "from radarly.project import Project\n",
    "full_project = Project.find(pid=pharma_project.id)\n",
    "full_project"
   ]
  }
 ],
 "metadata": {
  "kernelspec": {
   "display_name": "Python 3",
   "language": "python",
   "name": "python3"
  },
  "language_info": {
   "codemirror_mode": {
    "name": "ipython",
    "version": 3
   },
   "file_extension": ".py",
   "mimetype": "text/x-python",
   "name": "python",
   "nbconvert_exporter": "python",
   "pygments_lexer": "ipython3",
   "version": "3.6.4"
  }
 },
 "nbformat": 4,
 "nbformat_minor": 2
}
