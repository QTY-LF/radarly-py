{
 "cells": [
  {
   "cell_type": "markdown",
   "metadata": {},
   "source": [
    "## Explore the User object"
   ]
  },
  {
   "cell_type": "markdown",
   "metadata": {},
   "source": [
    "This notebook shows how you can retrieve informations about the registred user for the API. Retrieve informations about the current user is a good start to explore the API because you can get all yout projects ids and so more. As always, you must start by import the right object and iniitialize an API object."
   ]
  },
  {
   "cell_type": "code",
   "execution_count": 1,
   "metadata": {},
   "outputs": [],
   "source": [
    "from radarly.api import RadarlyApi\n",
    "from radarly.user import User"
   ]
  },
  {
   "cell_type": "code",
   "execution_count": 2,
   "metadata": {},
   "outputs": [
    {
     "data": {
      "text/plain": [
       "<RadarlyAPI.client_id=XXXXXXXXXXX>"
      ]
     },
     "execution_count": 2,
     "metadata": {},
     "output_type": "execute_result"
    }
   ],
   "source": [
    "credentials = {\n",
    "   \"client_id\": \"XXXXXXXXXXXX\",\n",
    "   \"client_secret\": \"XXXXXXXXXXXXXX\"\n",
    "}\n",
    "api = RadarlyApi(**credentials)\n",
    "api"
   ]
  },
  {
   "cell_type": "markdown",
   "metadata": {},
   "source": [
    "Once the API is initialized, you can use it to retrieve informations about the current user. You can only retrieve your own informations by usid the ``find`` class method of ``User`` object with ``me`` as argument"
   ]
  },
  {
   "cell_type": "code",
   "execution_count": 3,
   "metadata": {},
   "outputs": [
    {
     "data": {
      "text/plain": [
       "<User.id=16246.email=user@linkfluence.com>"
      ]
     },
     "execution_count": 3,
     "metadata": {},
     "output_type": "execute_result"
    }
   ],
   "source": [
    "me = User.find(uid='me', api=api)\n",
    "me"
   ]
  },
  {
   "cell_type": "markdown",
   "metadata": {},
   "source": [
    "In order not to have to specify the API object, we will set it as the default API. Each time, we want to get remote informations without specify an API object, the default API will be automatically retrieved."
   ]
  },
  {
   "cell_type": "code",
   "execution_count": 4,
   "metadata": {},
   "outputs": [
    {
     "data": {
      "text/plain": [
       "<User.id=16246.email=user@linkfluence.com>"
      ]
     },
     "execution_count": 4,
     "metadata": {},
     "output_type": "execute_result"
    }
   ],
   "source": [
    "RadarlyApi.set_default_api(api)\n",
    "me = User.find(uid='me')\n",
    "me"
   ]
  },
  {
   "cell_type": "markdown",
   "metadata": {},
   "source": [
    "The ``User`` is a dict-like object (with a special process to transform each key to an attribute of the ``User`` instance). You can get consequently use the ``keys`` method to list all available keys of the object. "
   ]
  },
  {
   "cell_type": "code",
   "execution_count": 5,
   "metadata": {
    "scrolled": true
   },
   "outputs": [
    {
     "data": {
      "text/plain": [
       "['id', 'name', 'email', 'theme', 'locale', 'timezone', 'connected', 'is_pending', 'is_disabled', 'is_root', 'is_internal', 'is_manager', 'level', 'can_create_project', 'connection_count', 'updated', 'created', 'picture_id', 'current_project_id', 'apps', 'account_id', 'engagement', 'projects']"
      ]
     },
     "execution_count": 5,
     "metadata": {},
     "output_type": "execute_result"
    }
   ],
   "source": [
    "me.keys()"
   ]
  },
  {
   "cell_type": "markdown",
   "metadata": {},
   "source": [
    "Some of these attributes are a specific type (like the ``created`` or ``updated`` attribute which are ``datetime`` object, or the ``timezone`` attribute which is an instance of ``pytz.timezone``). The ``project`` attribute is a list of  ``InfoProject`` object defined by the ``radarly`` module."
   ]
  },
  {
   "cell_type": "code",
   "execution_count": 6,
   "metadata": {},
   "outputs": [
    {
     "data": {
      "text/plain": [
       "[InfoProject(pid=2847, label=Sport/Entertainment [OFFICIAL DEMO]),\n",
       " InfoProject(pid=725, label=Beverages (Kusmi Tea) [OFFICIAL DEMO]),\n",
       " InfoProject(pid=2905, label=FMCG Beauty [OFFICIAL DEMO]),\n",
       " InfoProject(pid=2838, label=Travel/Resorts [OFFICIAL DEMO]),\n",
       " InfoProject(pid=2898, label=Fashion [OFFICIAL DEMO]),\n",
       " InfoProject(pid=2915, label=Banking/Insurance [OFFICIAL DEMO]),\n",
       " InfoProject(pid=2992, label=Institutions [OFFICIAL DEMO]),\n",
       " InfoProject(pid=2842, label=FMCG Food [OFFICIAL DEMO]),\n",
       " InfoProject(pid=2910, label=Automotive [OFFICIAL DEMO]),\n",
       " InfoProject(pid=2923, label=Resort/Theme Park [OFFICIAL DEMO])]"
      ]
     },
     "execution_count": 6,
     "metadata": {},
     "output_type": "execute_result"
    }
   ],
   "source": [
    "me.projects[3:13]"
   ]
  },
  {
   "cell_type": "markdown",
   "metadata": {},
   "source": [
    "``InfoProject`` is a dict-like object storing some useful informations about a project, like its label, id or the number of documents in the project."
   ]
  },
  {
   "cell_type": "code",
   "execution_count": 7,
   "metadata": {},
   "outputs": [
    {
     "data": {
      "text/plain": [
       "['id', 'account_id', 'label', 'docs_count', 'total_indexed_docs_count', 'docs_version', 'out_of_reach_count', 'picture_id', 'client_reference', 'vol_state', 'project_manager_id', 'research_manager_id', 'created', 'updated', 'flags', 'limits', 'sinaweibo_options', 'role', 'dashboard_ids']"
      ]
     },
     "execution_count": 7,
     "metadata": {},
     "output_type": "execute_result"
    }
   ],
   "source": [
    "beauty_project = me.projects[5]\n",
    "beauty_project.keys()"
   ]
  },
  {
   "cell_type": "code",
   "execution_count": 8,
   "metadata": {},
   "outputs": [
    {
     "name": "stdout",
     "output_type": "stream",
     "text": [
      "ID of the project............. 2905\n",
      "Name of the project........... FMCG Beauty [OFFICIAL DEMO]\n",
      "Number of documents........... 4640427\n"
     ]
    }
   ],
   "source": [
    "print('ID of the project'.ljust(30,'.'), beauty_project.id)\n",
    "print('Name of the project'.ljust(30,'.'), beauty_project.label)\n",
    "print('Number of documents'.ljust(30,'.'), beauty_project.docs_count)"
   ]
  },
  {
   "cell_type": "markdown",
   "metadata": {},
   "source": [
    "In order to get all informations about a project, you have to call a specific path in the API. In the Python client, it can be done in two ways. First, you can use the ``expand`` method of ``InfoProject`` in order to retrive all informations. Otherwise, you can use the ``find`` class method of the ``Project`` (defined in ``radarly.project``) object which takes the project's is as argument. Both ways return a ``Project``object which will be explained in the next step of this tutorial."
   ]
  },
  {
   "cell_type": "code",
   "execution_count": 9,
   "metadata": {},
   "outputs": [
    {
     "data": {
      "text/plain": [
       "Project(pid=2905, label=FMCG Beauty [OFFICIAL DEMO])"
      ]
     },
     "execution_count": 9,
     "metadata": {},
     "output_type": "execute_result"
    }
   ],
   "source": [
    "full_project = beauty_project.expand()\n",
    "full_project"
   ]
  },
  {
   "cell_type": "code",
   "execution_count": 10,
   "metadata": {},
   "outputs": [
    {
     "data": {
      "text/plain": [
       "Project(pid=2905, label=FMCG Beauty [OFFICIAL DEMO])"
      ]
     },
     "execution_count": 10,
     "metadata": {},
     "output_type": "execute_result"
    }
   ],
   "source": [
    "from radarly.project import Project\n",
    "full_project = Project.find(pid=beauty_project.id)\n",
    "full_project"
   ]
  }
 ],
 "metadata": {
  "kernelspec": {
   "display_name": "Python 3",
   "language": "python",
   "name": "python3"
  },
  "language_info": {
   "codemirror_mode": {
    "name": "ipython",
    "version": 3
   },
   "file_extension": ".py",
   "mimetype": "text/x-python",
   "name": "python",
   "nbconvert_exporter": "python",
   "pygments_lexer": "ipython3",
   "version": "3.6.4"
  }
 },
 "nbformat": 4,
 "nbformat_minor": 2
}
