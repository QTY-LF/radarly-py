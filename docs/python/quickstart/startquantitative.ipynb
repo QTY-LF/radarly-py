{
 "cells": [
  {
   "cell_type": "markdown",
   "metadata": {},
   "source": [
    "## Start with Quantitative Data"
   ]
  },
  {
   "cell_type": "markdown",
   "metadata": {},
   "source": [
    "For now, we have only worked with qualitative data but Radarly API gives you the opportunity to perform many different computations on quantitative data. For example, you can retrieve the number of engagement actions on a set of publications (without a loop to sum all statistics in ``score``, or certain statistics about the publication's sentiment. We will explore here several objects defined by ``radarly-py`` to retrieve these statistics."
   ]
  },
  {
   "cell_type": "markdown",
   "metadata": {},
   "source": [
    "Most of statistic objects defined by ``radarly-py`` are built to be easily parsed with ``pandas`` (simply with ``pd.DataFrame(my_object)`` where ``my_object`` is an object defined by this package). Using ``pandas`` is not a requirement to work with quantitative data but it is strongly recommended. "
   ]
  },
  {
   "cell_type": "code",
   "execution_count": 1,
   "metadata": {
    "scrolled": true
   },
   "outputs": [
    {
     "data": {
      "text/plain": [
       "<Project.pid=2989.label=Luxury [OFFICIAL DEMO]>"
      ]
     },
     "execution_count": 1,
     "metadata": {},
     "output_type": "execute_result"
    }
   ],
   "source": [
    "from datetime import datetime\n",
    "from radarly import RadarlyApi\n",
    "from radarly.project import Project\n",
    "import pandas as pd\n",
    "from matplotlib import pyplot as plt\n",
    "\n",
    "RadarlyApi.init()\n",
    "\n",
    "project = Project.find(pid=2989)\n",
    "project"
   ]
  },
  {
   "cell_type": "markdown",
   "metadata": {},
   "source": [
    "Let's define some variables which will be useful later to build our payload."
   ]
  },
  {
   "cell_type": "code",
   "execution_count": 2,
   "metadata": {},
   "outputs": [
    {
     "data": {
      "text/plain": [
       "<Dashboard.id=10389.label=1. Watch Brands>"
      ]
     },
     "execution_count": 2,
     "metadata": {},
     "output_type": "execute_result"
    }
   ],
   "source": [
    "watch_dashboard = project.dashboards[0]\n",
    "watch_dashboard"
   ]
  },
  {
   "cell_type": "code",
   "execution_count": 3,
   "metadata": {},
   "outputs": [
    {
     "data": {
      "text/plain": [
       "<Tag.label=Reviews.type=custom>"
      ]
     },
     "execution_count": 3,
     "metadata": {},
     "output_type": "execute_result"
    }
   ],
   "source": [
    "tag = project['$.tags(type=custom)']\n",
    "tag"
   ]
  },
  {
   "cell_type": "markdown",
   "metadata": {},
   "source": [
    "### Distribution"
   ]
  },
  {
   "cell_type": "markdown",
   "metadata": {},
   "source": [
    "The ``Distribution`` object allows you to have the distribution over time of some metrics: number of document (with or without repost), number of impressions or number of engagement actions."
   ]
  },
  {
   "cell_type": "code",
   "execution_count": 4,
   "metadata": {},
   "outputs": [],
   "source": [
    "from radarly.parameters import DistributionParameter\n",
    "from radarly.constants import METRIC, INTERVAL"
   ]
  },
  {
   "cell_type": "markdown",
   "metadata": {},
   "source": [
    "To get data, we will use the ``get_distribution`` method of a project. You can also use the ``fetch`` class method of ``Distribution`` defined in ``radarly.distribution`` (in this case, you must specify the project's id as first argument: ``Distribution.fetch(2989, payload)``).\n",
    "\n",
    "The payload to send to the API (which is the first argument of the method) can be a dictionary you build yourself or an instance of ``DistributionParameter`` defined in ``radarly.parameters``. This payload is useful to specify on which set of publications you want to work and the format of data you retrieve (you can, for example, group the statistics by month instead of day)."
   ]
  },
  {
   "cell_type": "code",
   "execution_count": 5,
   "metadata": {},
   "outputs": [
    {
     "data": {
      "text/plain": [
       "<Distribution.length=119>"
      ]
     },
     "execution_count": 5,
     "metadata": {},
     "output_type": "execute_result"
    }
   ],
   "source": [
    "distri_param = DistributionParameter() \\\n",
    "    .publication_date(datetime(2018, 1, 1), datetime(2018, 4, 30)) \\\n",
    "    .focuses(include=watch_dashboard.focuses) \\\n",
    "    .metrics(METRIC.DOC, METRIC.ENGAGEMENT) \\\n",
    "    .interval(INTERVAL.DAY) \\\n",
    "    .flag(retweet=False)\n",
    "\n",
    "distribution = project.get_distribution(distri_param)\n",
    "distribution"
   ]
  },
  {
   "cell_type": "markdown",
   "metadata": {},
   "source": [
    "The ``Distribution`` object returns a distribution over time of the metrics asked. As announced, the ``Distribution`` object can be parsed with ``pandas``."
   ]
  },
  {
   "cell_type": "code",
   "execution_count": 6,
   "metadata": {},
   "outputs": [
    {
     "data": {
      "text/html": [
       "<div>\n",
       "<style scoped>\n",
       "    .dataframe tbody tr th:only-of-type {\n",
       "        vertical-align: middle;\n",
       "    }\n",
       "\n",
       "    .dataframe tbody tr th {\n",
       "        vertical-align: top;\n",
       "    }\n",
       "\n",
       "    .dataframe thead th {\n",
       "        text-align: right;\n",
       "    }\n",
       "</style>\n",
       "<table border=\"1\" class=\"dataframe\">\n",
       "  <thead>\n",
       "    <tr style=\"text-align: right;\">\n",
       "      <th></th>\n",
       "      <th>doc</th>\n",
       "      <th>engagement</th>\n",
       "    </tr>\n",
       "    <tr>\n",
       "      <th>date</th>\n",
       "      <th></th>\n",
       "      <th></th>\n",
       "    </tr>\n",
       "  </thead>\n",
       "  <tbody>\n",
       "    <tr>\n",
       "      <th>2018-01-01 00:00:00+00:00</th>\n",
       "      <td>10808</td>\n",
       "      <td>976313</td>\n",
       "    </tr>\n",
       "    <tr>\n",
       "      <th>2018-01-02 00:00:00+00:00</th>\n",
       "      <td>11810</td>\n",
       "      <td>729884</td>\n",
       "    </tr>\n",
       "    <tr>\n",
       "      <th>2018-01-03 00:00:00+00:00</th>\n",
       "      <td>11178</td>\n",
       "      <td>734651</td>\n",
       "    </tr>\n",
       "    <tr>\n",
       "      <th>2018-01-04 00:00:00+00:00</th>\n",
       "      <td>10715</td>\n",
       "      <td>871349</td>\n",
       "    </tr>\n",
       "    <tr>\n",
       "      <th>2018-01-05 00:00:00+00:00</th>\n",
       "      <td>12532</td>\n",
       "      <td>995183</td>\n",
       "    </tr>\n",
       "  </tbody>\n",
       "</table>\n",
       "</div>"
      ],
      "text/plain": [
       "                             doc  engagement\n",
       "date                                        \n",
       "2018-01-01 00:00:00+00:00  10808      976313\n",
       "2018-01-02 00:00:00+00:00  11810      729884\n",
       "2018-01-03 00:00:00+00:00  11178      734651\n",
       "2018-01-04 00:00:00+00:00  10715      871349\n",
       "2018-01-05 00:00:00+00:00  12532      995183"
      ]
     },
     "execution_count": 6,
     "metadata": {},
     "output_type": "execute_result"
    }
   ],
   "source": [
    "distribution = pd.DataFrame(distribution)\n",
    "distribution.set_index('date', inplace=True)\n",
    "distribution.head()"
   ]
  },
  {
   "cell_type": "markdown",
   "metadata": {},
   "source": [
    "Let's plot this distribution."
   ]
  },
  {
   "cell_type": "code",
   "execution_count": 7,
   "metadata": {},
   "outputs": [
    {
     "data": {
      "image/png": "[encoded data removed]",
      "text/plain": [
       "<matplotlib.figure.Figure at 0x10be386a0>"
      ]
     },
     "metadata": {},
     "output_type": "display_data"
    }
   ],
   "source": [
    "plt.figure(figsize=(16, 12))\n",
    "plt.bar(distribution.index, distribution.doc)\n",
    "plt.xlabel('Date'), plt.ylabel('Volume of publications')\n",
    "plt.title('distribution over time')\n",
    "plt.show()"
   ]
  },
  {
   "cell_type": "markdown",
   "metadata": {},
   "source": [
    "### Analytics"
   ]
  },
  {
   "cell_type": "markdown",
   "metadata": {},
   "source": [
    "The ``Analytics`` object has some similarities with the ``Distribution`` object: it allows you to have distribution over time of the same metrics. But ``Analytics`` allows you to have more details; for example, you can get the distribution by platform, the tones of publications... To get this object, you must use the ``get_analytics`` method of a project."
   ]
  },
  {
   "cell_type": "code",
   "execution_count": 8,
   "metadata": {},
   "outputs": [],
   "source": [
    "from radarly.parameters import AnalyticsParameter\n",
    "from radarly.constants import ANALYTICS_FIELD, METRIC"
   ]
  },
  {
   "cell_type": "markdown",
   "metadata": {},
   "source": [
    "The payload sent to the API can be built with ``AnalyticsParameter`` defined in ``radarly.parameters``. It is similar to ``DistributionParameter`` but has some additional methods; for example, the ``fields`` method allows you to specify all the fields which must be computed."
   ]
  },
  {
   "cell_type": "code",
   "execution_count": 9,
   "metadata": {},
   "outputs": [
    {
     "data": {
      "text/plain": [
       "<Analytics.fields=['total', 'counts', 'platforms', 'categories', 'focuses', 'occupations']>"
      ]
     },
     "execution_count": 9,
     "metadata": {},
     "output_type": "execute_result"
    }
   ],
   "source": [
    "fields = [\n",
    "    ANALYTICS_FIELD.CATEGORIES, ANALYTICS_FIELD.PLATFORMS, ANALYTICS_FIELD.FOCUSES,\n",
    "    ANALYTICS_FIELD.OCCUPATIONS\n",
    "]\n",
    "stat_param = AnalyticsParameter() \\\n",
    "    .publication_date(datetime(2018, 1, 1), datetime(2018, 4, 30)) \\\n",
    "    .focuses(include=watch_dashboard.focuses) \\\n",
    "    .fctx(*watch_dashboard.focuses) \\\n",
    "    .fields(*fields) \\\n",
    "    .flag(retweet=False) \\\n",
    "    .metrics(METRIC.ENGAGEMENT, METRIC.DOC)\n",
    "\n",
    "stats = project.get_analytics(stat_param)\n",
    "stats"
   ]
  },
  {
   "cell_type": "markdown",
   "metadata": {},
   "source": [
    "The ``Analytics`` object is built of several independant parts, one for each field (the ``total`` and ``counts`` fields are returned without being asked). Each field can be transformed into a DataFrame (if you transform directly the ``Analytics`` object, the result will not be nicely displayed)."
   ]
  },
  {
   "cell_type": "code",
   "execution_count": 10,
   "metadata": {},
   "outputs": [
    {
     "data": {
      "text/html": [
       "<div>\n",
       "<style scoped>\n",
       "    .dataframe tbody tr th:only-of-type {\n",
       "        vertical-align: middle;\n",
       "    }\n",
       "\n",
       "    .dataframe tbody tr th {\n",
       "        vertical-align: top;\n",
       "    }\n",
       "\n",
       "    .dataframe thead th {\n",
       "        text-align: right;\n",
       "    }\n",
       "</style>\n",
       "<table border=\"1\" class=\"dataframe\">\n",
       "  <thead>\n",
       "    <tr style=\"text-align: right;\">\n",
       "      <th></th>\n",
       "      <th></th>\n",
       "      <th>abbe</th>\n",
       "      <th>academician</th>\n",
       "      <th>accordionist</th>\n",
       "      <th>account executive</th>\n",
       "      <th>accountant</th>\n",
       "      <th>acrobat</th>\n",
       "      <th>actor</th>\n",
       "      <th>actuary</th>\n",
       "      <th>advertising person</th>\n",
       "      <th>advertising photographer</th>\n",
       "      <th>...</th>\n",
       "      <th>webmaster</th>\n",
       "      <th>wedding planner</th>\n",
       "      <th>welder</th>\n",
       "      <th>wet nurse</th>\n",
       "      <th>winemaker</th>\n",
       "      <th>wire drawer</th>\n",
       "      <th>woman composer</th>\n",
       "      <th>woman of letters</th>\n",
       "      <th>writer</th>\n",
       "      <th>zoologist</th>\n",
       "    </tr>\n",
       "  </thead>\n",
       "  <tbody>\n",
       "    <tr>\n",
       "      <th rowspan=\"5\" valign=\"top\">doc</th>\n",
       "      <th>2018-01-01 00:00:00+00:00</th>\n",
       "      <td>NaN</td>\n",
       "      <td>NaN</td>\n",
       "      <td>NaN</td>\n",
       "      <td>NaN</td>\n",
       "      <td>4.0</td>\n",
       "      <td>NaN</td>\n",
       "      <td>21</td>\n",
       "      <td>NaN</td>\n",
       "      <td>NaN</td>\n",
       "      <td>NaN</td>\n",
       "      <td>...</td>\n",
       "      <td>1.0</td>\n",
       "      <td>NaN</td>\n",
       "      <td>NaN</td>\n",
       "      <td>NaN</td>\n",
       "      <td>1.0</td>\n",
       "      <td>NaN</td>\n",
       "      <td>NaN</td>\n",
       "      <td>NaN</td>\n",
       "      <td>32</td>\n",
       "      <td>NaN</td>\n",
       "    </tr>\n",
       "    <tr>\n",
       "      <th>2018-01-02 00:00:00+00:00</th>\n",
       "      <td>NaN</td>\n",
       "      <td>NaN</td>\n",
       "      <td>NaN</td>\n",
       "      <td>NaN</td>\n",
       "      <td>1.0</td>\n",
       "      <td>NaN</td>\n",
       "      <td>10</td>\n",
       "      <td>NaN</td>\n",
       "      <td>NaN</td>\n",
       "      <td>NaN</td>\n",
       "      <td>...</td>\n",
       "      <td>NaN</td>\n",
       "      <td>NaN</td>\n",
       "      <td>NaN</td>\n",
       "      <td>NaN</td>\n",
       "      <td>NaN</td>\n",
       "      <td>NaN</td>\n",
       "      <td>NaN</td>\n",
       "      <td>NaN</td>\n",
       "      <td>28</td>\n",
       "      <td>NaN</td>\n",
       "    </tr>\n",
       "    <tr>\n",
       "      <th>2018-01-03 00:00:00+00:00</th>\n",
       "      <td>NaN</td>\n",
       "      <td>NaN</td>\n",
       "      <td>NaN</td>\n",
       "      <td>NaN</td>\n",
       "      <td>2.0</td>\n",
       "      <td>NaN</td>\n",
       "      <td>6</td>\n",
       "      <td>NaN</td>\n",
       "      <td>NaN</td>\n",
       "      <td>NaN</td>\n",
       "      <td>...</td>\n",
       "      <td>NaN</td>\n",
       "      <td>NaN</td>\n",
       "      <td>NaN</td>\n",
       "      <td>NaN</td>\n",
       "      <td>1.0</td>\n",
       "      <td>NaN</td>\n",
       "      <td>NaN</td>\n",
       "      <td>NaN</td>\n",
       "      <td>16</td>\n",
       "      <td>NaN</td>\n",
       "    </tr>\n",
       "    <tr>\n",
       "      <th>2018-01-04 00:00:00+00:00</th>\n",
       "      <td>NaN</td>\n",
       "      <td>NaN</td>\n",
       "      <td>NaN</td>\n",
       "      <td>1.0</td>\n",
       "      <td>NaN</td>\n",
       "      <td>NaN</td>\n",
       "      <td>13</td>\n",
       "      <td>NaN</td>\n",
       "      <td>NaN</td>\n",
       "      <td>NaN</td>\n",
       "      <td>...</td>\n",
       "      <td>NaN</td>\n",
       "      <td>NaN</td>\n",
       "      <td>NaN</td>\n",
       "      <td>NaN</td>\n",
       "      <td>NaN</td>\n",
       "      <td>NaN</td>\n",
       "      <td>NaN</td>\n",
       "      <td>NaN</td>\n",
       "      <td>27</td>\n",
       "      <td>NaN</td>\n",
       "    </tr>\n",
       "    <tr>\n",
       "      <th>2018-01-05 00:00:00+00:00</th>\n",
       "      <td>1.0</td>\n",
       "      <td>NaN</td>\n",
       "      <td>NaN</td>\n",
       "      <td>NaN</td>\n",
       "      <td>3.0</td>\n",
       "      <td>NaN</td>\n",
       "      <td>14</td>\n",
       "      <td>1.0</td>\n",
       "      <td>NaN</td>\n",
       "      <td>NaN</td>\n",
       "      <td>...</td>\n",
       "      <td>NaN</td>\n",
       "      <td>NaN</td>\n",
       "      <td>NaN</td>\n",
       "      <td>NaN</td>\n",
       "      <td>NaN</td>\n",
       "      <td>NaN</td>\n",
       "      <td>NaN</td>\n",
       "      <td>NaN</td>\n",
       "      <td>23</td>\n",
       "      <td>NaN</td>\n",
       "    </tr>\n",
       "  </tbody>\n",
       "</table>\n",
       "<p>5 rows × 876 columns</p>\n",
       "</div>"
      ],
      "text/plain": [
       "                               abbe  academician  accordionist  \\\n",
       "doc 2018-01-01 00:00:00+00:00   NaN          NaN           NaN   \n",
       "    2018-01-02 00:00:00+00:00   NaN          NaN           NaN   \n",
       "    2018-01-03 00:00:00+00:00   NaN          NaN           NaN   \n",
       "    2018-01-04 00:00:00+00:00   NaN          NaN           NaN   \n",
       "    2018-01-05 00:00:00+00:00   1.0          NaN           NaN   \n",
       "\n",
       "                               account executive  accountant  acrobat  actor  \\\n",
       "doc 2018-01-01 00:00:00+00:00                NaN         4.0      NaN     21   \n",
       "    2018-01-02 00:00:00+00:00                NaN         1.0      NaN     10   \n",
       "    2018-01-03 00:00:00+00:00                NaN         2.0      NaN      6   \n",
       "    2018-01-04 00:00:00+00:00                1.0         NaN      NaN     13   \n",
       "    2018-01-05 00:00:00+00:00                NaN         3.0      NaN     14   \n",
       "\n",
       "                               actuary  advertising person  \\\n",
       "doc 2018-01-01 00:00:00+00:00      NaN                 NaN   \n",
       "    2018-01-02 00:00:00+00:00      NaN                 NaN   \n",
       "    2018-01-03 00:00:00+00:00      NaN                 NaN   \n",
       "    2018-01-04 00:00:00+00:00      NaN                 NaN   \n",
       "    2018-01-05 00:00:00+00:00      1.0                 NaN   \n",
       "\n",
       "                               advertising photographer    ...      webmaster  \\\n",
       "doc 2018-01-01 00:00:00+00:00                       NaN    ...            1.0   \n",
       "    2018-01-02 00:00:00+00:00                       NaN    ...            NaN   \n",
       "    2018-01-03 00:00:00+00:00                       NaN    ...            NaN   \n",
       "    2018-01-04 00:00:00+00:00                       NaN    ...            NaN   \n",
       "    2018-01-05 00:00:00+00:00                       NaN    ...            NaN   \n",
       "\n",
       "                               wedding planner  welder  wet nurse  winemaker  \\\n",
       "doc 2018-01-01 00:00:00+00:00              NaN     NaN        NaN        1.0   \n",
       "    2018-01-02 00:00:00+00:00              NaN     NaN        NaN        NaN   \n",
       "    2018-01-03 00:00:00+00:00              NaN     NaN        NaN        1.0   \n",
       "    2018-01-04 00:00:00+00:00              NaN     NaN        NaN        NaN   \n",
       "    2018-01-05 00:00:00+00:00              NaN     NaN        NaN        NaN   \n",
       "\n",
       "                               wire drawer  woman composer  woman of letters  \\\n",
       "doc 2018-01-01 00:00:00+00:00          NaN             NaN               NaN   \n",
       "    2018-01-02 00:00:00+00:00          NaN             NaN               NaN   \n",
       "    2018-01-03 00:00:00+00:00          NaN             NaN               NaN   \n",
       "    2018-01-04 00:00:00+00:00          NaN             NaN               NaN   \n",
       "    2018-01-05 00:00:00+00:00          NaN             NaN               NaN   \n",
       "\n",
       "                               writer  zoologist  \n",
       "doc 2018-01-01 00:00:00+00:00      32        NaN  \n",
       "    2018-01-02 00:00:00+00:00      28        NaN  \n",
       "    2018-01-03 00:00:00+00:00      16        NaN  \n",
       "    2018-01-04 00:00:00+00:00      27        NaN  \n",
       "    2018-01-05 00:00:00+00:00      23        NaN  \n",
       "\n",
       "[5 rows x 876 columns]"
      ]
     },
     "execution_count": 10,
     "metadata": {},
     "output_type": "execute_result"
    }
   ],
   "source": [
    "occupations = pd.DataFrame(stats['occupations'])\n",
    "occupations.head()"
   ]
  },
  {
   "cell_type": "code",
   "execution_count": 11,
   "metadata": {},
   "outputs": [
    {
     "data": {
      "text/html": [
       "<div>\n",
       "<style scoped>\n",
       "    .dataframe tbody tr th:only-of-type {\n",
       "        vertical-align: middle;\n",
       "    }\n",
       "\n",
       "    .dataframe tbody tr th {\n",
       "        vertical-align: top;\n",
       "    }\n",
       "\n",
       "    .dataframe thead th {\n",
       "        text-align: right;\n",
       "    }\n",
       "</style>\n",
       "<table border=\"1\" class=\"dataframe\">\n",
       "  <thead>\n",
       "    <tr style=\"text-align: right;\">\n",
       "      <th></th>\n",
       "      <th></th>\n",
       "      <th>Breitling</th>\n",
       "      <th>Jaeger-LeCoultre</th>\n",
       "      <th>Omega</th>\n",
       "      <th>Rolex</th>\n",
       "      <th>Tag Heuer</th>\n",
       "    </tr>\n",
       "  </thead>\n",
       "  <tbody>\n",
       "    <tr>\n",
       "      <th rowspan=\"5\" valign=\"top\">doc</th>\n",
       "      <th>2018-01-01 00:00:00+00:00</th>\n",
       "      <td>746</td>\n",
       "      <td>553</td>\n",
       "      <td>646</td>\n",
       "      <td>8022</td>\n",
       "      <td>1400</td>\n",
       "    </tr>\n",
       "    <tr>\n",
       "      <th>2018-01-02 00:00:00+00:00</th>\n",
       "      <td>686</td>\n",
       "      <td>415</td>\n",
       "      <td>719</td>\n",
       "      <td>9083</td>\n",
       "      <td>1293</td>\n",
       "    </tr>\n",
       "    <tr>\n",
       "      <th>2018-01-03 00:00:00+00:00</th>\n",
       "      <td>645</td>\n",
       "      <td>422</td>\n",
       "      <td>618</td>\n",
       "      <td>8960</td>\n",
       "      <td>1095</td>\n",
       "    </tr>\n",
       "    <tr>\n",
       "      <th>2018-01-04 00:00:00+00:00</th>\n",
       "      <td>695</td>\n",
       "      <td>457</td>\n",
       "      <td>623</td>\n",
       "      <td>8253</td>\n",
       "      <td>1160</td>\n",
       "    </tr>\n",
       "    <tr>\n",
       "      <th>2018-01-05 00:00:00+00:00</th>\n",
       "      <td>867</td>\n",
       "      <td>678</td>\n",
       "      <td>633</td>\n",
       "      <td>9725</td>\n",
       "      <td>1208</td>\n",
       "    </tr>\n",
       "  </tbody>\n",
       "</table>\n",
       "</div>"
      ],
      "text/plain": [
       "                               Breitling  Jaeger-LeCoultre  Omega  Rolex  \\\n",
       "doc 2018-01-01 00:00:00+00:00        746               553    646   8022   \n",
       "    2018-01-02 00:00:00+00:00        686               415    719   9083   \n",
       "    2018-01-03 00:00:00+00:00        645               422    618   8960   \n",
       "    2018-01-04 00:00:00+00:00        695               457    623   8253   \n",
       "    2018-01-05 00:00:00+00:00        867               678    633   9725   \n",
       "\n",
       "                               Tag Heuer  \n",
       "doc 2018-01-01 00:00:00+00:00       1400  \n",
       "    2018-01-02 00:00:00+00:00       1293  \n",
       "    2018-01-03 00:00:00+00:00       1095  \n",
       "    2018-01-04 00:00:00+00:00       1160  \n",
       "    2018-01-05 00:00:00+00:00       1208  "
      ]
     },
     "execution_count": 11,
     "metadata": {},
     "output_type": "execute_result"
    }
   ],
   "source": [
    "focuses = pd.DataFrame(stats['focuses'])\n",
    "focuses.head()"
   ]
  },
  {
   "cell_type": "code",
   "execution_count": 12,
   "metadata": {},
   "outputs": [
    {
     "data": {
      "text/html": [
       "<div>\n",
       "<style scoped>\n",
       "    .dataframe tbody tr th:only-of-type {\n",
       "        vertical-align: middle;\n",
       "    }\n",
       "\n",
       "    .dataframe tbody tr th {\n",
       "        vertical-align: top;\n",
       "    }\n",
       "\n",
       "    .dataframe thead th {\n",
       "        text-align: right;\n",
       "    }\n",
       "</style>\n",
       "<table border=\"1\" class=\"dataframe\">\n",
       "  <thead>\n",
       "    <tr style=\"text-align: right;\">\n",
       "      <th></th>\n",
       "      <th></th>\n",
       "      <th>business.market</th>\n",
       "      <th>business.transport</th>\n",
       "      <th>business.your-money</th>\n",
       "      <th>ecology.biodiversity</th>\n",
       "      <th>ecology.climatic</th>\n",
       "      <th>ecology.farming</th>\n",
       "      <th>ecology.pollution-recycling</th>\n",
       "      <th>entertainment.arts</th>\n",
       "      <th>entertainment.comics</th>\n",
       "      <th>entertainment.movies</th>\n",
       "      <th>...</th>\n",
       "      <th>sport.ski-jumping</th>\n",
       "      <th>sport.snowboard</th>\n",
       "      <th>sport.surf</th>\n",
       "      <th>sport.tennis</th>\n",
       "      <th>sport.volleyball</th>\n",
       "      <th>sport.windsurf</th>\n",
       "      <th>technology.computer</th>\n",
       "      <th>technology.mobile-device</th>\n",
       "      <th>technology.science</th>\n",
       "      <th>technology.startup-digital</th>\n",
       "    </tr>\n",
       "  </thead>\n",
       "  <tbody>\n",
       "    <tr>\n",
       "      <th rowspan=\"5\" valign=\"top\">doc</th>\n",
       "      <th>2018-01-01 00:00:00+00:00</th>\n",
       "      <td>180</td>\n",
       "      <td>2.0</td>\n",
       "      <td>3.0</td>\n",
       "      <td>35</td>\n",
       "      <td>NaN</td>\n",
       "      <td>NaN</td>\n",
       "      <td>1.0</td>\n",
       "      <td>2.0</td>\n",
       "      <td>NaN</td>\n",
       "      <td>21</td>\n",
       "      <td>...</td>\n",
       "      <td>NaN</td>\n",
       "      <td>NaN</td>\n",
       "      <td>NaN</td>\n",
       "      <td>11</td>\n",
       "      <td>NaN</td>\n",
       "      <td>NaN</td>\n",
       "      <td>NaN</td>\n",
       "      <td>36</td>\n",
       "      <td>1.0</td>\n",
       "      <td>208</td>\n",
       "    </tr>\n",
       "    <tr>\n",
       "      <th>2018-01-02 00:00:00+00:00</th>\n",
       "      <td>162</td>\n",
       "      <td>NaN</td>\n",
       "      <td>3.0</td>\n",
       "      <td>33</td>\n",
       "      <td>1.0</td>\n",
       "      <td>4.0</td>\n",
       "      <td>NaN</td>\n",
       "      <td>3.0</td>\n",
       "      <td>1.0</td>\n",
       "      <td>18</td>\n",
       "      <td>...</td>\n",
       "      <td>NaN</td>\n",
       "      <td>NaN</td>\n",
       "      <td>NaN</td>\n",
       "      <td>16</td>\n",
       "      <td>NaN</td>\n",
       "      <td>NaN</td>\n",
       "      <td>9.0</td>\n",
       "      <td>25</td>\n",
       "      <td>1.0</td>\n",
       "      <td>230</td>\n",
       "    </tr>\n",
       "    <tr>\n",
       "      <th>2018-01-03 00:00:00+00:00</th>\n",
       "      <td>108</td>\n",
       "      <td>1.0</td>\n",
       "      <td>4.0</td>\n",
       "      <td>130</td>\n",
       "      <td>NaN</td>\n",
       "      <td>1.0</td>\n",
       "      <td>1.0</td>\n",
       "      <td>6.0</td>\n",
       "      <td>NaN</td>\n",
       "      <td>33</td>\n",
       "      <td>...</td>\n",
       "      <td>NaN</td>\n",
       "      <td>NaN</td>\n",
       "      <td>NaN</td>\n",
       "      <td>22</td>\n",
       "      <td>NaN</td>\n",
       "      <td>NaN</td>\n",
       "      <td>4.0</td>\n",
       "      <td>14</td>\n",
       "      <td>2.0</td>\n",
       "      <td>227</td>\n",
       "    </tr>\n",
       "    <tr>\n",
       "      <th>2018-01-04 00:00:00+00:00</th>\n",
       "      <td>139</td>\n",
       "      <td>NaN</td>\n",
       "      <td>3.0</td>\n",
       "      <td>30</td>\n",
       "      <td>NaN</td>\n",
       "      <td>NaN</td>\n",
       "      <td>NaN</td>\n",
       "      <td>NaN</td>\n",
       "      <td>NaN</td>\n",
       "      <td>89</td>\n",
       "      <td>...</td>\n",
       "      <td>NaN</td>\n",
       "      <td>NaN</td>\n",
       "      <td>NaN</td>\n",
       "      <td>15</td>\n",
       "      <td>NaN</td>\n",
       "      <td>NaN</td>\n",
       "      <td>4.0</td>\n",
       "      <td>5</td>\n",
       "      <td>NaN</td>\n",
       "      <td>253</td>\n",
       "    </tr>\n",
       "    <tr>\n",
       "      <th>2018-01-05 00:00:00+00:00</th>\n",
       "      <td>144</td>\n",
       "      <td>NaN</td>\n",
       "      <td>9.0</td>\n",
       "      <td>37</td>\n",
       "      <td>NaN</td>\n",
       "      <td>NaN</td>\n",
       "      <td>NaN</td>\n",
       "      <td>1.0</td>\n",
       "      <td>NaN</td>\n",
       "      <td>56</td>\n",
       "      <td>...</td>\n",
       "      <td>NaN</td>\n",
       "      <td>NaN</td>\n",
       "      <td>NaN</td>\n",
       "      <td>10</td>\n",
       "      <td>NaN</td>\n",
       "      <td>NaN</td>\n",
       "      <td>3.0</td>\n",
       "      <td>18</td>\n",
       "      <td>2.0</td>\n",
       "      <td>245</td>\n",
       "    </tr>\n",
       "  </tbody>\n",
       "</table>\n",
       "<p>5 rows × 68 columns</p>\n",
       "</div>"
      ],
      "text/plain": [
       "                               business.market  business.transport  \\\n",
       "doc 2018-01-01 00:00:00+00:00              180                 2.0   \n",
       "    2018-01-02 00:00:00+00:00              162                 NaN   \n",
       "    2018-01-03 00:00:00+00:00              108                 1.0   \n",
       "    2018-01-04 00:00:00+00:00              139                 NaN   \n",
       "    2018-01-05 00:00:00+00:00              144                 NaN   \n",
       "\n",
       "                               business.your-money  ecology.biodiversity  \\\n",
       "doc 2018-01-01 00:00:00+00:00                  3.0                    35   \n",
       "    2018-01-02 00:00:00+00:00                  3.0                    33   \n",
       "    2018-01-03 00:00:00+00:00                  4.0                   130   \n",
       "    2018-01-04 00:00:00+00:00                  3.0                    30   \n",
       "    2018-01-05 00:00:00+00:00                  9.0                    37   \n",
       "\n",
       "                               ecology.climatic  ecology.farming  \\\n",
       "doc 2018-01-01 00:00:00+00:00               NaN              NaN   \n",
       "    2018-01-02 00:00:00+00:00               1.0              4.0   \n",
       "    2018-01-03 00:00:00+00:00               NaN              1.0   \n",
       "    2018-01-04 00:00:00+00:00               NaN              NaN   \n",
       "    2018-01-05 00:00:00+00:00               NaN              NaN   \n",
       "\n",
       "                               ecology.pollution-recycling  \\\n",
       "doc 2018-01-01 00:00:00+00:00                          1.0   \n",
       "    2018-01-02 00:00:00+00:00                          NaN   \n",
       "    2018-01-03 00:00:00+00:00                          1.0   \n",
       "    2018-01-04 00:00:00+00:00                          NaN   \n",
       "    2018-01-05 00:00:00+00:00                          NaN   \n",
       "\n",
       "                               entertainment.arts  entertainment.comics  \\\n",
       "doc 2018-01-01 00:00:00+00:00                 2.0                   NaN   \n",
       "    2018-01-02 00:00:00+00:00                 3.0                   1.0   \n",
       "    2018-01-03 00:00:00+00:00                 6.0                   NaN   \n",
       "    2018-01-04 00:00:00+00:00                 NaN                   NaN   \n",
       "    2018-01-05 00:00:00+00:00                 1.0                   NaN   \n",
       "\n",
       "                               entertainment.movies  \\\n",
       "doc 2018-01-01 00:00:00+00:00                    21   \n",
       "    2018-01-02 00:00:00+00:00                    18   \n",
       "    2018-01-03 00:00:00+00:00                    33   \n",
       "    2018-01-04 00:00:00+00:00                    89   \n",
       "    2018-01-05 00:00:00+00:00                    56   \n",
       "\n",
       "                                          ...              sport.ski-jumping  \\\n",
       "doc 2018-01-01 00:00:00+00:00             ...                            NaN   \n",
       "    2018-01-02 00:00:00+00:00             ...                            NaN   \n",
       "    2018-01-03 00:00:00+00:00             ...                            NaN   \n",
       "    2018-01-04 00:00:00+00:00             ...                            NaN   \n",
       "    2018-01-05 00:00:00+00:00             ...                            NaN   \n",
       "\n",
       "                               sport.snowboard  sport.surf  sport.tennis  \\\n",
       "doc 2018-01-01 00:00:00+00:00              NaN         NaN            11   \n",
       "    2018-01-02 00:00:00+00:00              NaN         NaN            16   \n",
       "    2018-01-03 00:00:00+00:00              NaN         NaN            22   \n",
       "    2018-01-04 00:00:00+00:00              NaN         NaN            15   \n",
       "    2018-01-05 00:00:00+00:00              NaN         NaN            10   \n",
       "\n",
       "                               sport.volleyball  sport.windsurf  \\\n",
       "doc 2018-01-01 00:00:00+00:00               NaN             NaN   \n",
       "    2018-01-02 00:00:00+00:00               NaN             NaN   \n",
       "    2018-01-03 00:00:00+00:00               NaN             NaN   \n",
       "    2018-01-04 00:00:00+00:00               NaN             NaN   \n",
       "    2018-01-05 00:00:00+00:00               NaN             NaN   \n",
       "\n",
       "                               technology.computer  technology.mobile-device  \\\n",
       "doc 2018-01-01 00:00:00+00:00                  NaN                        36   \n",
       "    2018-01-02 00:00:00+00:00                  9.0                        25   \n",
       "    2018-01-03 00:00:00+00:00                  4.0                        14   \n",
       "    2018-01-04 00:00:00+00:00                  4.0                         5   \n",
       "    2018-01-05 00:00:00+00:00                  3.0                        18   \n",
       "\n",
       "                               technology.science  technology.startup-digital  \n",
       "doc 2018-01-01 00:00:00+00:00                 1.0                         208  \n",
       "    2018-01-02 00:00:00+00:00                 1.0                         230  \n",
       "    2018-01-03 00:00:00+00:00                 2.0                         227  \n",
       "    2018-01-04 00:00:00+00:00                 NaN                         253  \n",
       "    2018-01-05 00:00:00+00:00                 2.0                         245  \n",
       "\n",
       "[5 rows x 68 columns]"
      ]
     },
     "execution_count": 12,
     "metadata": {},
     "output_type": "execute_result"
    }
   ],
   "source": [
    "categories = pd.DataFrame(stats['categories'])\n",
    "categories.head()"
   ]
  },
  {
   "cell_type": "markdown",
   "metadata": {},
   "source": [
    "### Pivot Table"
   ]
  },
  {
   "cell_type": "markdown",
   "metadata": {},
   "source": [
    "Contrary to previous objects, a ``PivotTable`` doesn't store a distribution over time but allows you to cross data."
   ]
  },
  {
   "cell_type": "code",
   "execution_count": 13,
   "metadata": {},
   "outputs": [],
   "source": [
    "from radarly.parameters import PivotParameter\n",
    "from radarly.constants import METRIC"
   ]
  },
  {
   "cell_type": "markdown",
   "metadata": {},
   "source": [
    "You can use either the ``get_pivot_table`` method of a project or the ``fetch`` class method of the ``PivotTable`` defined in ``radarly.pivottable``.\n",
    "\n",
    "<div class=\"alert alert-info\">\n",
    "If you use the ``fetch`` class method, you must specify additional keywords arguments in order to allow the right parsing of the table. Check the [documentation of this method](https://api.linkfluence.com/python/sourcecode/radarly.pivottable.html#radarly.pivottable.PivotTable.fetch) for more information.\n",
    "</div>"
   ]
  },
  {
   "cell_type": "code",
   "execution_count": 14,
   "metadata": {},
   "outputs": [
    {
     "data": {
      "text/plain": [
       "<PivotTable.pivot=tones.against=focuses>"
      ]
     },
     "execution_count": 14,
     "metadata": {},
     "output_type": "execute_result"
    }
   ],
   "source": [
    "pivot_param = PivotParameter(pivot='tones', against='focuses') \\\n",
    "    .publication_date(datetime(2018, 3, 1), datetime(2018, 4, 30)) \\\n",
    "    .focuses(include=watch_dashboard.focuses) \\\n",
    "    .fctx(*watch_dashboard.focuses) \\\n",
    "    .metrics(METRIC.DOC, METRIC.IMPRESSION, METRIC.ENGAGEMENT) \\\n",
    "    .flag(retweet=False)\n",
    "\n",
    "table = project.get_pivot_table(pivot_param)\n",
    "table"
   ]
  },
  {
   "cell_type": "code",
   "execution_count": 15,
   "metadata": {},
   "outputs": [
    {
     "data": {
      "text/html": [
       "<div>\n",
       "<style scoped>\n",
       "    .dataframe tbody tr th:only-of-type {\n",
       "        vertical-align: middle;\n",
       "    }\n",
       "\n",
       "    .dataframe tbody tr th {\n",
       "        vertical-align: top;\n",
       "    }\n",
       "\n",
       "    .dataframe thead th {\n",
       "        text-align: right;\n",
       "    }\n",
       "</style>\n",
       "<table border=\"1\" class=\"dataframe\">\n",
       "  <thead>\n",
       "    <tr style=\"text-align: right;\">\n",
       "      <th></th>\n",
       "      <th></th>\n",
       "      <th>Breitling</th>\n",
       "      <th>Jaeger-LeCoultre</th>\n",
       "      <th>Omega</th>\n",
       "      <th>Rolex</th>\n",
       "      <th>Tag Heuer</th>\n",
       "    </tr>\n",
       "  </thead>\n",
       "  <tbody>\n",
       "    <tr>\n",
       "      <th rowspan=\"4\" valign=\"top\">doc</th>\n",
       "      <th>mixed</th>\n",
       "      <td>714</td>\n",
       "      <td>375</td>\n",
       "      <td>703</td>\n",
       "      <td>13347</td>\n",
       "      <td>1198</td>\n",
       "    </tr>\n",
       "    <tr>\n",
       "      <th>negative</th>\n",
       "      <td>1130</td>\n",
       "      <td>3465</td>\n",
       "      <td>476</td>\n",
       "      <td>29872</td>\n",
       "      <td>1146</td>\n",
       "    </tr>\n",
       "    <tr>\n",
       "      <th>neutral</th>\n",
       "      <td>19104</td>\n",
       "      <td>18186</td>\n",
       "      <td>14557</td>\n",
       "      <td>198342</td>\n",
       "      <td>31394</td>\n",
       "    </tr>\n",
       "    <tr>\n",
       "      <th>positive</th>\n",
       "      <td>28636</td>\n",
       "      <td>14981</td>\n",
       "      <td>22181</td>\n",
       "      <td>255994</td>\n",
       "      <td>41875</td>\n",
       "    </tr>\n",
       "    <tr>\n",
       "      <th rowspan=\"4\" valign=\"top\">engagement</th>\n",
       "      <th>mixed</th>\n",
       "      <td>96443</td>\n",
       "      <td>28592</td>\n",
       "      <td>106033</td>\n",
       "      <td>1322050</td>\n",
       "      <td>119532</td>\n",
       "    </tr>\n",
       "    <tr>\n",
       "      <th>negative</th>\n",
       "      <td>29856</td>\n",
       "      <td>98194</td>\n",
       "      <td>46732</td>\n",
       "      <td>631283</td>\n",
       "      <td>57447</td>\n",
       "    </tr>\n",
       "    <tr>\n",
       "      <th>neutral</th>\n",
       "      <td>668595</td>\n",
       "      <td>219510</td>\n",
       "      <td>620068</td>\n",
       "      <td>8170502</td>\n",
       "      <td>688395</td>\n",
       "    </tr>\n",
       "    <tr>\n",
       "      <th>positive</th>\n",
       "      <td>3754248</td>\n",
       "      <td>1120113</td>\n",
       "      <td>1902008</td>\n",
       "      <td>33099334</td>\n",
       "      <td>6971311</td>\n",
       "    </tr>\n",
       "    <tr>\n",
       "      <th rowspan=\"4\" valign=\"top\">impression</th>\n",
       "      <th>mixed</th>\n",
       "      <td>4074750</td>\n",
       "      <td>1871178</td>\n",
       "      <td>5834318</td>\n",
       "      <td>85220085</td>\n",
       "      <td>7925432</td>\n",
       "    </tr>\n",
       "    <tr>\n",
       "      <th>negative</th>\n",
       "      <td>2920348</td>\n",
       "      <td>17899170</td>\n",
       "      <td>1922605</td>\n",
       "      <td>342875199</td>\n",
       "      <td>15930864</td>\n",
       "    </tr>\n",
       "    <tr>\n",
       "      <th>neutral</th>\n",
       "      <td>461617006</td>\n",
       "      <td>109662207</td>\n",
       "      <td>73803914</td>\n",
       "      <td>3066526252</td>\n",
       "      <td>1019981739</td>\n",
       "    </tr>\n",
       "    <tr>\n",
       "      <th>positive</th>\n",
       "      <td>299672782</td>\n",
       "      <td>263389966</td>\n",
       "      <td>154001599</td>\n",
       "      <td>3081210619</td>\n",
       "      <td>1769352094</td>\n",
       "    </tr>\n",
       "  </tbody>\n",
       "</table>\n",
       "</div>"
      ],
      "text/plain": [
       "                     Breitling  Jaeger-LeCoultre      Omega       Rolex  \\\n",
       "doc        mixed           714               375        703       13347   \n",
       "           negative       1130              3465        476       29872   \n",
       "           neutral       19104             18186      14557      198342   \n",
       "           positive      28636             14981      22181      255994   \n",
       "engagement mixed         96443             28592     106033     1322050   \n",
       "           negative      29856             98194      46732      631283   \n",
       "           neutral      668595            219510     620068     8170502   \n",
       "           positive    3754248           1120113    1902008    33099334   \n",
       "impression mixed       4074750           1871178    5834318    85220085   \n",
       "           negative    2920348          17899170    1922605   342875199   \n",
       "           neutral   461617006         109662207   73803914  3066526252   \n",
       "           positive  299672782         263389966  154001599  3081210619   \n",
       "\n",
       "                      Tag Heuer  \n",
       "doc        mixed           1198  \n",
       "           negative        1146  \n",
       "           neutral        31394  \n",
       "           positive       41875  \n",
       "engagement mixed         119532  \n",
       "           negative       57447  \n",
       "           neutral       688395  \n",
       "           positive     6971311  \n",
       "impression mixed        7925432  \n",
       "           negative    15930864  \n",
       "           neutral   1019981739  \n",
       "           positive  1769352094  "
      ]
     },
     "execution_count": 15,
     "metadata": {},
     "output_type": "execute_result"
    }
   ],
   "source": [
    "table = pd.DataFrame(table)\n",
    "table"
   ]
  },
  {
   "cell_type": "markdown",
   "metadata": {},
   "source": [
    "### Cloud"
   ]
  },
  {
   "cell_type": "markdown",
   "metadata": {},
   "source": [
    "The ``Cloud`` object stores, for each field, the most recurrent keywords (sorted according to certain metrics). "
   ]
  },
  {
   "cell_type": "code",
   "execution_count": 16,
   "metadata": {},
   "outputs": [],
   "source": [
    "from radarly.constants import CLOUD_FIELD\n",
    "from radarly.parameters import CloudParameter"
   ]
  },
  {
   "cell_type": "code",
   "execution_count": 17,
   "metadata": {},
   "outputs": [
    {
     "data": {
      "text/plain": [
       "<Cloud.fields=['emoji_charts', 'mentions', 'emoji_annotations', 'keywords', 'named_entities', 'hashtags', 'affects']>"
      ]
     },
     "execution_count": 17,
     "metadata": {},
     "output_type": "execute_result"
    }
   ],
   "source": [
    "cloud_fields = [\n",
    "    CLOUD_FIELD.KEYWORDS, CLOUD_FIELD.MENTIONS,\n",
    "    CLOUD_FIELD.NAMED_ENTITIES, CLOUD_FIELD.HASHTAGS\n",
    "]\n",
    "cloud_param = CloudParameter() \\\n",
    "    .timezone('Europe/Paris') \\\n",
    "    .metrics(METRIC.DOC, METRIC.IMPRESSION, METRIC.REACH) \\\n",
    "    .fields(*cloud_fields) \\\n",
    "    .publication_date(datetime(2018, 3, 1), datetime(2018, 4, 30))\n",
    "\n",
    "clouds = project.get_cloud(cloud_param)\n",
    "clouds"
   ]
  },
  {
   "cell_type": "code",
   "execution_count": 18,
   "metadata": {},
   "outputs": [
    {
     "data": {
      "text/html": [
       "<div>\n",
       "<style scoped>\n",
       "    .dataframe tbody tr th:only-of-type {\n",
       "        vertical-align: middle;\n",
       "    }\n",
       "\n",
       "    .dataframe tbody tr th {\n",
       "        vertical-align: top;\n",
       "    }\n",
       "\n",
       "    .dataframe thead th {\n",
       "        text-align: right;\n",
       "    }\n",
       "</style>\n",
       "<table border=\"1\" class=\"dataframe\">\n",
       "  <thead>\n",
       "    <tr style=\"text-align: right;\">\n",
       "      <th></th>\n",
       "      <th>doc</th>\n",
       "      <th>impression</th>\n",
       "      <th>reach</th>\n",
       "    </tr>\n",
       "  </thead>\n",
       "  <tbody>\n",
       "    <tr>\n",
       "      <th>007</th>\n",
       "      <td>158</td>\n",
       "      <td>435285</td>\n",
       "      <td>34807</td>\n",
       "    </tr>\n",
       "    <tr>\n",
       "      <th>adukuru</th>\n",
       "      <td>144</td>\n",
       "      <td>285202</td>\n",
       "      <td>22801</td>\n",
       "    </tr>\n",
       "    <tr>\n",
       "      <th>akandeoj</th>\n",
       "      <td>2294</td>\n",
       "      <td>2337149</td>\n",
       "      <td>186969</td>\n",
       "    </tr>\n",
       "    <tr>\n",
       "      <th>akinwunmi_ambode</th>\n",
       "      <td>2337</td>\n",
       "      <td>2340627</td>\n",
       "      <td>187243</td>\n",
       "    </tr>\n",
       "    <tr>\n",
       "      <th>alekswatches</th>\n",
       "      <td>505</td>\n",
       "      <td>41815115</td>\n",
       "      <td>6272256</td>\n",
       "    </tr>\n",
       "  </tbody>\n",
       "</table>\n",
       "</div>"
      ],
      "text/plain": [
       "                   doc  impression    reach\n",
       "007                158      435285    34807\n",
       "adukuru            144      285202    22801\n",
       "akandeoj          2294     2337149   186969\n",
       "akinwunmi_ambode  2337     2340627   187243\n",
       "alekswatches       505    41815115  6272256"
      ]
     },
     "execution_count": 18,
     "metadata": {},
     "output_type": "execute_result"
    }
   ],
   "source": [
    "mentions = pd.DataFrame(clouds['mentions'])\n",
    "mentions.T.head()"
   ]
  }
 ],
 "metadata": {
  "kernelspec": {
   "display_name": "Python 3",
   "language": "python",
   "name": "python3"
  },
  "language_info": {
   "codemirror_mode": {
    "name": "ipython",
    "version": 3
   },
   "file_extension": ".py",
   "mimetype": "text/x-python",
   "name": "python",
   "nbconvert_exporter": "python",
   "pygments_lexer": "ipython3",
   "version": "3.6.4"
  }
 },
 "nbformat": 4,
 "nbformat_minor": 2
}
