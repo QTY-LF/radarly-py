{
 "cells": [
  {
   "cell_type": "markdown",
   "metadata": {},
   "source": [
    "## Search publications inside a project"
   ]
  },
  {
   "cell_type": "markdown",
   "metadata": {},
   "source": [
    "Once your project is configured, it will start retrieving a lot of publications matching the query you have defined. We will see here how you can get some publications and filter the results."
   ]
  },
  {
   "cell_type": "code",
   "execution_count": 1,
   "metadata": {
    "scrolled": true
   },
   "outputs": [
    {
     "data": {
      "text/plain": [
       "<Project.pid=2989.label=Luxury [OFFICIAL DEMO]>"
      ]
     },
     "execution_count": 1,
     "metadata": {},
     "output_type": "execute_result"
    }
   ],
   "source": [
    "from radarly import RadarlyApi\n",
    "from radarly.project import Project\n",
    "\n",
    "RadarlyApi.init()\n",
    "\n",
    "project = Project.find(pid=2989)\n",
    "project"
   ]
  },
  {
   "cell_type": "markdown",
   "metadata": {},
   "source": [
    "We will focus here on one dashboard, named 'Watch Brands'. This dashboard is built with 5 queries."
   ]
  },
  {
   "cell_type": "code",
   "execution_count": 2,
   "metadata": {},
   "outputs": [
    {
     "data": {
      "text/plain": [
       "<Dashboard.id=10389.label=1. Watch Brands>"
      ]
     },
     "execution_count": 2,
     "metadata": {},
     "output_type": "execute_result"
    }
   ],
   "source": [
    "watch_dashboard = project.dashboards[0]\n",
    "watch_dashboard"
   ]
  },
  {
   "cell_type": "code",
   "execution_count": 3,
   "metadata": {},
   "outputs": [
    {
     "data": {
      "text/plain": [
       "[108279, 111423, 108281, 108277, 108276]"
      ]
     },
     "execution_count": 3,
     "metadata": {},
     "output_type": "execute_result"
    }
   ],
   "source": [
    "watch_dashboard.focuses"
   ]
  },
  {
   "cell_type": "code",
   "execution_count": 4,
   "metadata": {},
   "outputs": [
    {
     "data": {
      "text/plain": [
       "[<Focus.id=111423.label=Omega>,\n",
       " <Focus.id=108276.label=Tag Heuer>,\n",
       " <Focus.id=108277.label=Jaeger-LeCoultre>,\n",
       " <Focus.id=108279.label=Rolex>,\n",
       " <Focus.id=108281.label=Breitling>]"
      ]
     },
     "execution_count": 4,
     "metadata": {},
     "output_type": "execute_result"
    }
   ],
   "source": [
    "[focus for focus in project.focuses if focus.id in watch_dashboard.focuses]"
   ]
  },
  {
   "cell_type": "markdown",
   "metadata": {},
   "source": [
    "### Retrieve publications"
   ]
  },
  {
   "cell_type": "markdown",
   "metadata": {},
   "source": [
    "You can get publications with two different ways : you can use the ``get_publications`` method of a ``Project`` instance or you can use the ``fetch`` class method  of the ``Publication`` object."
   ]
  },
  {
   "cell_type": "code",
   "execution_count": 5,
   "metadata": {},
   "outputs": [],
   "source": [
    "from radarly.publication import Publication"
   ]
  },
  {
   "cell_type": "code",
   "execution_count": 6,
   "metadata": {
    "scrolled": false
   },
   "outputs": [
    {
     "data": {
      "text/plain": [
       "[<Publication.uid='r3_prod_2989...7835767717890'>,\n",
       " <Publication.uid='r3_prod_2989...7811495280640'>,\n",
       " <Publication.uid='r3_prod_2989...24_7044638415'>,\n",
       " <Publication.uid='r3_prod_2989...54_3032986310'>,\n",
       " <Publication.uid='r3_prod_2989...7661200785408'>,\n",
       " <Publication.uid='r3_prod_2989...85_7044638415'>,\n",
       " <Publication.uid='r3_prod_2989...4190_51836757'>,\n",
       " <Publication.uid='r3_prod_2989...32_2089117830'>,\n",
       " <Publication.uid='r3_prod_2989...86_7044638415'>,\n",
       " <Publication.uid='r3_prod_2989...7409421012992'>,\n",
       " <Publication.uid='r3_prod_2989...11_6682271952'>,\n",
       " <Publication.uid='r3_prod_2989...7331461419008'>,\n",
       " <Publication.uid='r3_prod_2989...7325174157315'>,\n",
       " <Publication.uid='r3_prod_2989...85_3180779106'>,\n",
       " <Publication.uid='r3_prod_2989...00_3778268755'>,\n",
       " <Publication.uid='r3_prod_2989...08_7044638415'>,\n",
       " <Publication.uid='r3_prod_2989...22_5344398500'>,\n",
       " <Publication.uid='r3_prod_2989...213_470719120'>,\n",
       " <Publication.uid='r3_prod_2989...7089479348225'>,\n",
       " <Publication.uid='r3_prod_2989...05_3220157916'>,\n",
       " <Publication.uid='r3_prod_2989...00_7044638415'>,\n",
       " <Publication.uid='r3_prod_2989...68_1330367523'>,\n",
       " <Publication.uid='r3_prod_2989...6916472786945'>,\n",
       " <Publication.uid='r3_prod_2989...17_7044638415'>,\n",
       " <Publication.uid='r3_prod_2989...677_318054987'>]"
      ]
     },
     "execution_count": 6,
     "metadata": {},
     "output_type": "execute_result"
    }
   ],
   "source": [
    "publications = Publication.fetch(project_id=2989, search_parameter={})\n",
    "# is the same as\n",
    "publications = project.get_publications(search_parameter={})\n",
    "publications"
   ]
  },
  {
   "cell_type": "markdown",
   "metadata": {},
   "source": [
    "The result is a list of ``Publication`` object we will explore later."
   ]
  },
  {
   "cell_type": "markdown",
   "metadata": {},
   "source": [
    "Here, the payload sent to the API is empty and consequently some default parameters have been used. By specifying some keys in the ``search_parameter``, you can perform an advanced search. For example, to perform a search in one specific dashboard, you must specify the ids of the focuses contained in the dashboard. Please refer to the official documentation of the API to check all parameters you can use in the payload."
   ]
  },
  {
   "cell_type": "code",
   "execution_count": 7,
   "metadata": {},
   "outputs": [
    {
     "data": {
      "text/plain": [
       "{'focuses': [{'id': 108279, 'include': True},\n",
       "  {'id': 111423, 'include': True},\n",
       "  {'id': 108281, 'include': True},\n",
       "  {'id': 108277, 'include': True},\n",
       "  {'id': 108276, 'include': True}],\n",
       " 'from': '2018-03-01T00:00:00',\n",
       " 'limit': 30,\n",
       " 'platforms': ['instagram', 'twitter', 'facebook'],\n",
       " 'start': 0,\n",
       " 'to': '2018-04-30T00:00:00',\n",
       " 'tones': ['positive', 'neutral']}"
      ]
     },
     "execution_count": 7,
     "metadata": {},
     "output_type": "execute_result"
    }
   ],
   "source": [
    "payload = {\n",
    "    \"start\": 0, # start and limit are keys in order to configure pagination\n",
    "    \"limit\": 30,\n",
    "    \"tones\": [\"positive\", \"neutral\"], # get only publications which have a positive or neutral tone\n",
    "    \"platforms\": [\"instagram\", \"twitter\", \"facebook\"],#  restrict the platform source of publications\n",
    "    \"from\": \"2018-03-01T00:00:00\",\n",
    "    \"to\": \"2018-04-30T00:00:00\",\n",
    "    \"focuses\": [{'id': 108279, 'include': True},\n",
    "      {'id': 111423, 'include': True},\n",
    "      {'id': 108281, 'include': True},\n",
    "      {'id': 108277, 'include': True},\n",
    "      {'id': 108276, 'include': True}] # IDs of the focuses building the 'Watch Brands' dashboard\n",
    "}\n",
    "payload"
   ]
  },
  {
   "cell_type": "code",
   "execution_count": 8,
   "metadata": {},
   "outputs": [
    {
     "data": {
      "text/plain": [
       "[<Publication.uid='r3_prod_2989...068_228007222'>,\n",
       " <Publication.uid='r3_prod_2989...57_7301970441'>,\n",
       " <Publication.uid='r3_prod_2989...2380583276545'>,\n",
       " <Publication.uid='r3_prod_2989...39_2288071081'>,\n",
       " <Publication.uid='r3_prod_2989...50_3449731600'>,\n",
       " <Publication.uid='r3_prod_2989...2011312472064'>,\n",
       " <Publication.uid='r3_prod_2989...60_5498963310'>,\n",
       " <Publication.uid='r3_prod_2989...701_244395624'>,\n",
       " <Publication.uid='r3_prod_2989...22_1526756917'>,\n",
       " <Publication.uid='r3_prod_2989...1824607215616'>,\n",
       " <Publication.uid='r3_prod_2989...092_341551699'>,\n",
       " <Publication.uid='r3_prod_2989...1638954848256'>,\n",
       " <Publication.uid='r3_prod_2989...1548508819456'>,\n",
       " <Publication.uid='r3_prod_2989...795_371045183'>,\n",
       " <Publication.uid='r3_prod_2989...33_5498963310'>,\n",
       " <Publication.uid='r3_prod_2989...84_1449194540'>,\n",
       " <Publication.uid='r3_prod_2989...12_6655989313'>,\n",
       " <Publication.uid='r3_prod_2989...0815780761600'>,\n",
       " <Publication.uid='r3_prod_2989...03_7563501789'>,\n",
       " <Publication.uid='r3_prod_2989...0390_46524479'>,\n",
       " <Publication.uid='r3_prod_2989...0557193531394'>,\n",
       " <Publication.uid='r3_prod_2989...49_5736364413'>,\n",
       " <Publication.uid='r3_prod_2989...0286488924162'>,\n",
       " <Publication.uid='r3_prod_2989...36_5498963310'>,\n",
       " <Publication.uid='r3_prod_2989...9803275640832'>,\n",
       " <Publication.uid='r3_prod_2989...40_5498963310'>,\n",
       " <Publication.uid='r3_prod_2989...9652557520896'>,\n",
       " <Publication.uid='r3_prod_2989...517_189894348'>,\n",
       " <Publication.uid='r3_prod_2989...93_4010066089'>,\n",
       " <Publication.uid='r3_prod_2989...9395262099457'>]"
      ]
     },
     "execution_count": 8,
     "metadata": {},
     "output_type": "execute_result"
    }
   ],
   "source": [
    "publications = project.get_publications(payload)\n",
    "publications"
   ]
  },
  {
   "cell_type": "markdown",
   "metadata": {},
   "source": [
    "In order to build the payload in a easier way, you can use the ``SearchPublicationParameter`` defined in ``radarly.parameters``. This object has several methods in order to build and check the payload structure, and then can be pass in the ``search_parameter`` argument."
   ]
  },
  {
   "cell_type": "code",
   "execution_count": 9,
   "metadata": {},
   "outputs": [
    {
     "data": {
      "text/plain": [
       "{'flag': {'favorite': None, 'rt': False, 'trash': None},\n",
       " 'focuses': [{'id': 108279, 'include': True},\n",
       "  {'id': 111423, 'include': True},\n",
       "  {'id': 108281, 'include': True},\n",
       "  {'id': 108277, 'include': True},\n",
       "  {'id': 108276, 'include': True}],\n",
       " 'from': '2018-01-01T00:00:00',\n",
       " 'limit': 30,\n",
       " 'platforms': ['facebook', 'instagram', 'twitter'],\n",
       " 'start': 0,\n",
       " 'to': '2018-04-30T00:00:00',\n",
       " 'tones': ['positive', 'neutral']}"
      ]
     },
     "execution_count": 9,
     "metadata": {},
     "output_type": "execute_result"
    }
   ],
   "source": [
    "from datetime import datetime\n",
    "from radarly.parameters import SearchPublicationParameter as Payload\n",
    "from radarly.constants import TONE, PLATFORM\n",
    "\n",
    "param = Payload() \\\n",
    "    .platforms(PLATFORM.FACEBOOK, PLATFORM.INSTAGRAM, PLATFORM.TWITTER) \\\n",
    "    .pagination(start=0, limit= 30) \\\n",
    "    .tones(TONE.POSITIVE, TONE.NEUTRAL) \\\n",
    "    .flag(retweet=False) \\\n",
    "    .publication_date(datetime(2018, 1, 1), datetime(2018, 4, 30)) \\\n",
    "    .focuses(include=watch_dashboard.focuses)\n",
    "param"
   ]
  },
  {
   "cell_type": "code",
   "execution_count": 10,
   "metadata": {
    "scrolled": false
   },
   "outputs": [
    {
     "data": {
      "text/plain": [
       "[<Publication.uid='r3_prod_2989...068_228007222'>,\n",
       " <Publication.uid='r3_prod_2989...57_7301970441'>,\n",
       " <Publication.uid='r3_prod_2989...2380583276545'>,\n",
       " <Publication.uid='r3_prod_2989...39_2288071081'>,\n",
       " <Publication.uid='r3_prod_2989...50_3449731600'>,\n",
       " <Publication.uid='r3_prod_2989...2011312472064'>,\n",
       " <Publication.uid='r3_prod_2989...60_5498963310'>,\n",
       " <Publication.uid='r3_prod_2989...701_244395624'>,\n",
       " <Publication.uid='r3_prod_2989...22_1526756917'>,\n",
       " <Publication.uid='r3_prod_2989...1824607215616'>,\n",
       " <Publication.uid='r3_prod_2989...092_341551699'>,\n",
       " <Publication.uid='r3_prod_2989...1638954848256'>,\n",
       " <Publication.uid='r3_prod_2989...1548508819456'>,\n",
       " <Publication.uid='r3_prod_2989...795_371045183'>,\n",
       " <Publication.uid='r3_prod_2989...33_5498963310'>,\n",
       " <Publication.uid='r3_prod_2989...84_1449194540'>,\n",
       " <Publication.uid='r3_prod_2989...12_6655989313'>,\n",
       " <Publication.uid='r3_prod_2989...0815780761600'>,\n",
       " <Publication.uid='r3_prod_2989...03_7563501789'>,\n",
       " <Publication.uid='r3_prod_2989...0390_46524479'>,\n",
       " <Publication.uid='r3_prod_2989...0557193531394'>,\n",
       " <Publication.uid='r3_prod_2989...49_5736364413'>,\n",
       " <Publication.uid='r3_prod_2989...0286488924162'>,\n",
       " <Publication.uid='r3_prod_2989...36_5498963310'>,\n",
       " <Publication.uid='r3_prod_2989...9803275640832'>,\n",
       " <Publication.uid='r3_prod_2989...40_5498963310'>,\n",
       " <Publication.uid='r3_prod_2989...9652557520896'>,\n",
       " <Publication.uid='r3_prod_2989...517_189894348'>,\n",
       " <Publication.uid='r3_prod_2989...93_4010066089'>,\n",
       " <Publication.uid='r3_prod_2989...9395262099457'>]"
      ]
     },
     "execution_count": 10,
     "metadata": {},
     "output_type": "execute_result"
    }
   ],
   "source": [
    "publications = project.get_publications(param)\n",
    "publications"
   ]
  },
  {
   "cell_type": "markdown",
   "metadata": {},
   "source": [
    "Here, we have used the ``start`` and ``limit`` parameter to have some pagination effect in the result. To have the next range of publications, you can use the ``next_page`` method of ``SearchPublicationParameter``. "
   ]
  },
  {
   "cell_type": "code",
   "execution_count": 11,
   "metadata": {},
   "outputs": [
    {
     "data": {
      "text/plain": [
       "[<Publication.uid='r3_prod_2989...335_394184473'>,\n",
       " <Publication.uid='r3_prod_2989...500_208288456'>,\n",
       " <Publication.uid='r3_prod_2989...1388_46761113'>,\n",
       " <Publication.uid='r3_prod_2989...44_5498963310'>,\n",
       " <Publication.uid='r3_prod_2989...26_7411957923'>,\n",
       " <Publication.uid='r3_prod_2989...53_5938307156'>,\n",
       " <Publication.uid='r3_prod_2989...8704573632512'>,\n",
       " <Publication.uid='r3_prod_2989...97_6678759480'>,\n",
       " <Publication.uid='r3_prod_2989...4940_46524479'>,\n",
       " <Publication.uid='r3_prod_2989...8258102374400'>,\n",
       " <Publication.uid='r3_prod_2989...76_2948040594'>,\n",
       " <Publication.uid='r3_prod_2989...7492788723712'>,\n",
       " <Publication.uid='r3_prod_2989...7492658737152'>,\n",
       " <Publication.uid='r3_prod_2989...7442503180288'>,\n",
       " <Publication.uid='r3_prod_2989...44_3989006961'>,\n",
       " <Publication.uid='r3_prod_2989...205_244395624'>,\n",
       " <Publication.uid='r3_prod_2989...47_5498963310'>,\n",
       " <Publication.uid='r3_prod_2989...55_3989006961'>,\n",
       " <Publication.uid='r3_prod_2989...76_3989006961'>,\n",
       " <Publication.uid='r3_prod_2989...97_6876003702'>,\n",
       " <Publication.uid='r3_prod_2989...6489976741888'>,\n",
       " <Publication.uid='r3_prod_2989...93_7424024320'>,\n",
       " <Publication.uid='r3_prod_2989...578_482170296'>,\n",
       " <Publication.uid='r3_prod_2989...30_5498963310'>,\n",
       " <Publication.uid='r3_prod_2989...6223718203392'>,\n",
       " <Publication.uid='r3_prod_2989...37_7237802340'>,\n",
       " <Publication.uid='r3_prod_2989...00_6174260229'>,\n",
       " <Publication.uid='r3_prod_2989...48_5757276593'>,\n",
       " <Publication.uid='r3_prod_2989...5986253484032'>,\n",
       " <Publication.uid='r3_prod_2989...15_5791415994'>]"
      ]
     },
     "execution_count": 11,
     "metadata": {},
     "output_type": "execute_result"
    }
   ],
   "source": [
    "publications = project.get_publications(param.next_page())\n",
    "publications"
   ]
  },
  {
   "cell_type": "markdown",
   "metadata": {},
   "source": [
    "To retrieve all publications, you can use the ``get_all_publications`` method of a project (or ``fetch_all`` of ``Publication``). This method will return a generator which yield publication.\n",
    "\n",
    "<div class=\"alert alert-warning\">\n",
    "The number of publications can be very high and consequently, a great number of request will be performed.\n",
    "<div>"
   ]
  },
  {
   "cell_type": "code",
   "execution_count": 12,
   "metadata": {},
   "outputs": [
    {
     "data": {
      "text/plain": [
       "<PublicationsGenerator.total=828573.total_page=27620>"
      ]
     },
     "execution_count": 12,
     "metadata": {},
     "output_type": "execute_result"
    }
   ],
   "source": [
    "all_publications = project.get_all_publications(param)\n",
    "all_publications"
   ]
  },
  {
   "cell_type": "code",
   "execution_count": 13,
   "metadata": {},
   "outputs": [
    {
     "data": {
      "text/plain": [
       "<Publication.uid='r3_prod_2989...335_394184473'>"
      ]
     },
     "execution_count": 13,
     "metadata": {},
     "output_type": "execute_result"
    }
   ],
   "source": [
    "next(all_publications)"
   ]
  },
  {
   "cell_type": "markdown",
   "metadata": {},
   "source": [
    "### Explore a publication"
   ]
  },
  {
   "cell_type": "markdown",
   "metadata": {},
   "source": [
    "All the methods seen previously return a list (or generator) of ``Publication``. The ``Publication`` object inherits from ``SourceModel`` and stores qualitative informations. Thus, the structure of ``Publication`` can be explore with ``draw_structure`` and the special ``__getitem__`` method."
   ]
  },
  {
   "cell_type": "code",
   "execution_count": 14,
   "metadata": {},
   "outputs": [
    {
     "data": {
      "text/plain": [
       "<Publication.uid='r3_prod_2989...335_394184473'>"
      ]
     },
     "execution_count": 14,
     "metadata": {},
     "output_type": "execute_result"
    }
   ],
   "source": [
    "publications = project.get_publications(param)\n",
    "publication = publications[0]\n",
    "publication"
   ]
  },
  {
   "cell_type": "code",
   "execution_count": 15,
   "metadata": {},
   "outputs": [
    {
     "name": "stdout",
     "output_type": "stream",
     "text": [
      "Publication \u001b[94m(Publication)\u001b[0m\n",
      " | category \u001b[91m(None)\u001b[0m\n",
      " | date \u001b[94m(datetime)\u001b[0m\n",
      " | engagement_score \u001b[94m(int)\u001b[0m\n",
      " | focuses \u001b[94m(list)\u001b[0m\n",
      " | geo \u001b[94m(dict)\u001b[0m\n",
      " |  | given \u001b[94m(dict)\u001b[0m\n",
      " |  | inferred \u001b[94m(dict)\u001b[0m\n",
      " | highlights \u001b[91m(None)\u001b[0m\n",
      " | id \u001b[94m(str)\u001b[0m\n",
      " | impression \u001b[94m(int)\u001b[0m\n",
      " | is_story \u001b[94m(bool)\u001b[0m\n",
      " | keyword \u001b[94m(list)\u001b[0m\n",
      " | lang \u001b[94m(str)\u001b[0m\n",
      " | media \u001b[94m(dict)\u001b[0m\n",
      " |  | image \u001b[94m(list[str])\u001b[0m\n",
      " |  | meta \u001b[91m(None)\u001b[0m\n",
      " |  | video \u001b[94m(list)\u001b[0m\n",
      " | origin \u001b[94m(dict)\u001b[0m\n",
      " |  | detailed \u001b[94m(str)\u001b[0m\n",
      " |  | platform \u001b[94m(str)\u001b[0m\n",
      " |  | source \u001b[94m(str)\u001b[0m\n",
      " | permalink \u001b[94m(str)\u001b[0m\n",
      " | pid \u001b[94m(int)\u001b[0m\n",
      " | radar \u001b[94m(dict)\u001b[0m\n",
      " |  | created \u001b[94m(datetime)\u001b[0m\n",
      " |  | favorite \u001b[94m(bool)\u001b[0m\n",
      " |  | tag \u001b[91m(None)\u001b[0m\n",
      " |  | trash \u001b[94m(bool)\u001b[0m\n",
      " |  | updated \u001b[94m(datetime)\u001b[0m\n",
      " |  | user_updated \u001b[91m(None)\u001b[0m\n",
      " | reach \u001b[94m(int)\u001b[0m\n",
      " | score \u001b[94m(dict)\u001b[0m\n",
      " |  | comment \u001b[94m(int)\u001b[0m\n",
      " |  | impression \u001b[91m(None)\u001b[0m\n",
      " |  | like \u001b[94m(int)\u001b[0m\n",
      " |  | reach \u001b[91m(None)\u001b[0m\n",
      " |  | story \u001b[91m(None)\u001b[0m\n",
      " | text \u001b[94m(str)\u001b[0m\n",
      " | tone \u001b[94m(str)\u001b[0m\n",
      " | type \u001b[94m(str)\u001b[0m\n",
      " | uid \u001b[94m(str)\u001b[0m\n",
      " | user \u001b[94m(dict)\u001b[0m\n",
      " |  | birth_date \u001b[91m(None)\u001b[0m\n",
      " |  | followers \u001b[94m(int)\u001b[0m\n",
      " |  | gender \u001b[94m(str)\u001b[0m\n",
      " |  | id \u001b[94m(int)\u001b[0m\n",
      " |  | id_str \u001b[94m(str)\u001b[0m\n",
      " |  | name \u001b[94m(str)\u001b[0m\n",
      " |  | profile_img \u001b[94m(str)\u001b[0m\n",
      " |  | screen_name \u001b[94m(str)\u001b[0m\n",
      " |  | verified \u001b[91m(None)\u001b[0m\n"
     ]
    }
   ],
   "source": [
    "publication.draw_structure(max_depth=2)"
   ]
  },
  {
   "cell_type": "markdown",
   "metadata": {},
   "source": [
    "We will not give the details for each attribute but only for the most useful: `user` stores some informations about the author of the publication, `score` is a dictionary with some statistics about the publication (comment, like, share...), `permalink` is the address of the publication, `origin` stores informations about the origin platform and `media` is a dictionary with the link to the content of the publication."
   ]
  },
  {
   "cell_type": "code",
   "execution_count": 16,
   "metadata": {},
   "outputs": [
    {
     "data": {
      "image/jpeg": "[encoded data removed]",
      "text/plain": [
       "<IPython.core.display.Image object>"
      ]
     },
     "execution_count": 16,
     "metadata": {},
     "output_type": "execute_result"
    }
   ],
   "source": [
    "from IPython.display import Image\n",
    "Image(publication.media['image'][0])"
   ]
  },
  {
   "cell_type": "code",
   "execution_count": 17,
   "metadata": {},
   "outputs": [
    {
     "name": "stdout",
     "output_type": "stream",
     "text": [
      "Full moon! #jaegerlecoultre #watch #mensstyle #moonphase #instagood\n"
     ]
    }
   ],
   "source": [
    "print(publication.text)"
   ]
  },
  {
   "cell_type": "markdown",
   "metadata": {},
   "source": [
    "Thanks to the ``download`` method of ``Publication``, you can download the images or videos related to a publication. The ``download`` will try to download all media contents to have a local version of datas stored in ``media``."
   ]
  },
  {
   "cell_type": "code",
   "execution_count": 18,
   "metadata": {},
   "outputs": [
    {
     "data": {
      "text/plain": [
       "{'image': ['https://scontent.cdninstagram.com/vp/de0df4200dba4dfa7bb9122f87aebb78/5B9D8008/t51.2885-15/s640x640/sh0.08/e35/31033959_192224901413059_6878985776378413056_n.jpg'],\n",
       " 'meta': None,\n",
       " 'video': []}"
      ]
     },
     "execution_count": 18,
     "metadata": {},
     "output_type": "execute_result"
    }
   ],
   "source": [
    "publication.media"
   ]
  },
  {
   "cell_type": "code",
   "execution_count": 19,
   "metadata": {},
   "outputs": [
    {
     "data": {
      "text/plain": [
       "{'image': ['/Users/alexandre/Documents/Linkfluence/packages/radarly-py/docs/python/quickstart/31033959_192224901413059_6878985776378413056_n.jpg'],\n",
       " 'video': []}"
      ]
     },
     "execution_count": 19,
     "metadata": {},
     "output_type": "execute_result"
    }
   ],
   "source": [
    "publication.download(output_dir=None)"
   ]
  },
  {
   "cell_type": "markdown",
   "metadata": {},
   "source": [
    "Several methods have been implemented to get more informations from the API about a publication. You can for example get all metadata informations with ``get_metadata`` method."
   ]
  },
  {
   "cell_type": "code",
   "execution_count": 20,
   "metadata": {},
   "outputs": [
    {
     "data": {
      "text/plain": [
       "<Metadata.did=r3_prod_2-600249433620525056>"
      ]
     },
     "execution_count": 20,
     "metadata": {},
     "output_type": "execute_result"
    }
   ],
   "source": [
    "publication = Publication.fetch(2, {'query':'uid:r3_prod_2-600249433620525056'})[0]\n",
    "metadata = publication.get_metadata()\n",
    "metadata"
   ]
  },
  {
   "cell_type": "code",
   "execution_count": 21,
   "metadata": {},
   "outputs": [
    {
     "name": "stdout",
     "output_type": "stream",
     "text": [
      "Metadata \u001b[94m(Metadata)\u001b[0m\n",
      " | did \u001b[94m(str)\u001b[0m\n",
      " | trends \u001b[94m(list[dict])\u001b[0m\n",
      " |  | date \u001b[94m(datetime)\u001b[0m\n",
      " |  | scores \u001b[94m(dict)\u001b[0m\n",
      " |  |  | favourite \u001b[94m(int)\u001b[0m\n",
      " |  |  | rt \u001b[94m(int)\u001b[0m\n"
     ]
    }
   ],
   "source": [
    "metadata.draw_structure()"
   ]
  },
  {
   "cell_type": "markdown",
   "metadata": {},
   "source": [
    "You can also retrieve the raw content of a publication (available for forum's or blog's publications)."
   ]
  },
  {
   "cell_type": "code",
   "execution_count": 22,
   "metadata": {},
   "outputs": [
    {
     "data": {
      "text/plain": [
       "{'text': '',\n",
       " 'title': '超级特价出二手朗格232.032和139.035F，格拉苏蒂39-59，劳力士5443，欧米茄和真力时大金表 - 第12页'}"
      ]
     },
     "execution_count": 22,
     "metadata": {},
     "output_type": "execute_result"
    }
   ],
   "source": [
    "publication = project.get_publications({'platforms': ['forum']})[0]\n",
    "raw_content = publication.get_raw()\n",
    "raw_content"
   ]
  }
 ],
 "metadata": {
  "kernelspec": {
   "display_name": "Python 3",
   "language": "python",
   "name": "python3"
  },
  "language_info": {
   "codemirror_mode": {
    "name": "ipython",
    "version": 3
   },
   "file_extension": ".py",
   "mimetype": "text/x-python",
   "name": "python",
   "nbconvert_exporter": "python",
   "pygments_lexer": "ipython3",
   "version": "3.6.4"
  }
 },
 "nbformat": 4,
 "nbformat_minor": 2
}
