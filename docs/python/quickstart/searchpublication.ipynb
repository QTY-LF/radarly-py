{
 "cells": [
  {
   "cell_type": "markdown",
   "metadata": {},
   "source": [
    "## Search publications inside a project"
   ]
  },
  {
   "cell_type": "markdown",
   "metadata": {},
   "source": [
    "Once your project is configured, it will start retrieving a lot of publications matching the query you have defined. We will see here how you can get some publications and filter the results."
   ]
  },
  {
   "cell_type": "code",
   "execution_count": 1,
   "metadata": {
    "scrolled": true
   },
   "outputs": [
    {
     "data": {
      "text/plain": [
       "<Project.pid=2989.label=Luxury [OFFICIAL DEMO]>"
      ]
     },
     "execution_count": 1,
     "metadata": {},
     "output_type": "execute_result"
    }
   ],
   "source": [
    "from radarly import RadarlyApi\n",
    "from radarly.project import Project\n",
    "\n",
    "RadarlyApi.init()\n",
    "\n",
    "project = Project.find(pid=2989)\n",
    "project"
   ]
  },
  {
   "cell_type": "markdown",
   "metadata": {},
   "source": [
    "We will focus here on one dashboard, named *Watch Brands*. This dashboard is built with 3 queries."
   ]
  },
  {
   "cell_type": "code",
   "execution_count": 2,
   "metadata": {},
   "outputs": [
    {
     "data": {
      "text/plain": [
       "<Dashboard.id=10389.label=1. Watch Brands>"
      ]
     },
     "execution_count": 2,
     "metadata": {},
     "output_type": "execute_result"
    }
   ],
   "source": [
    "watch_dashboard = project.dashboards[0]\n",
    "watch_dashboard"
   ]
  },
  {
   "cell_type": "code",
   "execution_count": 3,
   "metadata": {},
   "outputs": [
    {
     "data": {
      "text/plain": [
       "[111423, 108279, 108277]"
      ]
     },
     "execution_count": 3,
     "metadata": {},
     "output_type": "execute_result"
    }
   ],
   "source": [
    "watch_dashboard.focuses"
   ]
  },
  {
   "cell_type": "code",
   "execution_count": 4,
   "metadata": {},
   "outputs": [
    {
     "data": {
      "text/plain": [
       "[<Focus.id=108277.label=Jaeger-LeCoultre>,\n",
       " <Focus.id=108279.label=Rolex>,\n",
       " <Focus.id=111423.label=Omega>]"
      ]
     },
     "execution_count": 4,
     "metadata": {},
     "output_type": "execute_result"
    }
   ],
   "source": [
    "[focus for focus in project.focuses if focus.id in watch_dashboard.focuses]"
   ]
  },
  {
   "cell_type": "markdown",
   "metadata": {},
   "source": [
    "### Retrieve publications"
   ]
  },
  {
   "cell_type": "markdown",
   "metadata": {},
   "source": [
    "You can get publications with two different ways : you can use the ``get_publications`` method of a ``Project`` instance or you can use the ``fetch`` class method  of the ``Publication`` object."
   ]
  },
  {
   "cell_type": "code",
   "execution_count": 5,
   "metadata": {},
   "outputs": [],
   "source": [
    "from radarly.publication import Publication"
   ]
  },
  {
   "cell_type": "code",
   "execution_count": 6,
   "metadata": {
    "scrolled": false
   },
   "outputs": [
    {
     "data": {
      "text/plain": [
       "[<Publication.uid='r3_prod_2989...30981_1190123'>,\n",
       " <Publication.uid='r3_prod_2989...5232_11023288'>,\n",
       " <Publication.uid='r3_prod_2989...7640564412416'>,\n",
       " <Publication.uid='r3_prod_2989...45_1187679661'>,\n",
       " <Publication.uid='r3_prod_2989...8928851989604'>,\n",
       " <Publication.uid='r3_prod_2989...506_519242336'>,\n",
       " <Publication.uid='r3_prod_2989...125_241290282'>,\n",
       " <Publication.uid='r3_prod_2989...68_8136722835'>,\n",
       " <Publication.uid='r3_prod_2989...7277425692673'>,\n",
       " <Publication.uid='r3_prod_2989...0105_19434221'>,\n",
       " <Publication.uid='r3_prod_2989...21_2215494233'>,\n",
       " <Publication.uid='r3_prod_2989...33_4270252006'>,\n",
       " <Publication.uid='r3_prod_2989...368_241290282'>,\n",
       " <Publication.uid='r3_prod_2989...04_2999512334'>,\n",
       " <Publication.uid='r3_prod_2989...7100035846151'>,\n",
       " <Publication.uid='r3_prod_2989...204_345652227'>,\n",
       " <Publication.uid='r3_prod_2989...6965151412224'>,\n",
       " <Publication.uid='r3_prod_2989...56116_5595119'>,\n",
       " <Publication.uid='r3_prod_2989...56_8102741151'>,\n",
       " <Publication.uid='r3_prod_2989...752_241290282'>,\n",
       " <Publication.uid='r3_prod_2989...23_3966457439'>,\n",
       " <Publication.uid='r3_prod_2989...1426_19434221'>,\n",
       " <Publication.uid='r3_prod_2989...40_4284536616'>,\n",
       " <Publication.uid='r3_prod_2989...8928105423170'>,\n",
       " <Publication.uid='r3_prod_2989...2940_19434221'>]"
      ]
     },
     "execution_count": 6,
     "metadata": {},
     "output_type": "execute_result"
    }
   ],
   "source": [
    "publications = Publication.fetch(project_id=2989, parameter={})\n",
    "# is the same as\n",
    "publications = project.get_publications(parameter={})\n",
    "publications"
   ]
  },
  {
   "cell_type": "markdown",
   "metadata": {},
   "source": [
    "The result is a list of ``Publication`` object we will explore later."
   ]
  },
  {
   "cell_type": "markdown",
   "metadata": {},
   "source": [
    "Here, the payload sent to the API is empty and consequently some default parameters have been used. By specifying some keys in the ``search_parameter``, you can perform an advanced search. For example, to perform a search in one specific dashboard, you must specify the ids of the focuses contained in the dashboard. Please refer to the official documentation of the API to check all parameters you can use in the payload."
   ]
  },
  {
   "cell_type": "code",
   "execution_count": 7,
   "metadata": {},
   "outputs": [
    {
     "data": {
      "text/plain": [
       "{'focuses': [{'id': 108279, 'include': True},\n",
       "  {'id': 111423, 'include': True},\n",
       "  {'id': 108281, 'include': True},\n",
       "  {'id': 108277, 'include': True},\n",
       "  {'id': 108276, 'include': True}],\n",
       " 'from': '2018-03-01T00:00:00',\n",
       " 'limit': 30,\n",
       " 'platforms': ['instagram', 'twitter', 'facebook'],\n",
       " 'start': 0,\n",
       " 'to': '2018-04-30T00:00:00',\n",
       " 'tones': ['positive', 'neutral']}"
      ]
     },
     "execution_count": 7,
     "metadata": {},
     "output_type": "execute_result"
    }
   ],
   "source": [
    "payload = {\n",
    "    \"start\": 0, # start and limit are keys in order to configure pagination\n",
    "    \"limit\": 30,\n",
    "    \"tones\": [\"positive\", \"neutral\"], # get only publications which have a positive or neutral tone\n",
    "    \"platforms\": [\"instagram\", \"twitter\", \"facebook\"],#  restrict the platform source of publications\n",
    "    \"from\": \"2018-03-01T00:00:00\",\n",
    "    \"to\": \"2018-04-30T00:00:00\",\n",
    "    \"focuses\": [{'id': 108279, 'include': True},\n",
    "      {'id': 111423, 'include': True},\n",
    "      {'id': 108281, 'include': True},\n",
    "      {'id': 108277, 'include': True},\n",
    "      {'id': 108276, 'include': True}] # IDs of the focuses building the 'Watch Brands' dashboard\n",
    "}\n",
    "payload"
   ]
  },
  {
   "cell_type": "code",
   "execution_count": 8,
   "metadata": {},
   "outputs": [
    {
     "data": {
      "text/plain": [
       "[<Publication.uid='r3_prod_2989...068_228007222'>,\n",
       " <Publication.uid='r3_prod_2989...57_7301970441'>,\n",
       " <Publication.uid='r3_prod_2989...2380583276545'>,\n",
       " <Publication.uid='r3_prod_2989...39_2288071081'>,\n",
       " <Publication.uid='r3_prod_2989...50_3449731600'>,\n",
       " <Publication.uid='r3_prod_2989...2011312472064'>,\n",
       " <Publication.uid='r3_prod_2989...60_5498963310'>,\n",
       " <Publication.uid='r3_prod_2989...701_244395624'>,\n",
       " <Publication.uid='r3_prod_2989...22_1526756917'>,\n",
       " <Publication.uid='r3_prod_2989...1824607215616'>,\n",
       " <Publication.uid='r3_prod_2989...092_341551699'>,\n",
       " <Publication.uid='r3_prod_2989...1638954848256'>,\n",
       " <Publication.uid='r3_prod_2989...1548508819456'>,\n",
       " <Publication.uid='r3_prod_2989...795_371045183'>,\n",
       " <Publication.uid='r3_prod_2989...33_5498963310'>,\n",
       " <Publication.uid='r3_prod_2989...84_1449194540'>,\n",
       " <Publication.uid='r3_prod_2989...12_6655989313'>,\n",
       " <Publication.uid='r3_prod_2989...0815780761600'>,\n",
       " <Publication.uid='r3_prod_2989...03_7563501789'>,\n",
       " <Publication.uid='r3_prod_2989...0390_46524479'>,\n",
       " <Publication.uid='r3_prod_2989...0557193531394'>,\n",
       " <Publication.uid='r3_prod_2989...49_5736364413'>,\n",
       " <Publication.uid='r3_prod_2989...0286488924162'>,\n",
       " <Publication.uid='r3_prod_2989...36_5498963310'>,\n",
       " <Publication.uid='r3_prod_2989...9803275640832'>,\n",
       " <Publication.uid='r3_prod_2989...40_5498963310'>,\n",
       " <Publication.uid='r3_prod_2989...9652557520896'>,\n",
       " <Publication.uid='r3_prod_2989...517_189894348'>,\n",
       " <Publication.uid='r3_prod_2989...93_4010066089'>,\n",
       " <Publication.uid='r3_prod_2989...9395262099457'>]"
      ]
     },
     "execution_count": 8,
     "metadata": {},
     "output_type": "execute_result"
    }
   ],
   "source": [
    "publications = project.get_publications(payload)\n",
    "publications"
   ]
  },
  {
   "cell_type": "markdown",
   "metadata": {},
   "source": [
    "In order to build the payload in a easier way, you can use the ``SearchPublicationParameter`` defined in ``radarly.parameters``. This object has several methods in order to build and check the payload structure, and then can be passed in the ``search_parameter`` argument."
   ]
  },
  {
   "cell_type": "code",
   "execution_count": 9,
   "metadata": {},
   "outputs": [
    {
     "data": {
      "text/plain": [
       "{'flag': {'favorite': None, 'rt': False, 'trash': None},\n",
       " 'focuses': [{'id': 111423, 'include': True},\n",
       "  {'id': 108279, 'include': True},\n",
       "  {'id': 108277, 'include': True}],\n",
       " 'from': '2018-01-01T00:00:00',\n",
       " 'limit': 30,\n",
       " 'platforms': ['facebook', 'instagram', 'twitter'],\n",
       " 'start': 0,\n",
       " 'to': '2018-04-30T00:00:00',\n",
       " 'tones': ['positive', 'neutral']}"
      ]
     },
     "execution_count": 9,
     "metadata": {},
     "output_type": "execute_result"
    }
   ],
   "source": [
    "from datetime import datetime\n",
    "from radarly.parameters import SearchPublicationParameter as Payload\n",
    "from radarly.constants import TONE, PLATFORM\n",
    "\n",
    "param = Payload() \\\n",
    "    .platforms(PLATFORM.FACEBOOK, PLATFORM.INSTAGRAM, PLATFORM.TWITTER) \\\n",
    "    .pagination(start=0, limit= 30) \\\n",
    "    .tones(TONE.POSITIVE, TONE.NEUTRAL) \\\n",
    "    .flag(retweet=False) \\\n",
    "    .publication_date(datetime(2018, 1, 1), datetime(2018, 4, 30)) \\\n",
    "    .focuses(include=watch_dashboard.focuses)\n",
    "param"
   ]
  },
  {
   "cell_type": "code",
   "execution_count": 10,
   "metadata": {
    "scrolled": false
   },
   "outputs": [
    {
     "data": {
      "text/plain": [
       "[<Publication.uid='r3_prod_2989...068_228007222'>,\n",
       " <Publication.uid='r3_prod_2989...57_7301970441'>,\n",
       " <Publication.uid='r3_prod_2989...2380583276545'>,\n",
       " <Publication.uid='r3_prod_2989...39_2288071081'>,\n",
       " <Publication.uid='r3_prod_2989...50_3449731600'>,\n",
       " <Publication.uid='r3_prod_2989...2011312472064'>,\n",
       " <Publication.uid='r3_prod_2989...60_5498963310'>,\n",
       " <Publication.uid='r3_prod_2989...701_244395624'>,\n",
       " <Publication.uid='r3_prod_2989...22_1526756917'>,\n",
       " <Publication.uid='r3_prod_2989...1824607215616'>,\n",
       " <Publication.uid='r3_prod_2989...092_341551699'>,\n",
       " <Publication.uid='r3_prod_2989...1638954848256'>,\n",
       " <Publication.uid='r3_prod_2989...795_371045183'>,\n",
       " <Publication.uid='r3_prod_2989...33_5498963310'>,\n",
       " <Publication.uid='r3_prod_2989...84_1449194540'>,\n",
       " <Publication.uid='r3_prod_2989...12_6655989313'>,\n",
       " <Publication.uid='r3_prod_2989...0815780761600'>,\n",
       " <Publication.uid='r3_prod_2989...03_7563501789'>,\n",
       " <Publication.uid='r3_prod_2989...0390_46524479'>,\n",
       " <Publication.uid='r3_prod_2989...0557193531394'>,\n",
       " <Publication.uid='r3_prod_2989...49_5736364413'>,\n",
       " <Publication.uid='r3_prod_2989...0286488924162'>,\n",
       " <Publication.uid='r3_prod_2989...36_5498963310'>,\n",
       " <Publication.uid='r3_prod_2989...9803275640832'>,\n",
       " <Publication.uid='r3_prod_2989...40_5498963310'>,\n",
       " <Publication.uid='r3_prod_2989...517_189894348'>,\n",
       " <Publication.uid='r3_prod_2989...93_4010066089'>,\n",
       " <Publication.uid='r3_prod_2989...335_394184473'>,\n",
       " <Publication.uid='r3_prod_2989...500_208288456'>,\n",
       " <Publication.uid='r3_prod_2989...1388_46761113'>]"
      ]
     },
     "execution_count": 10,
     "metadata": {},
     "output_type": "execute_result"
    }
   ],
   "source": [
    "publications = project.get_publications(param)\n",
    "publications"
   ]
  },
  {
   "cell_type": "markdown",
   "metadata": {},
   "source": [
    "Here, we have used the ``start`` and ``limit`` parameter to have some pagination effect in the result. To have the next range of publications, you can use the ``next_page`` method of ``SearchPublicationParameter``. "
   ]
  },
  {
   "cell_type": "code",
   "execution_count": 11,
   "metadata": {},
   "outputs": [
    {
     "data": {
      "text/plain": [
       "[<Publication.uid='r3_prod_2989...44_5498963310'>,\n",
       " <Publication.uid='r3_prod_2989...26_7411957923'>,\n",
       " <Publication.uid='r3_prod_2989...53_5938307156'>,\n",
       " <Publication.uid='r3_prod_2989...8704573632512'>,\n",
       " <Publication.uid='r3_prod_2989...97_6678759480'>,\n",
       " <Publication.uid='r3_prod_2989...4940_46524479'>,\n",
       " <Publication.uid='r3_prod_2989...76_2948040594'>,\n",
       " <Publication.uid='r3_prod_2989...7492788723712'>,\n",
       " <Publication.uid='r3_prod_2989...7442503180288'>,\n",
       " <Publication.uid='r3_prod_2989...44_3989006961'>,\n",
       " <Publication.uid='r3_prod_2989...205_244395624'>,\n",
       " <Publication.uid='r3_prod_2989...47_5498963310'>,\n",
       " <Publication.uid='r3_prod_2989...55_3989006961'>,\n",
       " <Publication.uid='r3_prod_2989...76_3989006961'>,\n",
       " <Publication.uid='r3_prod_2989...97_6876003702'>,\n",
       " <Publication.uid='r3_prod_2989...93_7424024320'>,\n",
       " <Publication.uid='r3_prod_2989...578_482170296'>,\n",
       " <Publication.uid='r3_prod_2989...30_5498963310'>,\n",
       " <Publication.uid='r3_prod_2989...6223718203392'>,\n",
       " <Publication.uid='r3_prod_2989...37_7237802340'>,\n",
       " <Publication.uid='r3_prod_2989...00_6174260229'>,\n",
       " <Publication.uid='r3_prod_2989...48_5757276593'>,\n",
       " <Publication.uid='r3_prod_2989...5986253484032'>,\n",
       " <Publication.uid='r3_prod_2989...15_5791415994'>,\n",
       " <Publication.uid='r3_prod_2989...92_6677227931'>,\n",
       " <Publication.uid='r3_prod_2989...17_3981908784'>,\n",
       " <Publication.uid='r3_prod_2989...58_7494110341'>,\n",
       " <Publication.uid='r3_prod_2989...12_3248055940'>,\n",
       " <Publication.uid='r3_prod_2989...5313667526659'>,\n",
       " <Publication.uid='r3_prod_2989...76_1290662294'>]"
      ]
     },
     "execution_count": 11,
     "metadata": {},
     "output_type": "execute_result"
    }
   ],
   "source": [
    "publications = project.get_publications(param.next_page())\n",
    "publications"
   ]
  },
  {
   "cell_type": "markdown",
   "metadata": {},
   "source": [
    "To retrieve all publications, you can use the ``get_all_publications`` method of a project (or ``fetch_all`` of ``Publication``). This method will return a generator which yields a publication.\n",
    "\n",
    "<div class=\"alert alert-warning\">\n",
    "The number of publications can be very high and consequently, a great number of request will be performed.\n",
    "<div>"
   ]
  },
  {
   "cell_type": "code",
   "execution_count": 12,
   "metadata": {},
   "outputs": [
    {
     "data": {
      "text/plain": [
       "<PublicationsGenerator.total=706954.total_page=23566>"
      ]
     },
     "execution_count": 12,
     "metadata": {},
     "output_type": "execute_result"
    }
   ],
   "source": [
    "all_publications = project.get_all_publications(param)\n",
    "all_publications"
   ]
  },
  {
   "cell_type": "code",
   "execution_count": 13,
   "metadata": {},
   "outputs": [
    {
     "data": {
      "text/plain": [
       "<Publication.uid='r3_prod_2989...44_5498963310'>"
      ]
     },
     "execution_count": 13,
     "metadata": {},
     "output_type": "execute_result"
    }
   ],
   "source": [
    "next(all_publications)"
   ]
  },
  {
   "cell_type": "markdown",
   "metadata": {},
   "source": [
    "### Explore a publication"
   ]
  },
  {
   "cell_type": "markdown",
   "metadata": {},
   "source": [
    "All the methods seen previously return a list (or generator) of ``Publication``. The ``Publication`` object inherits from the ``SourceModel`` and stores qualitative information. Thus, the structure of ``Publication`` can be explored with ``draw_structure`` and the special ``__getitem__`` method."
   ]
  },
  {
   "cell_type": "code",
   "execution_count": 14,
   "metadata": {},
   "outputs": [
    {
     "data": {
      "text/plain": [
       "<Publication.uid='r3_prod_2989...44_5498963310'>"
      ]
     },
     "execution_count": 14,
     "metadata": {},
     "output_type": "execute_result"
    }
   ],
   "source": [
    "publications = project.get_publications(param)\n",
    "publication = publications[0]\n",
    "publication"
   ]
  },
  {
   "cell_type": "code",
   "execution_count": 15,
   "metadata": {},
   "outputs": [
    {
     "name": "stdout",
     "output_type": "stream",
     "text": [
      "Publication \u001b[94m(Publication)\u001b[0m\n",
      "| category \u001b[91m(None)\u001b[0m\n",
      "| date \u001b[94m(datetime)\u001b[0m\n",
      "| engagement_score \u001b[94m(int)\u001b[0m\n",
      "| focuses \u001b[94m(list)\u001b[0m\n",
      "| geo \u001b[94m(dict)\u001b[0m\n",
      "| | given \u001b[94m(dict)\u001b[0m\n",
      "| | inferred \u001b[94m(dict)\u001b[0m\n",
      "| highlights \u001b[91m(None)\u001b[0m\n",
      "| id \u001b[94m(str)\u001b[0m\n",
      "| impression \u001b[94m(int)\u001b[0m\n",
      "| is_story \u001b[94m(bool)\u001b[0m\n",
      "| keyword \u001b[94m(list)\u001b[0m\n",
      "| lang \u001b[94m(str)\u001b[0m\n",
      "| media \u001b[94m(dict)\u001b[0m\n",
      "| | image \u001b[94m(list[str])\u001b[0m\n",
      "| | meta \u001b[91m(None)\u001b[0m\n",
      "| | video \u001b[94m(list)\u001b[0m\n",
      "| origin \u001b[94m(dict)\u001b[0m\n",
      "| | detailed \u001b[94m(str)\u001b[0m\n",
      "| | platform \u001b[94m(str)\u001b[0m\n",
      "| | source \u001b[94m(str)\u001b[0m\n",
      "| permalink \u001b[94m(str)\u001b[0m\n",
      "| pid \u001b[94m(int)\u001b[0m\n",
      "| radar \u001b[94m(dict)\u001b[0m\n",
      "| | created \u001b[94m(datetime)\u001b[0m\n",
      "| | favorite \u001b[94m(bool)\u001b[0m\n",
      "| | tag \u001b[91m(None)\u001b[0m\n",
      "| | trash \u001b[94m(bool)\u001b[0m\n",
      "| | updated \u001b[94m(datetime)\u001b[0m\n",
      "| | user_updated \u001b[91m(None)\u001b[0m\n",
      "| reach \u001b[94m(int)\u001b[0m\n",
      "| score \u001b[94m(dict)\u001b[0m\n",
      "| | comment \u001b[94m(int)\u001b[0m\n",
      "| | impression \u001b[91m(None)\u001b[0m\n",
      "| | like \u001b[94m(int)\u001b[0m\n",
      "| | reach \u001b[91m(None)\u001b[0m\n",
      "| | story \u001b[91m(None)\u001b[0m\n",
      "| text \u001b[94m(str)\u001b[0m\n",
      "| tone \u001b[94m(str)\u001b[0m\n",
      "| type \u001b[94m(str)\u001b[0m\n",
      "| uid \u001b[94m(str)\u001b[0m\n",
      "| user \u001b[94m(dict)\u001b[0m\n",
      "| | account_type \u001b[94m(str)\u001b[0m\n",
      "| | birth_date \u001b[91m(None)\u001b[0m\n",
      "| | business_id \u001b[91m(None)\u001b[0m\n",
      "| | followers \u001b[94m(int)\u001b[0m\n",
      "| | gender \u001b[94m(str)\u001b[0m\n",
      "| | id \u001b[94m(int)\u001b[0m\n",
      "| | id_str \u001b[94m(str)\u001b[0m\n",
      "| | name \u001b[94m(str)\u001b[0m\n",
      "| | profile_img \u001b[94m(str)\u001b[0m\n",
      "| | screen_name \u001b[94m(str)\u001b[0m\n",
      "| | verified \u001b[91m(None)\u001b[0m\n"
     ]
    }
   ],
   "source": [
    "publication.draw_structure(max_depth=2)"
   ]
  },
  {
   "cell_type": "markdown",
   "metadata": {},
   "source": [
    "We will not give the details for each attribute but only for the most useful: `user` stores some information about the author of the publication, `score` is a dictionary with some statistics about the publication (comment, like, share...), `permalink` is the address of the publication, `origin` stores information about the origin platform and `media` is a dictionary with the link to the content of the publication."
   ]
  },
  {
   "cell_type": "code",
   "execution_count": 16,
   "metadata": {},
   "outputs": [
    {
     "data": {
      "image/jpeg": "[encoded data removed]",
      "text/plain": [
       "<IPython.core.display.Image object>"
      ]
     },
     "execution_count": 16,
     "metadata": {},
     "output_type": "execute_result"
    }
   ],
   "source": [
    "from IPython.display import Image\n",
    "Image(publication.media['image'][0])"
   ]
  },
  {
   "cell_type": "code",
   "execution_count": 17,
   "metadata": {},
   "outputs": [
    {
     "name": "stdout",
     "output_type": "stream",
     "text": [
      "Imperial jade, when only the happiest green will do.\n",
      "\n",
      "#millionaire #millionairelifestyle #millionairelife #billionaire #firstclass #bestofthebest #luxurylifestyle #richlife #richkidsofinstagram #richkids #richgang #topyacht #yacht #yachts #monaco #dubai #dubailife #wealth #wealthy #milliardaire #royal #royals #royallife #royalfamily #prince #princes #princess #ferrari #lamborghini #rolex\n"
     ]
    }
   ],
   "source": [
    "print(publication.text)"
   ]
  },
  {
   "cell_type": "markdown",
   "metadata": {},
   "source": [
    "Thanks to the ``download`` method of ``Publication``, you can download the images or videos related to a publication. The ``download`` will try to download all media contents to obtain a local version of the data."
   ]
  },
  {
   "cell_type": "code",
   "execution_count": 18,
   "metadata": {},
   "outputs": [
    {
     "data": {
      "text/plain": [
       "{'image': ['https://scontent.cdninstagram.com/vp/426da26c4e4dc1e7f50e7216ba3212fa/5B7AB53C/t51.2885-15/s640x640/sh0.08/e35/31097070_1887599584598064_5816790366363320320_n.jpg'],\n",
       " 'meta': None,\n",
       " 'video': []}"
      ]
     },
     "execution_count": 18,
     "metadata": {},
     "output_type": "execute_result"
    }
   ],
   "source": [
    "publication.media"
   ]
  },
  {
   "cell_type": "code",
   "execution_count": 19,
   "metadata": {},
   "outputs": [
    {
     "data": {
      "text/plain": [
       "{'image': ['/Users/alexandre/Documents/Linkfluence/packages/radarly-py/docs/python/quickstart/31097070_1887599584598064_5816790366363320320_n.jpg'],\n",
       " 'video': []}"
      ]
     },
     "execution_count": 19,
     "metadata": {},
     "output_type": "execute_result"
    }
   ],
   "source": [
    "publication.download(output_dir=None)"
   ]
  },
  {
   "cell_type": "markdown",
   "metadata": {},
   "source": [
    "Several methods have been implemented to get more information from the API about a publication. You can for example get all metadata information with ``get_metadata`` method."
   ]
  },
  {
   "cell_type": "code",
   "execution_count": 20,
   "metadata": {},
   "outputs": [
    {
     "data": {
      "text/plain": [
       "<Metadata.did=r3_prod_2-600249433620525056>"
      ]
     },
     "execution_count": 20,
     "metadata": {},
     "output_type": "execute_result"
    }
   ],
   "source": [
    "publication = Publication.fetch(2, {'query':'uid:r3_prod_2-600249433620525056'})[0]\n",
    "metadata = publication.get_metadata()\n",
    "metadata"
   ]
  },
  {
   "cell_type": "code",
   "execution_count": 21,
   "metadata": {},
   "outputs": [
    {
     "name": "stdout",
     "output_type": "stream",
     "text": [
      "Metadata \u001b[94m(Metadata)\u001b[0m\n",
      "| did \u001b[94m(str)\u001b[0m\n",
      "| trends \u001b[94m(list[dict])\u001b[0m\n",
      "| | date \u001b[94m(datetime)\u001b[0m\n",
      "| | scores \u001b[94m(dict)\u001b[0m\n",
      "| | | favourite \u001b[94m(int)\u001b[0m\n",
      "| | | rt \u001b[94m(int)\u001b[0m\n"
     ]
    }
   ],
   "source": [
    "metadata.draw_structure()"
   ]
  },
  {
   "cell_type": "markdown",
   "metadata": {},
   "source": [
    "You can also retrieve the raw content of a publication (available for forum or blog publications)."
   ]
  },
  {
   "cell_type": "code",
   "execution_count": 22,
   "metadata": {
    "scrolled": true
   },
   "outputs": [
    {
     "data": {
      "text/plain": [
       "{'text': '<p><br/>Продано<br/></p>',\n",
       " 'title': 'Rolex Datejust II 41mm White Gold & Steel & Diamonds'}"
      ]
     },
     "execution_count": 22,
     "metadata": {},
     "output_type": "execute_result"
    }
   ],
   "source": [
    "publication = project.get_publications({'platforms': ['forum']})[0]\n",
    "raw_content = publication.get_raw()\n",
    "raw_content"
   ]
  },
  {
   "cell_type": "markdown",
   "metadata": {},
   "source": [
    "### Update a publication"
   ]
  },
  {
   "cell_type": "markdown",
   "metadata": {},
   "source": [
    "You can update some fields of a publication. For example, you can update the tone, language and country of origin of a post or set some custom fields you have previously defined. To update a post with the client, you can use the ``Publication``'s method ``set_tags``. This method takes, as arguments, the new field you want to set on the post.\n",
    "\n",
    "<div class=\"alert alert-warning\">\n",
    "In order to use this method, you must have write permission on your project.\n",
    "</div>"
   ]
  },
  {
   "cell_type": "markdown",
   "metadata": {},
   "source": [
    "Example: Lets's say that you want to update the first five publications published the 1st of July and set a keyword to all posts, update the country of origin and set a custom field. First, you have to retrieve these publications."
   ]
  },
  {
   "cell_type": "code",
   "execution_count": 23,
   "metadata": {},
   "outputs": [
    {
     "data": {
      "text/plain": [
       "[<Publication.uid='r3_prod_2989...7960335324701'>,\n",
       " <Publication.uid='r3_prod_2989...33_5988463525'>,\n",
       " <Publication.uid='r3_prod_2989...2807958163456'>,\n",
       " <Publication.uid='r3_prod_2989...5015662940452'>,\n",
       " <Publication.uid='r3_prod_2989...2657852420101'>]"
      ]
     },
     "execution_count": 23,
     "metadata": {},
     "output_type": "execute_result"
    }
   ],
   "source": [
    "from radarly.constants import BY, ORDER\n",
    "\n",
    "start_date = datetime(2018, 7, 1)\n",
    "end_date = datetime(2018, 7, 1, 23, 59, 59)\n",
    "param = Payload() \\\n",
    "    .publication_date(start_date, end_date) \\\n",
    "    .focuses(include=watch_dashboard.focuses) \\\n",
    "    .pagination(start=0, limit=5) \\\n",
    "    .sort_by(BY.DATE) \\\n",
    "    .sort_order(ORDER.DESCENDANT)\n",
    "publications = project.get_publications(param)\n",
    "publications"
   ]
  },
  {
   "cell_type": "markdown",
   "metadata": {},
   "source": [
    "Once you have your publications, you can set the new fields by calling the ``set_tags`` method."
   ]
  },
  {
   "cell_type": "code",
   "execution_count": 24,
   "metadata": {},
   "outputs": [],
   "source": [
    "# for publication in publications:\n",
    "#    publication.set_tags(tone='neutral',\n",
    "#                         keywords=['UPDATE_WITH_CLIENT'],\n",
    "#                         custom_tags={'Reviews': ['Review']})"
   ]
  },
  {
   "cell_type": "markdown",
   "metadata": {},
   "source": [
    "This method returns nothing if the update was successful otherwise it will raise a ``PublicationUpdateFailed`` defined in ``radarly.exceptions``. It will update the publication in Radarly as well as the ``Publication`` object."
   ]
  },
  {
   "cell_type": "markdown",
   "metadata": {},
   "source": [
    "You can check the inline documentation to get additional information about this method."
   ]
  },
  {
   "cell_type": "code",
   "execution_count": 25,
   "metadata": {},
   "outputs": [
    {
     "name": "stdout",
     "output_type": "stream",
     "text": [
      "Help on method set_tags in module radarly.publication:\n",
      "\n",
      "set_tags(*args, **kwargs) method of radarly.publication.Publication instance\n",
      "    Update some information about a publication in Radarly. This\n",
      "    method is based on the ``set_publication_tags`` function defined in\n",
      "    the same module.\n",
      "    \n",
      "    .. warning:: Unlike the ``set_publication_tags``, this function returns\n",
      "        None in case of success (the ``set_publication_tags`` returns a\n",
      "        ``Publication`` object).\n",
      "    \n",
      "    Args:\n",
      "        tone (str): tone of the publication. Can be `positive`,\n",
      "            `negative`, `mixed` or `neutral`.\n",
      "        language (str): alpha-2, alpha-3, or name of the language\n",
      "        country (str): alpha-2, alpha-3 or name of the country\n",
      "        keywords (list[str]): list of keywords for the publication\n",
      "        custom_tags (dict[str -> list[str]]): value of the custom tags\n",
      "            to set. The template for this argument is::\n",
      "    \n",
      "            {<label of the custom_tag>: [<label of the subtag>]}.\n",
      "    \n",
      "            Example: Given two tags (the first one named ``Product``\n",
      "            with ``Shoes``, ``T-Shirt`` and ``Clothes`` as subtags and\n",
      "            the second one named ``Price`` with ``High``, ``Medium``\n",
      "            and ``Low`` as subtags), a valid value for the ``custom_tags``\n",
      "            could be::\n",
      "    \n",
      "                {'Product': ['Clothes', 'T-Shirt'], 'Price': ['High']}\n",
      "    Raises:\n",
      "        PublicationUpdateFailed: error raised if the publication failed\n",
      "    Returns:\n",
      "        None\n",
      "\n"
     ]
    }
   ],
   "source": [
    "help(publication.set_tags)"
   ]
  },
  {
   "cell_type": "markdown",
   "metadata": {},
   "source": [
    "Given that the API only requires the ``project_id`` , ``uid`` and ``platform`` as parameters to update a publication, it can be tedious to have to recover the full ``Publication`` object just to update your publications. Thus the fonction ``set_publication_tags`` was defined; this function which takes only ``uid`` and ``platform`` as parameter (and the field you want to update). It works in the same way as the ``set_tags`` methods but it returns the updated ``Publication`` object instead of nothing in case of success."
   ]
  },
  {
   "cell_type": "code",
   "execution_count": 26,
   "metadata": {},
   "outputs": [],
   "source": [
    "# for publication in publications:\n",
    "#     set_publication_tags(project_id=project.id,\n",
    "#                          uid=publication.uid,\n",
    "#                          platform=publication.origin['platform'],\n",
    "#                          tone='neutral',\n",
    "#                          custom_tags={'Reviews': ['Review']})"
   ]
  }
 ],
 "metadata": {
  "kernelspec": {
   "display_name": "Python 3",
   "language": "python",
   "name": "python3"
  },
  "language_info": {
   "codemirror_mode": {
    "name": "ipython",
    "version": 3
   },
   "file_extension": ".py",
   "mimetype": "text/x-python",
   "name": "python",
   "nbconvert_exporter": "python",
   "pygments_lexer": "ipython3",
   "version": "3.6.5"
  }
 },
 "nbformat": 4,
 "nbformat_minor": 2
}
