{
 "cells": [
  {
   "cell_type": "markdown",
   "metadata": {},
   "source": [
    "## About Influencers"
   ]
  },
  {
   "cell_type": "markdown",
   "metadata": {},
   "source": [
    "Radarly gives you the opportunity to know all your influencers (authors of publications). The ``Influencer`` object defined in ``radarly.influencer`` stores qualitative and quantitative information about an influencer."
   ]
  },
  {
   "cell_type": "code",
   "execution_count": 1,
   "metadata": {},
   "outputs": [
    {
     "data": {
      "text/plain": [
       "<Project.pid=2989.label=Luxury [OFFICIAL DEMO]>"
      ]
     },
     "execution_count": 1,
     "metadata": {},
     "output_type": "execute_result"
    }
   ],
   "source": [
    "from datetime import datetime\n",
    "from radarly import RadarlyApi\n",
    "from radarly.project import Project\n",
    "import pandas as pd\n",
    "\n",
    "RadarlyApi.init()\n",
    "\n",
    "project = Project.find(pid=2989)\n",
    "project"
   ]
  },
  {
   "cell_type": "code",
   "execution_count": 2,
   "metadata": {},
   "outputs": [
    {
     "data": {
      "text/plain": [
       "<Dashboard.id=10389.label=1. Watch Brands>"
      ]
     },
     "execution_count": 2,
     "metadata": {},
     "output_type": "execute_result"
    }
   ],
   "source": [
    "dashboard = project.dashboards[0]\n",
    "dashboard"
   ]
  },
  {
   "cell_type": "markdown",
   "metadata": {},
   "source": [
    "### Find Influencers"
   ]
  },
  {
   "cell_type": "markdown",
   "metadata": {},
   "source": [
    "A list of influencers can be obtained by calling the ``get_influencers`` method of a ``Project`` object or with the ``fetch`` class method of ``Influencer``. As most routes of Radarly's API, a payload must be sent to configure the set of publications on which you want to work and some parameters of the response (pagination, how to sort the results...). For example, we will retrieve all the Instagram's influencers, by restraining the publications of the project to those in the \"Watch Brands\" dashboard."
   ]
  },
  {
   "cell_type": "code",
   "execution_count": 3,
   "metadata": {},
   "outputs": [],
   "source": [
    "from radarly.constants import BY, PLATFORM, ORDER\n",
    "from radarly.parameters import InfluencerParameter"
   ]
  },
  {
   "cell_type": "code",
   "execution_count": 4,
   "metadata": {
    "scrolled": false
   },
   "outputs": [
    {
     "data": {
      "text/plain": [
       "[<Influencer.id=305346070.platform=instagram>,\n",
       " <Influencer.id=1165531538.platform=instagram>,\n",
       " <Influencer.id=5498963310.platform=instagram>,\n",
       " <Influencer.id=210952396.platform=instagram>,\n",
       " <Influencer.id=321197158.platform=instagram>,\n",
       " <Influencer.id=1090069857.platform=instagram>,\n",
       " <Influencer.id=2046309246.platform=instagram>,\n",
       " <Influencer.id=5595119.platform=instagram>,\n",
       " <Influencer.id=273112457.platform=instagram>,\n",
       " <Influencer.id=1330367523.platform=instagram>,\n",
       " <Influencer.id=2199682179.platform=instagram>,\n",
       " <Influencer.id=220172325.platform=instagram>,\n",
       " <Influencer.id=197276972.platform=instagram>,\n",
       " <Influencer.id=16516077.platform=instagram>,\n",
       " <Influencer.id=1561669529.platform=instagram>,\n",
       " <Influencer.id=1129500594.platform=instagram>,\n",
       " <Influencer.id=1463256715.platform=instagram>,\n",
       " <Influencer.id=1557164184.platform=instagram>,\n",
       " <Influencer.id=208101486.platform=instagram>,\n",
       " <Influencer.id=3255807.platform=instagram>,\n",
       " <Influencer.id=1345036360.platform=instagram>,\n",
       " <Influencer.id=4284536616.platform=instagram>,\n",
       " <Influencer.id=3532292599.platform=instagram>,\n",
       " <Influencer.id=990689494.platform=instagram>,\n",
       " <Influencer.id=22686243.platform=instagram>]"
      ]
     },
     "execution_count": 4,
     "metadata": {},
     "output_type": "execute_result"
    }
   ],
   "source": [
    "param = InfluencerParameter() \\\n",
    "    .platforms(PLATFORM.INSTAGRAM) \\\n",
    "    .focuses(include=dashboard.focuses) \\\n",
    "    .sort_by(BY.INFLUENCER_REACH) \\\n",
    "    .sort_order(ORDER.DESCENDANT) \\\n",
    "    .pagination(0, 25)\n",
    "    \n",
    "influencers = project.get_influencers(param)\n",
    "# it is the same as: Influencer.fetch(project.id, param)\n",
    "influencers"
   ]
  },
  {
   "cell_type": "markdown",
   "metadata": {},
   "source": [
    "This method returns a list of ``Influencer`` that we will explore later.\n",
    "\n",
    "Here we have only the first 25 influencers. To get all the influencers, you can use the ``get_all_influencers`` method which will return a generator which yields ``Influencer`` object."
   ]
  },
  {
   "cell_type": "code",
   "execution_count": 5,
   "metadata": {
    "scrolled": true
   },
   "outputs": [
    {
     "data": {
      "text/plain": [
       "<InfluencersGenerator.total=1000.total_page=40>"
      ]
     },
     "execution_count": 5,
     "metadata": {},
     "output_type": "execute_result"
    }
   ],
   "source": [
    "all_influencers = project.get_all_influencers(param)\n",
    "all_influencers"
   ]
  },
  {
   "cell_type": "code",
   "execution_count": 6,
   "metadata": {},
   "outputs": [
    {
     "data": {
      "text/plain": [
       "<Influencer.id=305346070.platform=instagram>"
      ]
     },
     "execution_count": 6,
     "metadata": {},
     "output_type": "execute_result"
    }
   ],
   "source": [
    "influencer = next(all_influencers)\n",
    "influencer"
   ]
  },
  {
   "cell_type": "markdown",
   "metadata": {},
   "source": [
    "### Explore an ``Influencer`` object"
   ]
  },
  {
   "cell_type": "markdown",
   "metadata": {},
   "source": [
    "The ``Influencer`` object inherits from ``SourceModel``sou you can use the ``draw_structure`` method and the special ``__getitem__`` method."
   ]
  },
  {
   "cell_type": "code",
   "execution_count": 7,
   "metadata": {},
   "outputs": [
    {
     "data": {
      "text/plain": [
       "<Influencer.id=305346070.platform=instagram>"
      ]
     },
     "execution_count": 7,
     "metadata": {},
     "output_type": "execute_result"
    }
   ],
   "source": [
    "influencer = influencers[0]\n",
    "influencer"
   ]
  },
  {
   "cell_type": "code",
   "execution_count": 8,
   "metadata": {},
   "outputs": [
    {
     "name": "stdout",
     "output_type": "stream",
     "text": [
      "Influencer \u001b[94m(Influencer)\u001b[0m\n",
      " | comment \u001b[91m(None)\u001b[0m\n",
      " | count \u001b[94m(int)\u001b[0m\n",
      " | description \u001b[91m(None)\u001b[0m\n",
      " | email \u001b[94m(list)\u001b[0m\n",
      " | engagement \u001b[94m(int)\u001b[0m\n",
      " | followers \u001b[94m(int)\u001b[0m\n",
      " | followers_count \u001b[94m(int)\u001b[0m\n",
      " | followings_count \u001b[94m(int)\u001b[0m\n",
      " | gender \u001b[91m(None)\u001b[0m\n",
      " | has_children \u001b[91m(None)\u001b[0m\n",
      " | id \u001b[94m(int)\u001b[0m\n",
      " | id_str \u001b[94m(str)\u001b[0m\n",
      " | impressions \u001b[94m(int)\u001b[0m\n",
      " | in_relationship \u001b[91m(None)\u001b[0m\n",
      " | name \u001b[94m(str)\u001b[0m\n",
      " | occupation \u001b[94m(list)\u001b[0m\n",
      " | permalink \u001b[94m(str)\u001b[0m\n",
      " | platform \u001b[94m(str)\u001b[0m\n",
      " | profile_img \u001b[94m(str)\u001b[0m\n",
      " | project_id \u001b[94m(int)\u001b[0m\n",
      " | reach \u001b[94m(int)\u001b[0m\n",
      " | screen_name \u001b[94m(str)\u001b[0m\n",
      " | social_account \u001b[94m(dict)\u001b[0m\n",
      " |  | facebook \u001b[91m(None)\u001b[0m\n",
      " |  | instagram \u001b[91m(None)\u001b[0m\n",
      " |  | o_website \u001b[94m(list)\u001b[0m\n",
      " |  | twitter \u001b[91m(None)\u001b[0m\n",
      " |  | website \u001b[94m(str)\u001b[0m\n",
      " | stats \u001b[94m(dict)\u001b[0m\n",
      " |  | doc \u001b[94m(dict)\u001b[0m\n",
      " | statuses_count \u001b[94m(int)\u001b[0m\n",
      " | tags \u001b[94m(list)\u001b[0m\n",
      " | telephone \u001b[91m(None)\u001b[0m\n",
      " | uid \u001b[94m(str)\u001b[0m\n",
      " | verified \u001b[91m(None)\u001b[0m\n"
     ]
    }
   ],
   "source": [
    "influencer.draw_structure(max_depth=2)"
   ]
  },
  {
   "cell_type": "code",
   "execution_count": 9,
   "metadata": {},
   "outputs": [
    {
     "data": {
      "text/plain": [
       "'https//tag.hr/ConnectedWatchManU'"
      ]
     },
     "execution_count": 9,
     "metadata": {},
     "output_type": "execute_result"
    }
   ],
   "source": [
    "influencer['$.social_account.website']"
   ]
  },
  {
   "cell_type": "markdown",
   "metadata": {},
   "source": [
    "Most of the attributes of ``Influencer`` stores information about the author (his/her name, screen name, occupations, profile image, link to his/her page profile...)."
   ]
  },
  {
   "cell_type": "code",
   "execution_count": 10,
   "metadata": {},
   "outputs": [
    {
     "name": "stdout",
     "output_type": "stream",
     "text": [
      "ID              305346070\n",
      "Name            TAG Heuer\n",
      "fans            tagheuer\n",
      "permalink       https://instagram.com/tagheuer\n",
      "platform        instagram\n"
     ]
    }
   ],
   "source": [
    "print('ID'.ljust(15), influencer.id)\n",
    "print('Name'.ljust(15), influencer.name)\n",
    "print('fans'.ljust(15), influencer.screen_name)\n",
    "print('permalink'.ljust(15), influencer.permalink)\n",
    "print('platform'.ljust(15), influencer.platform)"
   ]
  },
  {
   "cell_type": "markdown",
   "metadata": {},
   "source": [
    "Besides, you can also have some useful quantitative data like the number of followers he/she has, the volume of engagement actions he/she has generated..."
   ]
  },
  {
   "cell_type": "code",
   "execution_count": 11,
   "metadata": {},
   "outputs": [
    {
     "name": "stdout",
     "output_type": "stream",
     "text": [
      "Estimated reach: 110095376\n",
      "Engagement actions generated: 5162837\n",
      "Number of followers: 1640307\n"
     ]
    }
   ],
   "source": [
    "print('Estimated reach:', influencer.reach)\n",
    "print('Engagement actions generated:', influencer.engagement)\n",
    "print('Number of followers:', influencer.followers_count)"
   ]
  },
  {
   "cell_type": "markdown",
   "metadata": {},
   "source": [
    "The ``stats``attribute store some basic statistics about the publications of this influencer."
   ]
  },
  {
   "cell_type": "code",
   "execution_count": 12,
   "metadata": {},
   "outputs": [
    {
     "data": {
      "text/html": [
       "<div>\n",
       "<style scoped>\n",
       "    .dataframe tbody tr th:only-of-type {\n",
       "        vertical-align: middle;\n",
       "    }\n",
       "\n",
       "    .dataframe tbody tr th {\n",
       "        vertical-align: top;\n",
       "    }\n",
       "\n",
       "    .dataframe thead th {\n",
       "        text-align: right;\n",
       "    }\n",
       "</style>\n",
       "<table border=\"1\" class=\"dataframe\">\n",
       "  <thead>\n",
       "    <tr style=\"text-align: right;\">\n",
       "      <th></th>\n",
       "      <th></th>\n",
       "      <th>doc</th>\n",
       "    </tr>\n",
       "  </thead>\n",
       "  <tbody>\n",
       "    <tr>\n",
       "      <th>lang</th>\n",
       "      <th>en</th>\n",
       "      <td>473</td>\n",
       "    </tr>\n",
       "    <tr>\n",
       "      <th rowspan=\"4\" valign=\"top\">tone</th>\n",
       "      <th>mixed</th>\n",
       "      <td>4</td>\n",
       "    </tr>\n",
       "    <tr>\n",
       "      <th>negative</th>\n",
       "      <td>1</td>\n",
       "    </tr>\n",
       "    <tr>\n",
       "      <th>neutral</th>\n",
       "      <td>1</td>\n",
       "    </tr>\n",
       "    <tr>\n",
       "      <th>positive</th>\n",
       "      <td>467</td>\n",
       "    </tr>\n",
       "  </tbody>\n",
       "</table>\n",
       "</div>"
      ],
      "text/plain": [
       "               doc\n",
       "lang en        473\n",
       "tone mixed       4\n",
       "     negative    1\n",
       "     neutral     1\n",
       "     positive  467"
      ]
     },
     "execution_count": 12,
     "metadata": {},
     "output_type": "execute_result"
    }
   ],
   "source": [
    "pd.DataFrame(influencer.stats)"
   ]
  }
 ],
 "metadata": {
  "kernelspec": {
   "display_name": "Python 3",
   "language": "python",
   "name": "python3"
  },
  "language_info": {
   "codemirror_mode": {
    "name": "ipython",
    "version": 3
   },
   "file_extension": ".py",
   "mimetype": "text/x-python",
   "name": "python",
   "nbconvert_exporter": "python",
   "pygments_lexer": "ipython3",
   "version": "3.6.4"
  }
 },
 "nbformat": 4,
 "nbformat_minor": 2
}
